{
 "cells": [
  {
   "cell_type": "code",
   "execution_count": null,
   "id": "5f4baafb-2604-438b-9bf5-4602d8589414",
   "metadata": {
    "jupyter": {
     "outputs_hidden": true
    },
    "tags": []
   },
   "outputs": [],
   "source": [
    "import pandas as pd\n",
    "import numpy as np\n",
    "import yfinance as yf\n",
    "from scipy.optimize import minimize\n",
    "import matplotlib.pyplot as plt\n",
    "from datetime import date\n",
    "\n",
    "\n",
    "\n",
    "symbols  = [ 'SPY', \"QQQ\", \"VGK\", \"SCZ\", \"EWJ\", \"EEM\", #eq\n",
    "           'REM', \"VNQ\", \"RWX\", # re\n",
    "           'TIP', \"IEF\", \"TLT\", \"BWX\", #fi\n",
    "           'DBC', \"GLD\", #como\n",
    "           'twtr', 'intc', 'tsm',\"VWUSX\", \"Amc\"]\n",
    "\n",
    "all_stocks = pd.DataFrame()\n",
    " \n",
    "for symbol in symbols:\n",
    "    tmp_close = yf.download(symbol, \n",
    "                      start='2020-01-01', \n",
    "                      end= date.today(),\n",
    "                      interval = \"1d\",\n",
    "                      threads = True,\n",
    "                      progress=False)['Adj Close']\n",
    "    all_stocks = pd.concat([all_stocks, tmp_close], axis=1)\n",
    "\n",
    "all_stocks.columns=symbols\n",
    "all_stocks"
   ]
  },
  {
   "cell_type": "code",
   "execution_count": null,
   "id": "ea345e23-a680-4e5f-9525-b8905d779af9",
   "metadata": {
    "jupyter": {
     "outputs_hidden": true
    },
    "tags": []
   },
   "outputs": [],
   "source": [
    "returns = np.log(all_stocks/all_stocks.shift(1))\n",
    "returns.fillna(0)\n",
    "returns = returns.iloc[1: , :]\n",
    "returns.iloc[0:253 , :]"
   ]
  },
  {
   "cell_type": "markdown",
   "id": "74e0b93a",
   "metadata": {},
   "source": [
    "Prix des actions à l'instant t-1"
   ]
  },
  {
   "cell_type": "code",
   "execution_count": null,
   "id": "fbee18cb-e902-4703-9bac-add001126c34",
   "metadata": {},
   "outputs": [],
   "source": [
    "vp = all_stocks[-1::].values[0]\n",
    "vp"
   ]
  },
  {
   "cell_type": "markdown",
   "id": "dfec369f",
   "metadata": {},
   "source": [
    "Initialisation des variables"
   ]
  },
  {
   "cell_type": "code",
   "execution_count": null,
   "id": "db622ee2",
   "metadata": {},
   "outputs": [],
   "source": [
    "from scipy.optimize import minimize, Bounds\n",
    "\n",
    "def init():\n",
    "    \n",
    "    global cash, argent_gagne, couts_transaction, s, argent_fait, pf_value, pos, pos2, Money, bounds, lamb, alpha, nb_actifs\n",
    "    \n",
    "    # Paramètres modifiables\n",
    "\n",
    "    lamb = 0.01 # Coûts de transaction ; faire attention car sinon il n'y a pas de mouvements de position\n",
    "    alpha = 100 # importance accordée à l'expected return\n",
    "    Money = 1000 # argent alloué pour l'investissement initial\n",
    "    Pos_max_par_actif = 1000 # quantité maximale d'argent investi par actif\n",
    "\n",
    "    # Variables utilisées dans l'algorithme\n",
    "\n",
    "    cash = 0\n",
    "    win = 0\n",
    "    argent_gagne = 0\n",
    "    cout = 0\n",
    "    couts_transaction = 0\n",
    "    s = 0\n",
    "    nb_actifs = returns.shape[1]\n",
    "    argent_fait = []\n",
    "    pf_value = 0\n",
    "\n",
    "    # pos = portefeuille initialement vide\n",
    "    pos = np.array([0 for i in range(nb_actifs)])\n",
    "    pos2 = np.array([0 for i in range(nb_actifs)])\n",
    "    \n",
    "    # Every stock can get any position from 0 to Pos_max_par_actif\n",
    "    bounds = Bounds(0, Pos_max_par_actif)\n",
    "\n",
    "init()"
   ]
  },
  {
   "cell_type": "markdown",
   "id": "60186367",
   "metadata": {},
   "source": [
    "Fonction objectif et coûts de transaction"
   ]
  },
  {
   "cell_type": "code",
   "execution_count": null,
   "id": "8c2ec808",
   "metadata": {},
   "outputs": [],
   "source": [
    "def objective_corr(pos):\n",
    "    global s\n",
    "    \n",
    "    s = pos@correl_matrix@pos - alpha*expected_returns@pos\n",
    "    \n",
    "    # print('\\033[92m'+\"Coûts de transaction: \"+str(TC(Pos,pos))+'\\033[0m')\n",
    "    # print('\\033[93m'+\"Return : \" + str(returns.mean()@pos) + '\\033[0m')\n",
    "    # print('\\033[94m'+\"Somme des positions: \"+str(vp@pos.T)+'\\033[0m')\n",
    "    # print(f\"Les valeurs  du vecteur poids sont:{pos.round(3)}\")\n",
    "    # print(f\"Les valeurs de la fonction objectif:{s.round(3)}\")\n",
    "    return s\n",
    "\n",
    "def TC(pos,pos2):\n",
    "    return lamb*(np.sum(np.array([np.abs(pos2[i]-pos[i]) for i in range(nb_actifs)])))\n"
   ]
  },
  {
   "cell_type": "markdown",
   "id": "5a78b7e4",
   "metadata": {},
   "source": [
    "Import des données roulantes à l'étape i"
   ]
  },
  {
   "cell_type": "code",
   "execution_count": null,
   "id": "184ae67c",
   "metadata": {},
   "outputs": [],
   "source": [
    "def import_donnees(etape):\n",
    "    global expected_returns, correl_matrix, vp, vp2\n",
    "    \n",
    "    # import des données roulantes\n",
    "    log_returns = returns.iloc[etape:253+etape , :]\n",
    "    # calcul des expected returns (on prend une période plus courte)\n",
    "    expected_returns = log_returns.iloc[-15:: ,:].mean()\n",
    "\n",
    "    # calcul de la matrice de corrélation\n",
    "    correl = log_returns.cov().copy()\n",
    "    correl_matrix = correl.to_numpy()\n",
    "\n",
    "    # calcul du vecteur prix des actifs à t (le temps de la décision) et t + 1jour\n",
    "    vp = all_stocks[253+etape::].values[0]\n",
    "    vp2 = all_stocks[254+etape::].values[0]\n"
   ]
  },
  {
   "cell_type": "markdown",
   "id": "84601e72",
   "metadata": {},
   "source": [
    "Calcul du portefeuille initial avec l'argent à investir"
   ]
  },
  {
   "cell_type": "code",
   "execution_count": null,
   "id": "8e41e562",
   "metadata": {},
   "outputs": [],
   "source": [
    "init()\n",
    "\n",
    "# \"ineq\" says that the inequality must be non-negative.\n",
    "\n",
    "cons = ({\"type\":\"ineq\", \"fun\": lambda x: Money - np.sum(np.array(x)) }, \n",
    "        # The positions must invest no more than the initial money.\n",
    "        {\"type\": \"ineq\", \"fun\": lambda x: -(TC(pos,x)+ np.sum(x)) + Money},\n",
    "        # the transactions costs must be covered by the money invested\n",
    "        \n",
    "        # The expected daily return of our portfolio and we want to be at greater than 0.003\n",
    "        #{\"type\": \"ineq\", \"fun\": lambda x: -np.sum(returns.mean()*x)+1})\n",
    "       )\n",
    "\n",
    "# calcul des returns, de la matrice de variance, des vecteurs prix\n",
    "import_donnees(0)\n",
    "\n",
    "# calcul du vecteur position\n",
    "p = minimize(objective_corr, pos, \n",
    "         method = \"SLSQP\", \n",
    "         bounds= bounds,\n",
    "         constraints= cons, options={'maxiter': 300, 'ftol': 1e-09})\n",
    "\n",
    "pos2 = p.x # les positions prises en fin de journée\n",
    "\n",
    "couts_transaction += TC(pos,pos2)\n",
    "\n",
    "# affichage des valeurs numériques\n",
    "print(\"Argent injecté au départ:\", Money)\n",
    "# print('\\033[93m'+\"Return : \" + str(log_returns.mean()@pos) + '\\033[0m')\n",
    "print('\\033[92m'+\"Coûts de transaction: \"+str(couts_transaction)+'\\033[0m')\n",
    "print('\\033[94m'+\"Somme des positions: \"+str(np.sum(pos2))+'\\033[0m')\n",
    "# print(f\"Les valeurs  du vecteur poids sont :{pos2.round(3)}\")\n",
    "# print(f\"La valeur de la fonction objectif est :{s.round(3)}\")\n",
    "\n",
    "# mise à jour du vecteur des positions à chaque actualisation des prix\n",
    "pos = pos2\n",
    "pos2 = np.array([pos[i]*vp2[i]/vp[i] for i in range(nb_actifs)])\n",
    "pf_value = np.sum(pos2) # l'argent dont on dispose dans le portefeuille\n",
    "argent_fait.append(pf_value)\n",
    "argent_gagne += np.sum(pos2-pos) # sans compter les côuts de transaction, les bénéfices \n",
    "# réalisés par l'augmentation des valeurs des actifs\n",
    "print('\\033[95m'+\"Argent généré sans TC : \"+str(argent_gagne)+'\\033[0m')\n",
    "print('\\033[94m'+\"Somme des positions: \"+str(pf_value)+'\\033[0m', \"\\n\")\n",
    "\n",
    "cash = Money - np.sum(np.array(p.x)) - couts_transaction # l'argent que l'algo décide de ne pas investir\n",
    "print(\"cash :\", cash.round(6))"
   ]
  },
  {
   "cell_type": "markdown",
   "id": "af0db3b9",
   "metadata": {},
   "source": [
    "Calcul de l'optimisation roulante"
   ]
  },
  {
   "cell_type": "code",
   "execution_count": null,
   "id": "7b18817e-7340-4544-ad03-ad6761175607",
   "metadata": {
    "jupyter": {
     "outputs_hidden": true
    },
    "scrolled": true,
    "tags": []
   },
   "outputs": [],
   "source": [
    "print('\\033[94m'+\"Somme des positions: \"+str(pf_value)+'\\033[0m')\n",
    "print(\"cash :\", cash.round(6), \"\\n\")\n",
    "\n",
    "for i in range(1,100):\n",
    "    print(f\"étape{i}\")\n",
    "    global correl_matrix, vp, Money, pf_value, pos, pos2, argent_gagne, expected_returns, cout, win, cash\n",
    "    \n",
    "    # actualisation des positions\n",
    "    pos = pos2\n",
    "    \n",
    "    # actualisation des contraintes\n",
    "    cons = ({\"type\":\"ineq\", \"fun\": lambda x: Money - np.sum(np.array(x)) }, \n",
    "        # The positions must invest no more than the initial money.\n",
    "        # This constraints says that the inequalities (ineq) must be non-negative.\n",
    "        {\"type\": \"ineq\", \"fun\": lambda x: -(TC(pos,x) + np.sum((x-pos))) + cash },\n",
    "        # The expected daily return of our portfolio and we want to be at greater than 0.003\n",
    "        #{\"type\": \"ineq\", \"fun\": lambda x: -np.sum(returns.mean()*x)+1})\n",
    "       )\n",
    "    \n",
    "    # calcul des returns, de la matrice de variance, des vecteurs prix\n",
    "    import_donnees(i)\n",
    "    \n",
    "    # calcul du vecteur position\n",
    "    p = minimize(objective_corr, pos, \n",
    "             method = \"SLSQP\", \n",
    "             bounds= bounds,\n",
    "             constraints= cons, options={'maxiter': 300, 'ftol': 1e-09})\n",
    "    \n",
    "    pos2 = p.x # les positions prises en fin de journée\n",
    "    \n",
    "    cout = TC(pos,pos2)\n",
    "    couts_transaction += cout\n",
    "    pf2_value = np.sum(pos2)\n",
    "    \n",
    "    cash_restant = pf_value + cash - (cout + pf2_value) \n",
    "    \n",
    "    cash = cash_restant # l'argent que l'algo décide de ne pas investir\n",
    "    print(\"cash :\", cash.round(6))\n",
    "    \n",
    "    # affichage des valeurs numériques\n",
    "    # print('\\033[92m'+\"Coûts de transaction: \"+str(TC(Pos,pos))+'\\033[0m')\n",
    "    # print('\\033[93m'+\"Return : \" + str(log_returns.mean()@pos) + '\\033[0m')\n",
    "    print('\\033[92m'+\"Coûts de transaction: \"+str(couts_transaction)+'\\033[0m')\n",
    "    print('\\033[94m'+\"Somme des positions: \"+str(pf2_value)+'\\033[0m')\n",
    "    # print(f\"Les valeurs  du vecteur poids sont:{pos2.round(3)}\")\n",
    "    # print(f\"Les valeurs de la fonction objectif:{s.round(3)}\")\n",
    "\n",
    "    # mise à jour du vecteur des positions à chaque actualisation des prix\n",
    "    pos = pos2\n",
    "    pos2 = np.array([pos[i]*vp2[i]/vp[i] for i in range(nb_actifs)])\n",
    "    Money = np.sum(pos2) + cash\n",
    "    argent_fait.append(Money)\n",
    "    win = np.sum(pos2)-np.sum(pos)\n",
    "    argent_gagne += win\n",
    "    pf_value = np.sum(pos2)\n",
    "    print('\\033[95m'+\"Argent généré sans TC : \"+str(argent_gagne)+'\\033[0m')\n",
    "    print('\\033[94m'+\"Somme des positions: \"+str(pf_value)+'\\033[0m')\n",
    "    print('\\033[96m'+\"Money :\"+str(Money)+'\\033[0m', \"\\n\")\n",
    "    \n",
    "    \"\"\"try :\n",
    "        assert (np.round(1000 + argent_gagne - couts_transaction, 6) == np.round(Money,6))\n",
    "    except AssertionError :\n",
    "        print(np.round(1000 + argent_gagne - couts_transaction, 6))\n",
    "        print(np.round(Money,6))\n",
    "        break\"\"\"\n",
    "\n",
    "print(\"\\n\",\"fin du calcul\")"
   ]
  },
  {
   "cell_type": "code",
   "execution_count": null,
   "id": "7a8323f5",
   "metadata": {},
   "outputs": [],
   "source": [
    "plt.plot(argent_fait)\n",
    "plt.title(\"Evolution de la valeur du portfolio\")\n",
    "plt.show()"
   ]
  },
  {
   "cell_type": "code",
   "execution_count": null,
   "id": "ca976b10-6ae8-4978-b090-5a796736e680",
   "metadata": {},
   "outputs": [],
   "source": [
    "pos.round(3)"
   ]
  },
  {
   "cell_type": "code",
   "execution_count": null,
   "id": "817310d9-b1ad-47ff-9f17-9b0988eac3a0",
   "metadata": {
    "scrolled": true
   },
   "outputs": [],
   "source": [
    "plt.plot([p.x[i] * all_stocks[-1::].values[0][i] for i in range(len(p.x))])\n",
    "plt.title(\"Argent investi dans chaque stocks\")\n",
    "plt.show()\n",
    "print(\"L'argent est le plus investi dans l'action: \"+symbols[np.argmax([p.x[i] * all_stocks[-1::].values[0][i] for i in range(len(p.x))])])"
   ]
  },
  {
   "cell_type": "code",
   "execution_count": null,
   "id": "2408f9fd-236c-4eb9-bb72-44c05325d68f",
   "metadata": {},
   "outputs": [],
   "source": [
    "# On a bien investi au plus Money=1000\n",
    "np.dot(vp,p.x.T)"
   ]
  },
  {
   "cell_type": "code",
   "execution_count": null,
   "id": "1c0c702a-3ad8-4bd0-aac6-454374df77bb",
   "metadata": {},
   "outputs": [],
   "source": [
    "# Le returns avec une telle repartition de portefeuille est de:\n",
    "np.sum(returns.mean()*p.x)"
   ]
  },
  {
   "cell_type": "code",
   "execution_count": null,
   "id": "d8d2705e-3603-4609-a646-fba82c5cc4a8",
   "metadata": {},
   "outputs": [],
   "source": [
    "print(\"Nombre d'action acheté pour chaque symbols: \")\n",
    "r = pd.DataFrame([symbols,p.x])\n",
    "for i in range(len(symbols)):\n",
    "    print(symbols[i],p.x[i].round(3))"
   ]
  },
  {
   "cell_type": "code",
   "execution_count": null,
   "id": "0c09806d",
   "metadata": {},
   "outputs": [],
   "source": []
  }
 ],
 "metadata": {
  "kernelspec": {
   "display_name": "Python 3 (ipykernel)",
   "language": "python",
   "name": "python3"
  },
  "language_info": {
   "codemirror_mode": {
    "name": "ipython",
    "version": 3
   },
   "file_extension": ".py",
   "mimetype": "text/x-python",
   "name": "python",
   "nbconvert_exporter": "python",
   "pygments_lexer": "ipython3",
   "version": "3.9.7"
  }
 },
 "nbformat": 4,
 "nbformat_minor": 5
}
