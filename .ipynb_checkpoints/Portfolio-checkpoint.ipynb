{
 "cells": [
  {
   "cell_type": "code",
   "execution_count": 2,
   "metadata": {},
   "outputs": [
    {
     "name": "stdout",
     "output_type": "stream",
     "text": [
      "[*********************100%***********************]  15 of 15 completed\n"
     ]
    }
   ],
   "source": [
    "import yfinance as yf\n",
    "\n",
    "L = [ \"SPY\", \"QQQ\", \"VGK\", \"SCZ\", \"EWJ\", \"EEM\", #eq\n",
    "    \"REM\", \"VNQ\", \"RWX\", # re\n",
    "    \"TIP\", \"IEF\", \"TLT\", \"BWX\", #fi\n",
    "    \"DBC\", \"GLD\" #como\n",
    "    ]\n",
    "\n",
    "mot = ''\n",
    "for l in L : \n",
    "    mot = mot + l +' '\n",
    "    \n",
    "data = yf.download(\n",
    "        tickers = mot,\n",
    "        period = \"10y\",\n",
    "        interval = \"1d\",\n",
    "        group_by = 'ticker', # group by ticker (to access via data['SPY'])\n",
    "        auto_adjust = True, # adjust all OHLC automatically\n",
    "        prepost = False, # download pre/post regular market hours data\n",
    "        threads = True, # use threads for mass downloading?\n",
    "    )"
   ]
  },
  {
   "cell_type": "code",
   "execution_count": 3,
   "metadata": {},
   "outputs": [
    {
     "data": {
      "text/html": [
       "<div>\n",
       "<style scoped>\n",
       "    .dataframe tbody tr th:only-of-type {\n",
       "        vertical-align: middle;\n",
       "    }\n",
       "\n",
       "    .dataframe tbody tr th {\n",
       "        vertical-align: top;\n",
       "    }\n",
       "\n",
       "    .dataframe thead th {\n",
       "        text-align: right;\n",
       "    }\n",
       "</style>\n",
       "<table border=\"1\" class=\"dataframe\">\n",
       "  <thead>\n",
       "    <tr style=\"text-align: right;\">\n",
       "      <th></th>\n",
       "      <th>Open</th>\n",
       "      <th>High</th>\n",
       "      <th>Low</th>\n",
       "      <th>Close</th>\n",
       "      <th>Volume</th>\n",
       "    </tr>\n",
       "    <tr>\n",
       "      <th>Date</th>\n",
       "      <th></th>\n",
       "      <th></th>\n",
       "      <th></th>\n",
       "      <th></th>\n",
       "      <th></th>\n",
       "    </tr>\n",
       "  </thead>\n",
       "  <tbody>\n",
       "    <tr>\n",
       "      <th>2012-02-16</th>\n",
       "      <td>111.114590</td>\n",
       "      <td>112.435704</td>\n",
       "      <td>110.916417</td>\n",
       "      <td>112.336624</td>\n",
       "      <td>186567800</td>\n",
       "    </tr>\n",
       "    <tr>\n",
       "      <th>2012-02-17</th>\n",
       "      <td>112.724678</td>\n",
       "      <td>112.815505</td>\n",
       "      <td>112.262287</td>\n",
       "      <td>112.633850</td>\n",
       "      <td>129869400</td>\n",
       "    </tr>\n",
       "    <tr>\n",
       "      <th>2012-02-21</th>\n",
       "      <td>112.898088</td>\n",
       "      <td>113.162319</td>\n",
       "      <td>112.336618</td>\n",
       "      <td>112.683411</td>\n",
       "      <td>134042300</td>\n",
       "    </tr>\n",
       "    <tr>\n",
       "      <th>2012-02-22</th>\n",
       "      <td>112.510014</td>\n",
       "      <td>112.749475</td>\n",
       "      <td>112.121934</td>\n",
       "      <td>112.320107</td>\n",
       "      <td>124455300</td>\n",
       "    </tr>\n",
       "    <tr>\n",
       "      <th>2012-02-23</th>\n",
       "      <td>112.262303</td>\n",
       "      <td>112.898084</td>\n",
       "      <td>111.882475</td>\n",
       "      <td>112.815521</td>\n",
       "      <td>137704300</td>\n",
       "    </tr>\n",
       "    <tr>\n",
       "      <th>...</th>\n",
       "      <td>...</td>\n",
       "      <td>...</td>\n",
       "      <td>...</td>\n",
       "      <td>...</td>\n",
       "      <td>...</td>\n",
       "    </tr>\n",
       "    <tr>\n",
       "      <th>2022-02-09</th>\n",
       "      <td>455.220001</td>\n",
       "      <td>457.880005</td>\n",
       "      <td>455.010010</td>\n",
       "      <td>457.540009</td>\n",
       "      <td>92589900</td>\n",
       "    </tr>\n",
       "    <tr>\n",
       "      <th>2022-02-10</th>\n",
       "      <td>451.339996</td>\n",
       "      <td>457.709991</td>\n",
       "      <td>447.200012</td>\n",
       "      <td>449.320007</td>\n",
       "      <td>140103700</td>\n",
       "    </tr>\n",
       "    <tr>\n",
       "      <th>2022-02-11</th>\n",
       "      <td>449.410004</td>\n",
       "      <td>451.609985</td>\n",
       "      <td>438.940002</td>\n",
       "      <td>440.459991</td>\n",
       "      <td>153064100</td>\n",
       "    </tr>\n",
       "    <tr>\n",
       "      <th>2022-02-14</th>\n",
       "      <td>439.920013</td>\n",
       "      <td>441.600006</td>\n",
       "      <td>435.339996</td>\n",
       "      <td>439.019989</td>\n",
       "      <td>122062800</td>\n",
       "    </tr>\n",
       "    <tr>\n",
       "      <th>2022-02-15</th>\n",
       "      <td>443.730011</td>\n",
       "      <td>446.279999</td>\n",
       "      <td>443.179993</td>\n",
       "      <td>446.100006</td>\n",
       "      <td>88482700</td>\n",
       "    </tr>\n",
       "  </tbody>\n",
       "</table>\n",
       "<p>2517 rows × 5 columns</p>\n",
       "</div>"
      ],
      "text/plain": [
       "                  Open        High         Low       Close     Volume\n",
       "Date                                                                 \n",
       "2012-02-16  111.114590  112.435704  110.916417  112.336624  186567800\n",
       "2012-02-17  112.724678  112.815505  112.262287  112.633850  129869400\n",
       "2012-02-21  112.898088  113.162319  112.336618  112.683411  134042300\n",
       "2012-02-22  112.510014  112.749475  112.121934  112.320107  124455300\n",
       "2012-02-23  112.262303  112.898084  111.882475  112.815521  137704300\n",
       "...                ...         ...         ...         ...        ...\n",
       "2022-02-09  455.220001  457.880005  455.010010  457.540009   92589900\n",
       "2022-02-10  451.339996  457.709991  447.200012  449.320007  140103700\n",
       "2022-02-11  449.410004  451.609985  438.940002  440.459991  153064100\n",
       "2022-02-14  439.920013  441.600006  435.339996  439.019989  122062800\n",
       "2022-02-15  443.730011  446.279999  443.179993  446.100006   88482700\n",
       "\n",
       "[2517 rows x 5 columns]"
      ]
     },
     "execution_count": 3,
     "metadata": {},
     "output_type": "execute_result"
    }
   ],
   "source": [
    "data[\"SPY\"]"
   ]
  },
  {
   "cell_type": "code",
   "execution_count": 4,
   "metadata": {},
   "outputs": [
    {
     "data": {
      "text/plain": [
       "[<matplotlib.lines.Line2D at 0x7fddc6020d00>]"
      ]
     },
     "execution_count": 4,
     "metadata": {},
     "output_type": "execute_result"
    },
    {
     "data": {
      "image/png": "[encoded data removed]",
      "text/plain": [
       "<Figure size 432x288 with 1 Axes>"
      ]
     },
     "metadata": {
      "needs_background": "light"
     },
     "output_type": "display_data"
    }
   ],
   "source": [
    "import matplotlib.pyplot as plt\n",
    "plt.plot(data[\"SPY\"].Open)"
   ]
  },
  {
   "cell_type": "code",
   "execution_count": 5,
   "metadata": {},
   "outputs": [],
   "source": [
    "import numpy as np\n",
    "\n",
    "def generate_return_series(prices):\n",
    "    \"\"\"Compute daily return series for given price series\"\"\"\n",
    "    returns = np.zeros(len(prices) - 1)\n",
    "    for i in range(len(prices) - 1):\n",
    "        day_return = (prices[i + 1] - prices[i]) / prices[i]\n",
    "        returns[i] = day_return\n",
    "\n",
    "    return returns"
   ]
  },
  {
   "cell_type": "code",
   "execution_count": 6,
   "metadata": {},
   "outputs": [],
   "source": [
    "import pandas as pd\n",
    "\n",
    "returns = pd.DataFrame()\n",
    "for l in L :\n",
    "    returns[l] = generate_return_series(data[l].Open.values)"
   ]
  },
  {
   "cell_type": "code",
   "execution_count": 7,
   "metadata": {},
   "outputs": [
    {
     "data": {
      "text/html": [
       "<div>\n",
       "<style scoped>\n",
       "    .dataframe tbody tr th:only-of-type {\n",
       "        vertical-align: middle;\n",
       "    }\n",
       "\n",
       "    .dataframe tbody tr th {\n",
       "        vertical-align: top;\n",
       "    }\n",
       "\n",
       "    .dataframe thead th {\n",
       "        text-align: right;\n",
       "    }\n",
       "</style>\n",
       "<table border=\"1\" class=\"dataframe\">\n",
       "  <thead>\n",
       "    <tr style=\"text-align: right;\">\n",
       "      <th></th>\n",
       "      <th>0</th>\n",
       "      <th>1</th>\n",
       "      <th>2</th>\n",
       "      <th>3</th>\n",
       "      <th>4</th>\n",
       "      <th>5</th>\n",
       "      <th>6</th>\n",
       "      <th>7</th>\n",
       "      <th>8</th>\n",
       "      <th>9</th>\n",
       "      <th>...</th>\n",
       "      <th>2506</th>\n",
       "      <th>2507</th>\n",
       "      <th>2508</th>\n",
       "      <th>2509</th>\n",
       "      <th>2510</th>\n",
       "      <th>2511</th>\n",
       "      <th>2512</th>\n",
       "      <th>2513</th>\n",
       "      <th>2514</th>\n",
       "      <th>2515</th>\n",
       "    </tr>\n",
       "  </thead>\n",
       "  <tbody>\n",
       "    <tr>\n",
       "      <th>SPY</th>\n",
       "      <td>0.014490</td>\n",
       "      <td>1.538356e-03</td>\n",
       "      <td>-0.003437</td>\n",
       "      <td>-2.201680e-03</td>\n",
       "      <td>0.007134</td>\n",
       "      <td>-6.645796e-03</td>\n",
       "      <td>0.008675</td>\n",
       "      <td>4.081916e-03</td>\n",
       "      <td>-0.003267</td>\n",
       "      <td>0.002403</td>\n",
       "      <td>...</td>\n",
       "      <td>0.010695</td>\n",
       "      <td>-0.009989</td>\n",
       "      <td>-0.010201</td>\n",
       "      <td>0.007080</td>\n",
       "      <td>-0.006185</td>\n",
       "      <td>0.019005</td>\n",
       "      <td>-0.008523</td>\n",
       "      <td>-0.004276</td>\n",
       "      <td>-0.021117</td>\n",
       "      <td>0.008661</td>\n",
       "    </tr>\n",
       "    <tr>\n",
       "      <th>QQQ</th>\n",
       "      <td>0.013537</td>\n",
       "      <td>-2.200090e-03</td>\n",
       "      <td>-0.000157</td>\n",
       "      <td>-1.417347e-03</td>\n",
       "      <td>0.008202</td>\n",
       "      <td>-4.849912e-03</td>\n",
       "      <td>0.007860</td>\n",
       "      <td>9.982976e-03</td>\n",
       "      <td>-0.001544</td>\n",
       "      <td>0.002784</td>\n",
       "      <td>...</td>\n",
       "      <td>0.014626</td>\n",
       "      <td>-0.030371</td>\n",
       "      <td>-0.012412</td>\n",
       "      <td>0.012822</td>\n",
       "      <td>-0.012994</td>\n",
       "      <td>0.027687</td>\n",
       "      <td>-0.011656</td>\n",
       "      <td>-0.003032</td>\n",
       "      <td>-0.033312</td>\n",
       "      <td>0.018529</td>\n",
       "    </tr>\n",
       "    <tr>\n",
       "      <th>VGK</th>\n",
       "      <td>0.025698</td>\n",
       "      <td>2.396211e-03</td>\n",
       "      <td>-0.007824</td>\n",
       "      <td>1.971308e-03</td>\n",
       "      <td>0.012025</td>\n",
       "      <td>-1.123413e-02</td>\n",
       "      <td>0.008303</td>\n",
       "      <td>1.148422e-02</td>\n",
       "      <td>-0.006855</td>\n",
       "      <td>-0.001510</td>\n",
       "      <td>...</td>\n",
       "      <td>0.010093</td>\n",
       "      <td>-0.009694</td>\n",
       "      <td>-0.011898</td>\n",
       "      <td>0.003048</td>\n",
       "      <td>-0.000760</td>\n",
       "      <td>0.021137</td>\n",
       "      <td>-0.012211</td>\n",
       "      <td>0.000603</td>\n",
       "      <td>-0.025463</td>\n",
       "      <td>0.013451</td>\n",
       "    </tr>\n",
       "    <tr>\n",
       "      <th>SCZ</th>\n",
       "      <td>0.017843</td>\n",
       "      <td>5.081281e-03</td>\n",
       "      <td>-0.004803</td>\n",
       "      <td>2.794105e-03</td>\n",
       "      <td>0.011905</td>\n",
       "      <td>-6.508037e-03</td>\n",
       "      <td>0.008566</td>\n",
       "      <td>5.495941e-03</td>\n",
       "      <td>-0.006211</td>\n",
       "      <td>-0.001000</td>\n",
       "      <td>...</td>\n",
       "      <td>0.016659</td>\n",
       "      <td>-0.015104</td>\n",
       "      <td>-0.007523</td>\n",
       "      <td>0.002041</td>\n",
       "      <td>-0.002909</td>\n",
       "      <td>0.020718</td>\n",
       "      <td>-0.011292</td>\n",
       "      <td>0.003036</td>\n",
       "      <td>-0.021188</td>\n",
       "      <td>0.014578</td>\n",
       "    </tr>\n",
       "    <tr>\n",
       "      <th>EWJ</th>\n",
       "      <td>0.015229</td>\n",
       "      <td>-5.000173e-03</td>\n",
       "      <td>0.003015</td>\n",
       "      <td>1.243657e-07</td>\n",
       "      <td>0.011022</td>\n",
       "      <td>-1.387515e-02</td>\n",
       "      <td>0.019096</td>\n",
       "      <td>-1.328910e-07</td>\n",
       "      <td>-0.015779</td>\n",
       "      <td>-0.002004</td>\n",
       "      <td>...</td>\n",
       "      <td>0.018915</td>\n",
       "      <td>-0.014575</td>\n",
       "      <td>-0.005761</td>\n",
       "      <td>0.007986</td>\n",
       "      <td>-0.001087</td>\n",
       "      <td>0.015552</td>\n",
       "      <td>-0.013936</td>\n",
       "      <td>0.001864</td>\n",
       "      <td>-0.007286</td>\n",
       "      <td>0.003904</td>\n",
       "    </tr>\n",
       "    <tr>\n",
       "      <th>EEM</th>\n",
       "      <td>0.018515</td>\n",
       "      <td>9.088183e-04</td>\n",
       "      <td>-0.005449</td>\n",
       "      <td>-1.597361e-03</td>\n",
       "      <td>0.005030</td>\n",
       "      <td>-8.871722e-03</td>\n",
       "      <td>0.010558</td>\n",
       "      <td>1.385412e-02</td>\n",
       "      <td>-0.003584</td>\n",
       "      <td>0.002698</td>\n",
       "      <td>...</td>\n",
       "      <td>0.006324</td>\n",
       "      <td>-0.017839</td>\n",
       "      <td>-0.002683</td>\n",
       "      <td>0.002690</td>\n",
       "      <td>0.000619</td>\n",
       "      <td>0.019802</td>\n",
       "      <td>-0.001011</td>\n",
       "      <td>0.002025</td>\n",
       "      <td>-0.019802</td>\n",
       "      <td>0.010719</td>\n",
       "    </tr>\n",
       "    <tr>\n",
       "      <th>REM</th>\n",
       "      <td>0.008778</td>\n",
       "      <td>4.351058e-03</td>\n",
       "      <td>-0.005054</td>\n",
       "      <td>-1.451275e-03</td>\n",
       "      <td>0.007267</td>\n",
       "      <td>1.968658e-07</td>\n",
       "      <td>0.004329</td>\n",
       "      <td>-1.436837e-03</td>\n",
       "      <td>-0.005036</td>\n",
       "      <td>-0.002169</td>\n",
       "      <td>...</td>\n",
       "      <td>-0.001769</td>\n",
       "      <td>-0.017134</td>\n",
       "      <td>-0.011422</td>\n",
       "      <td>-0.000608</td>\n",
       "      <td>0.002434</td>\n",
       "      <td>0.016995</td>\n",
       "      <td>-0.004775</td>\n",
       "      <td>-0.014393</td>\n",
       "      <td>-0.013082</td>\n",
       "      <td>0.004007</td>\n",
       "    </tr>\n",
       "    <tr>\n",
       "      <th>VNQ</th>\n",
       "      <td>0.009856</td>\n",
       "      <td>-3.198409e-04</td>\n",
       "      <td>-0.018246</td>\n",
       "      <td>-8.966202e-03</td>\n",
       "      <td>0.016450</td>\n",
       "      <td>-6.959132e-03</td>\n",
       "      <td>0.006845</td>\n",
       "      <td>-6.150306e-03</td>\n",
       "      <td>-0.005701</td>\n",
       "      <td>0.002785</td>\n",
       "      <td>...</td>\n",
       "      <td>0.002449</td>\n",
       "      <td>0.001128</td>\n",
       "      <td>-0.010795</td>\n",
       "      <td>-0.004175</td>\n",
       "      <td>-0.001239</td>\n",
       "      <td>0.006297</td>\n",
       "      <td>-0.001801</td>\n",
       "      <td>-0.005034</td>\n",
       "      <td>-0.012792</td>\n",
       "      <td>-0.001837</td>\n",
       "    </tr>\n",
       "    <tr>\n",
       "      <th>RWX</th>\n",
       "      <td>0.018534</td>\n",
       "      <td>-3.032641e-03</td>\n",
       "      <td>-0.006637</td>\n",
       "      <td>-1.113262e-03</td>\n",
       "      <td>0.012820</td>\n",
       "      <td>-6.054333e-03</td>\n",
       "      <td>0.013289</td>\n",
       "      <td>8.196806e-03</td>\n",
       "      <td>-0.005149</td>\n",
       "      <td>-0.000817</td>\n",
       "      <td>...</td>\n",
       "      <td>0.005884</td>\n",
       "      <td>-0.004972</td>\n",
       "      <td>-0.009406</td>\n",
       "      <td>-0.006231</td>\n",
       "      <td>-0.006569</td>\n",
       "      <td>0.014728</td>\n",
       "      <td>-0.002073</td>\n",
       "      <td>0.000297</td>\n",
       "      <td>-0.014540</td>\n",
       "      <td>0.006323</td>\n",
       "    </tr>\n",
       "    <tr>\n",
       "      <th>TIP</th>\n",
       "      <td>-0.004124</td>\n",
       "      <td>1.183686e-03</td>\n",
       "      <td>0.000169</td>\n",
       "      <td>4.136054e-03</td>\n",
       "      <td>0.000168</td>\n",
       "      <td>2.940999e-03</td>\n",
       "      <td>0.000419</td>\n",
       "      <td>-1.004617e-03</td>\n",
       "      <td>-0.007881</td>\n",
       "      <td>0.000422</td>\n",
       "      <td>...</td>\n",
       "      <td>-0.004766</td>\n",
       "      <td>-0.004150</td>\n",
       "      <td>-0.005610</td>\n",
       "      <td>-0.000967</td>\n",
       "      <td>-0.002501</td>\n",
       "      <td>0.002426</td>\n",
       "      <td>-0.002582</td>\n",
       "      <td>0.000000</td>\n",
       "      <td>-0.000728</td>\n",
       "      <td>-0.001376</td>\n",
       "    </tr>\n",
       "    <tr>\n",
       "      <th>IEF</th>\n",
       "      <td>-0.005133</td>\n",
       "      <td>-1.449781e-07</td>\n",
       "      <td>-0.000095</td>\n",
       "      <td>1.528244e-03</td>\n",
       "      <td>0.002958</td>\n",
       "      <td>4.470354e-03</td>\n",
       "      <td>0.000853</td>\n",
       "      <td>-1.798030e-03</td>\n",
       "      <td>-0.008064</td>\n",
       "      <td>0.002393</td>\n",
       "      <td>...</td>\n",
       "      <td>-0.000889</td>\n",
       "      <td>-0.003203</td>\n",
       "      <td>-0.005534</td>\n",
       "      <td>-0.001705</td>\n",
       "      <td>-0.002697</td>\n",
       "      <td>0.001803</td>\n",
       "      <td>-0.004679</td>\n",
       "      <td>-0.001266</td>\n",
       "      <td>0.000634</td>\n",
       "      <td>-0.004433</td>\n",
       "    </tr>\n",
       "    <tr>\n",
       "      <th>TLT</th>\n",
       "      <td>-0.012023</td>\n",
       "      <td>-7.765877e-04</td>\n",
       "      <td>0.001036</td>\n",
       "      <td>2.157218e-03</td>\n",
       "      <td>0.009385</td>\n",
       "      <td>1.083353e-02</td>\n",
       "      <td>0.003122</td>\n",
       "      <td>-4.205902e-03</td>\n",
       "      <td>-0.016350</td>\n",
       "      <td>0.003702</td>\n",
       "      <td>...</td>\n",
       "      <td>-0.002319</td>\n",
       "      <td>-0.010638</td>\n",
       "      <td>-0.004201</td>\n",
       "      <td>-0.006722</td>\n",
       "      <td>-0.005039</td>\n",
       "      <td>0.003690</td>\n",
       "      <td>-0.007641</td>\n",
       "      <td>-0.005739</td>\n",
       "      <td>0.001900</td>\n",
       "      <td>-0.011157</td>\n",
       "    </tr>\n",
       "    <tr>\n",
       "      <th>BWX</th>\n",
       "      <td>0.006710</td>\n",
       "      <td>-6.661913e-04</td>\n",
       "      <td>-0.002001</td>\n",
       "      <td>3.676224e-03</td>\n",
       "      <td>0.005493</td>\n",
       "      <td>1.655857e-03</td>\n",
       "      <td>0.004297</td>\n",
       "      <td>1.646481e-03</td>\n",
       "      <td>-0.005060</td>\n",
       "      <td>-0.004134</td>\n",
       "      <td>...</td>\n",
       "      <td>0.002893</td>\n",
       "      <td>-0.001803</td>\n",
       "      <td>-0.004335</td>\n",
       "      <td>0.000000</td>\n",
       "      <td>-0.007257</td>\n",
       "      <td>0.006579</td>\n",
       "      <td>-0.007988</td>\n",
       "      <td>0.003294</td>\n",
       "      <td>-0.005472</td>\n",
       "      <td>-0.003668</td>\n",
       "    </tr>\n",
       "    <tr>\n",
       "      <th>DBC</th>\n",
       "      <td>0.008415</td>\n",
       "      <td>6.954080e-03</td>\n",
       "      <td>0.006906</td>\n",
       "      <td>8.230408e-03</td>\n",
       "      <td>0.002721</td>\n",
       "      <td>3.731373e-03</td>\n",
       "      <td>-0.001014</td>\n",
       "      <td>-2.029827e-03</td>\n",
       "      <td>-0.003390</td>\n",
       "      <td>0.005782</td>\n",
       "      <td>...</td>\n",
       "      <td>0.012081</td>\n",
       "      <td>-0.010610</td>\n",
       "      <td>0.018320</td>\n",
       "      <td>0.000878</td>\n",
       "      <td>-0.004384</td>\n",
       "      <td>0.000440</td>\n",
       "      <td>0.007923</td>\n",
       "      <td>-0.002183</td>\n",
       "      <td>0.006565</td>\n",
       "      <td>-0.003913</td>\n",
       "    </tr>\n",
       "    <tr>\n",
       "      <th>GLD</th>\n",
       "      <td>0.011784</td>\n",
       "      <td>8.081292e-03</td>\n",
       "      <td>0.004421</td>\n",
       "      <td>1.343902e-02</td>\n",
       "      <td>-0.000347</td>\n",
       "      <td>-2.838472e-03</td>\n",
       "      <td>0.004066</td>\n",
       "      <td>2.025030e-03</td>\n",
       "      <td>-0.040938</td>\n",
       "      <td>0.000783</td>\n",
       "      <td>...</td>\n",
       "      <td>-0.001364</td>\n",
       "      <td>-0.000178</td>\n",
       "      <td>-0.001604</td>\n",
       "      <td>0.008391</td>\n",
       "      <td>0.003836</td>\n",
       "      <td>0.003410</td>\n",
       "      <td>-0.000937</td>\n",
       "      <td>0.001349</td>\n",
       "      <td>0.017745</td>\n",
       "      <td>-0.003913</td>\n",
       "    </tr>\n",
       "  </tbody>\n",
       "</table>\n",
       "<p>15 rows × 2516 columns</p>\n",
       "</div>"
      ],
      "text/plain": [
       "         0             1         2             3         4             5     \\\n",
       "SPY  0.014490  1.538356e-03 -0.003437 -2.201680e-03  0.007134 -6.645796e-03   \n",
       "QQQ  0.013537 -2.200090e-03 -0.000157 -1.417347e-03  0.008202 -4.849912e-03   \n",
       "VGK  0.025698  2.396211e-03 -0.007824  1.971308e-03  0.012025 -1.123413e-02   \n",
       "SCZ  0.017843  5.081281e-03 -0.004803  2.794105e-03  0.011905 -6.508037e-03   \n",
       "EWJ  0.015229 -5.000173e-03  0.003015  1.243657e-07  0.011022 -1.387515e-02   \n",
       "EEM  0.018515  9.088183e-04 -0.005449 -1.597361e-03  0.005030 -8.871722e-03   \n",
       "REM  0.008778  4.351058e-03 -0.005054 -1.451275e-03  0.007267  1.968658e-07   \n",
       "VNQ  0.009856 -3.198409e-04 -0.018246 -8.966202e-03  0.016450 -6.959132e-03   \n",
       "RWX  0.018534 -3.032641e-03 -0.006637 -1.113262e-03  0.012820 -6.054333e-03   \n",
       "TIP -0.004124  1.183686e-03  0.000169  4.136054e-03  0.000168  2.940999e-03   \n",
       "IEF -0.005133 -1.449781e-07 -0.000095  1.528244e-03  0.002958  4.470354e-03   \n",
       "TLT -0.012023 -7.765877e-04  0.001036  2.157218e-03  0.009385  1.083353e-02   \n",
       "BWX  0.006710 -6.661913e-04 -0.002001  3.676224e-03  0.005493  1.655857e-03   \n",
       "DBC  0.008415  6.954080e-03  0.006906  8.230408e-03  0.002721  3.731373e-03   \n",
       "GLD  0.011784  8.081292e-03  0.004421  1.343902e-02 -0.000347 -2.838472e-03   \n",
       "\n",
       "         6             7         8         9     ...      2506      2507  \\\n",
       "SPY  0.008675  4.081916e-03 -0.003267  0.002403  ...  0.010695 -0.009989   \n",
       "QQQ  0.007860  9.982976e-03 -0.001544  0.002784  ...  0.014626 -0.030371   \n",
       "VGK  0.008303  1.148422e-02 -0.006855 -0.001510  ...  0.010093 -0.009694   \n",
       "SCZ  0.008566  5.495941e-03 -0.006211 -0.001000  ...  0.016659 -0.015104   \n",
       "EWJ  0.019096 -1.328910e-07 -0.015779 -0.002004  ...  0.018915 -0.014575   \n",
       "EEM  0.010558  1.385412e-02 -0.003584  0.002698  ...  0.006324 -0.017839   \n",
       "REM  0.004329 -1.436837e-03 -0.005036 -0.002169  ... -0.001769 -0.017134   \n",
       "VNQ  0.006845 -6.150306e-03 -0.005701  0.002785  ...  0.002449  0.001128   \n",
       "RWX  0.013289  8.196806e-03 -0.005149 -0.000817  ...  0.005884 -0.004972   \n",
       "TIP  0.000419 -1.004617e-03 -0.007881  0.000422  ... -0.004766 -0.004150   \n",
       "IEF  0.000853 -1.798030e-03 -0.008064  0.002393  ... -0.000889 -0.003203   \n",
       "TLT  0.003122 -4.205902e-03 -0.016350  0.003702  ... -0.002319 -0.010638   \n",
       "BWX  0.004297  1.646481e-03 -0.005060 -0.004134  ...  0.002893 -0.001803   \n",
       "DBC -0.001014 -2.029827e-03 -0.003390  0.005782  ...  0.012081 -0.010610   \n",
       "GLD  0.004066  2.025030e-03 -0.040938  0.000783  ... -0.001364 -0.000178   \n",
       "\n",
       "         2508      2509      2510      2511      2512      2513      2514  \\\n",
       "SPY -0.010201  0.007080 -0.006185  0.019005 -0.008523 -0.004276 -0.021117   \n",
       "QQQ -0.012412  0.012822 -0.012994  0.027687 -0.011656 -0.003032 -0.033312   \n",
       "VGK -0.011898  0.003048 -0.000760  0.021137 -0.012211  0.000603 -0.025463   \n",
       "SCZ -0.007523  0.002041 -0.002909  0.020718 -0.011292  0.003036 -0.021188   \n",
       "EWJ -0.005761  0.007986 -0.001087  0.015552 -0.013936  0.001864 -0.007286   \n",
       "EEM -0.002683  0.002690  0.000619  0.019802 -0.001011  0.002025 -0.019802   \n",
       "REM -0.011422 -0.000608  0.002434  0.016995 -0.004775 -0.014393 -0.013082   \n",
       "VNQ -0.010795 -0.004175 -0.001239  0.006297 -0.001801 -0.005034 -0.012792   \n",
       "RWX -0.009406 -0.006231 -0.006569  0.014728 -0.002073  0.000297 -0.014540   \n",
       "TIP -0.005610 -0.000967 -0.002501  0.002426 -0.002582  0.000000 -0.000728   \n",
       "IEF -0.005534 -0.001705 -0.002697  0.001803 -0.004679 -0.001266  0.000634   \n",
       "TLT -0.004201 -0.006722 -0.005039  0.003690 -0.007641 -0.005739  0.001900   \n",
       "BWX -0.004335  0.000000 -0.007257  0.006579 -0.007988  0.003294 -0.005472   \n",
       "DBC  0.018320  0.000878 -0.004384  0.000440  0.007923 -0.002183  0.006565   \n",
       "GLD -0.001604  0.008391  0.003836  0.003410 -0.000937  0.001349  0.017745   \n",
       "\n",
       "         2515  \n",
       "SPY  0.008661  \n",
       "QQQ  0.018529  \n",
       "VGK  0.013451  \n",
       "SCZ  0.014578  \n",
       "EWJ  0.003904  \n",
       "EEM  0.010719  \n",
       "REM  0.004007  \n",
       "VNQ -0.001837  \n",
       "RWX  0.006323  \n",
       "TIP -0.001376  \n",
       "IEF -0.004433  \n",
       "TLT -0.011157  \n",
       "BWX -0.003668  \n",
       "DBC -0.003913  \n",
       "GLD -0.003913  \n",
       "\n",
       "[15 rows x 2516 columns]"
      ]
     },
     "execution_count": 7,
     "metadata": {},
     "output_type": "execute_result"
    }
   ],
   "source": [
    "returns = returns.T\n",
    "returns"
   ]
  },
  {
   "cell_type": "code",
   "execution_count": 8,
   "metadata": {},
   "outputs": [
    {
     "data": {
      "text/plain": [
       "[<matplotlib.lines.Line2D at 0x7fddc61d8bb0>]"
      ]
     },
     "execution_count": 8,
     "metadata": {},
     "output_type": "execute_result"
    },
    {
     "data": {
      "image/png": "[encoded data removed]",
      "text/plain": [
       "<Figure size 432x288 with 1 Axes>"
      ]
     },
     "metadata": {
      "needs_background": "light"
     },
     "output_type": "display_data"
    }
   ],
   "source": [
    "plt.plot(returns.loc['QQQ'])"
   ]
  },
  {
   "cell_type": "code",
   "execution_count": 9,
   "metadata": {},
   "outputs": [
    {
     "data": {
      "text/plain": [
       "[<matplotlib.lines.Line2D at 0x7fddc6359c10>]"
      ]
     },
     "execution_count": 9,
     "metadata": {},
     "output_type": "execute_result"
    },
    {
     "data": {
      "image/png": "[encoded data removed]",
      "text/plain": [
       "<Figure size 432x288 with 1 Axes>"
      ]
     },
     "metadata": {
      "needs_background": "light"
     },
     "output_type": "display_data"
    }
   ],
   "source": [
    "plt.plot(returns.loc['QQQ'].cumsum())"
   ]
  },
  {
   "cell_type": "code",
   "execution_count": 43,
   "metadata": {},
   "outputs": [
    {
     "data": {
      "text/plain": [
       "-2.979402487813215e-05"
      ]
     },
     "execution_count": 43,
     "metadata": {},
     "output_type": "execute_result"
    }
   ],
   "source": [
    "cov = np.cov(returns)"
   ]
  },
  {
   "cell_type": "code",
   "execution_count": 11,
   "metadata": {},
   "outputs": [],
   "source": [
    "corr = np.corrcoef(returns)"
   ]
  },
  {
   "cell_type": "code",
   "execution_count": 42,
   "metadata": {},
   "outputs": [
    {
     "data": {
      "text/plain": [
       "-0.3728938054719419"
      ]
     },
     "execution_count": 42,
     "metadata": {},
     "output_type": "execute_result"
    }
   ],
   "source": [
    "corr.min()"
   ]
  },
  {
   "cell_type": "code",
   "execution_count": 44,
   "metadata": {},
   "outputs": [
    {
     "data": {
      "text/plain": [
       "<AxesSubplot:>"
      ]
     },
     "execution_count": 44,
     "metadata": {},
     "output_type": "execute_result"
    },
    {
     "data": {
      "image/png": "[encoded data removed]",
      "text/plain": [
       "<Figure size 432x288 with 2 Axes>"
      ]
     },
     "metadata": {
      "needs_background": "light"
     },
     "output_type": "display_data"
    }
   ],
   "source": [
    "sns.heatmap(cov,vmin=cov.min(), vmax=cov.max())"
   ]
  },
  {
   "cell_type": "code",
   "execution_count": 45,
   "metadata": {},
   "outputs": [
    {
     "data": {
      "text/plain": [
       "<AxesSubplot:>"
      ]
     },
     "execution_count": 45,
     "metadata": {},
     "output_type": "execute_result"
    },
    {
     "data": {
      "image/png": "[encoded data removed]",
      "text/plain": [
       "<Figure size 432x288 with 2 Axes>"
      ]
     },
     "metadata": {
      "needs_background": "light"
     },
     "output_type": "display_data"
    }
   ],
   "source": [
    "import seaborn as sns\n",
    "sns.heatmap(corr, vmin=corr.min(), vmax=corr.max())"
   ]
  },
  {
   "cell_type": "code",
   "execution_count": 15,
   "metadata": {},
   "outputs": [],
   "source": [
    "from cvxopt import matrix, solvers\n",
    "solvers.options['show_progress'] = False\n",
    "\n",
    "\n",
    "def MaxSR_PTF(S,mu):\n",
    "    Sinv = np.linalg.inv(S)\n",
    "    N = S.shape[0]\n",
    "    return (Sinv @ mu)/(np.ones(N) @ Sinv @ mu)\n",
    "\n",
    "def Min_Var_PTF(S):\n",
    "    w = np.linalg.pinv(S).sum(axis=1)\n",
    "    return w/w.sum()\n",
    "\n",
    "def EV_PTF_positive(R,mu,m):\n",
    "    N = R.shape[0]\n",
    "    \n",
    "    #Aw = b\n",
    "    A = np.ones((2,N))\n",
    "    A[1] = mu\n",
    "    \n",
    "    r = solvers.qp(matrix(R), # min w P w\n",
    "                   matrix(np.zeros(N)), # min w q\n",
    "                   A=matrix(A),\n",
    "                   b=matrix(np.array([1.,m])),\n",
    "                   G=matrix(-np.identity(N)), # w < h\n",
    "                   h=matrix(np.zeros(N)))\n",
    "    \n",
    "    return np.array(r['x']).T[0]"
   ]
  },
  {
   "cell_type": "code",
   "execution_count": 16,
   "metadata": {},
   "outputs": [],
   "source": [
    "tin,tout = 2000,252\n",
    "Y = 252"
   ]
  },
  {
   "cell_type": "code",
   "execution_count": 17,
   "metadata": {},
   "outputs": [],
   "source": [
    "# Select not null stocks\n",
    "ret_sel = returns.T.iloc[:tin+tout]\n",
    "ret_sel = ret_sel.T[(~ret_sel.isna()).all()].values"
   ]
  },
  {
   "cell_type": "code",
   "execution_count": 18,
   "metadata": {},
   "outputs": [],
   "source": [
    "#in-sample, out-of-sample\n",
    "ret_in, ret_out = ret_sel[:,:tin], ret_sel[:,tin:]"
   ]
  },
  {
   "cell_type": "code",
   "execution_count": 19,
   "metadata": {},
   "outputs": [],
   "source": [
    "ret_in = returns"
   ]
  },
  {
   "cell_type": "code",
   "execution_count": 20,
   "metadata": {},
   "outputs": [],
   "source": [
    "Sin = np.cov(ret_in,bias=True)\n",
    "#Sout = np.cov(ret_out,bias=True)\n",
    "\n",
    "mu_in = ret_in.mean(axis=1)\n",
    "#mu_out = ret_out.mean(axis=1)"
   ]
  },
  {
   "cell_type": "code",
   "execution_count": 21,
   "metadata": {},
   "outputs": [
    {
     "data": {
      "text/plain": [
       "SPY    150.586241\n",
       "QQQ    201.256576\n",
       "VGK     87.126367\n",
       "SCZ     97.743916\n",
       "EWJ     79.372379\n",
       "EEM     53.809356\n",
       "REM     85.487692\n",
       "VNQ    106.446172\n",
       "RWX     55.899288\n",
       "TIP     24.240481\n",
       "IEF     23.232839\n",
       "TLT     46.868168\n",
       "BWX      3.505305\n",
       "DBC     -6.542807\n",
       "GLD     15.141227\n",
       "dtype: float64"
      ]
     },
     "execution_count": 21,
     "metadata": {},
     "output_type": "execute_result"
    }
   ],
   "source": [
    "mu_in*252*100*10"
   ]
  },
  {
   "cell_type": "code",
   "execution_count": 34,
   "metadata": {},
   "outputs": [
    {
     "name": "stdout",
     "output_type": "stream",
     "text": [
      "La plus grosse action sont celles: 1\n",
      "respectivement  103.90921228444326 % du portfolio\n"
     ]
    }
   ],
   "source": [
    "w = EV_PTF_positive(Sin,mu_in,0.001)\n",
    "\n",
    "print('La plus grosse action sont celles:',w.argmax())\n",
    "print('respectivement ',w.max()*100 ,'% du portfolio')"
   ]
  },
  {
   "cell_type": "code",
   "execution_count": 23,
   "metadata": {},
   "outputs": [],
   "source": [
    "w1 = MaxSR_PTF(Sin,mu_in)\n",
    "w2 = Min_Var_PTF(Sin)"
   ]
  },
  {
   "cell_type": "code",
   "execution_count": 28,
   "metadata": {},
   "outputs": [
    {
     "data": {
      "text/plain": [
       "array([ 52.79002282,   9.70831567,  -9.05289923,  31.70417247,\n",
       "        -7.73298725, -22.71111759,  -2.55422422,  -3.7787037 ,\n",
       "       -11.68195222,   8.42218495,  87.09174781,  -3.25504632,\n",
       "       -22.83241483,  -8.5405609 ,   2.42346254])"
      ]
     },
     "execution_count": 28,
     "metadata": {},
     "output_type": "execute_result"
    }
   ],
   "source": [
    "w1*100"
   ]
  },
  {
   "cell_type": "code",
   "execution_count": 32,
   "metadata": {},
   "outputs": [
    {
     "data": {
      "text/plain": [
       "array([ 15.70018168,  -4.05006489,   2.05258024,  -3.14573366,\n",
       "         2.46939786,  -2.80887127,  -1.53562872,  -3.0380713 ,\n",
       "        -1.24896992,  16.47886593, 112.65763   , -36.37019294,\n",
       "         3.5846042 ,   3.17498593,  -3.92071313])"
      ]
     },
     "execution_count": 32,
     "metadata": {},
     "output_type": "execute_result"
    }
   ],
   "source": [
    "w2*100"
   ]
  },
  {
   "cell_type": "code",
   "execution_count": 25,
   "metadata": {},
   "outputs": [
    {
     "data": {
      "image/png": "[encoded data removed]",
      "text/plain": [
       "<Figure size 432x288 with 1 Axes>"
      ]
     },
     "metadata": {
      "needs_background": "light"
     },
     "output_type": "display_data"
    }
   ],
   "source": [
    "plt.plot(w)\n",
    "plt.plot(w1)\n",
    "plt.plot(w2)\n",
    "plt.xlabel('Different stocks',fontsize=16)\n",
    "plt.ylabel('w',fontsize=16)\n",
    "plt.tick_params(labelsize=14)"
   ]
  },
  {
   "cell_type": "code",
   "execution_count": null,
   "metadata": {},
   "outputs": [],
   "source": []
  },
  {
   "cell_type": "code",
   "execution_count": null,
   "metadata": {},
   "outputs": [],
   "source": []
  }
 ],
 "metadata": {
  "kernelspec": {
   "display_name": "Python 3",
   "language": "python",
   "name": "python3"
  },
  "language_info": {
   "codemirror_mode": {
    "name": "ipython",
    "version": 3
   },
   "file_extension": ".py",
   "mimetype": "text/x-python",
   "name": "python",
   "nbconvert_exporter": "python",
   "pygments_lexer": "ipython3",
   "version": "3.8.3"
  }
 },
 "nbformat": 4,
 "nbformat_minor": 5
}
