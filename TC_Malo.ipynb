{
 "cells": [
  {
   "cell_type": "code",
   "execution_count": 1,
   "id": "7867ca1a",
   "metadata": {
    "jupyter": {
     "outputs_hidden": true
    },
    "tags": []
   },
   "outputs": [],
   "source": [
    "import pandas as pd\n",
    "import numpy as np\n",
    "import yfinance as yf\n",
    "from scipy.optimize import minimize, Bounds\n",
    "import matplotlib.pyplot as plt\n",
    "from datetime import date\n",
    "from tqdm.notebook import tqdm_notebook\n",
    "import math"
   ]
  },
  {
   "cell_type": "code",
   "execution_count": 2,
   "id": "af699367",
   "metadata": {},
   "outputs": [],
   "source": [
    "def get_data(assets, start_date, end_date, time_interval):\n",
    "    return yf.download(assets, \n",
    "                          start = start_date, \n",
    "                          end = end_date,\n",
    "                          interval = time_interval,\n",
    "                          threads = True,\n",
    "                          progress = False)['Adj Close']"
   ]
  },
  {
   "cell_type": "code",
   "execution_count": 3,
   "id": "5f4baafb-2604-438b-9bf5-4602d8589414",
   "metadata": {
    "jupyter": {
     "outputs_hidden": true
    },
    "scrolled": true,
    "tags": []
   },
   "outputs": [],
   "source": [
    "assets  = [ 'SPY', \"QQQ\", \"VGK\", \"SCZ\", \"EWJ\", \"EEM\", #eq\n",
    "           'REM', \"VNQ\", \"RWX\", # re\n",
    "           'TIP', \"IEF\", \"TLT\", \"BWX\", #fi\n",
    "           'DBC', \"GLD\", #como\n",
    "           'twtr', 'intc', 'tsm',\"VWUSX\", \"Amc\"]\n",
    "\n",
    "\n",
    "# ----------- DATES ------\n",
    "start_train_date = '2020-01-01'\n",
    "end_train_date = '2021-01-01'\n",
    "start_test_date = end_train_date\n",
    "end_test_date = date.today()\n",
    "interval = \"1d\"\n",
    "\n",
    "\n",
    "all_stocks = get_data(assets, '2014-01-01', date.today(), \"1d\")\n",
    "\n",
    "returns = np.log(all_stocks/all_stocks.shift(1))\n",
    "returns.fillna(0)\n",
    "returns = returns.iloc[1: , :]\n",
    "\n",
    "# all_stocks"
   ]
  },
  {
   "cell_type": "markdown",
   "id": "dfec369f",
   "metadata": {},
   "source": [
    "Initialisation des variables"
   ]
  },
  {
   "cell_type": "code",
   "execution_count": 4,
   "id": "db622ee2",
   "metadata": {},
   "outputs": [],
   "source": [
    "def init(Money, Pos_max_par_actif):\n",
    "    \n",
    "    global X, cash, argent_gagne, couts_transaction, s, argent_fait, pf_value, pos, pos2, bounds, nb_actifs\n",
    "    \n",
    "    # Variables utilisées dans l'algorithme\n",
    "\n",
    "    cash = Money\n",
    "    win = 0\n",
    "    argent_gagne = 0\n",
    "    cout = 0\n",
    "    couts_transaction = 0\n",
    "    s = 0\n",
    "    nb_actifs = returns.shape[1]\n",
    "    argent_fait = [Money]\n",
    "    pf_value = 0\n",
    "    X = []\n",
    "\n",
    "    # pos = portefeuille initialement vide\n",
    "    pos = np.array([0 for i in range(nb_actifs)])\n",
    "    pos2 = np.array([0 for i in range(nb_actifs)])\n",
    "    \n",
    "    # Every stock can get any position from 0 to Pos_max_par_actif\n",
    "    bounds = Bounds(0, Pos_max_par_actif)\n"
   ]
  },
  {
   "cell_type": "markdown",
   "id": "60186367",
   "metadata": {},
   "source": [
    "Fonctions objectif et coûts de transaction"
   ]
  },
  {
   "cell_type": "code",
   "execution_count": 5,
   "id": "8c2ec808",
   "metadata": {},
   "outputs": [],
   "source": [
    "def objective_cov(pos):\n",
    "    global s\n",
    "    \n",
    "    s = pos@covar_matrix@pos - alpha*expected_returns@pos\n",
    "    \n",
    "    # print('\\033[92m'+\"Coûts de transaction: \"+str(TC(Pos,pos))+'\\033[0m')\n",
    "    # print('\\033[93m'+\"Return : \" + str(returns.mean()@pos) + '\\033[0m')\n",
    "    # print('\\033[94m'+\"Somme des positions: \"+str(vp@pos.T)+'\\033[0m')\n",
    "    # print(f\"Les valeurs  du vecteur poids sont:{pos.round(3)}\")\n",
    "    # print(f\"Les valeurs de la fonction objectif:{s.round(3)}\")\n",
    "    return s\n",
    "\n",
    "def objective_corr(pos):\n",
    "    global s\n",
    "    \n",
    "    s = pos@correl_matrix@pos - alpha*expected_returns@pos\n",
    "    # print('\\033[92m'+\"Coûts de transaction: \"+str(TC(Pos,pos))+'\\033[0m')\n",
    "    # print('\\033[93m'+\"Return : \" + str(returns.mean()@pos) + '\\033[0m')\n",
    "    # print('\\033[94m'+\"Somme des positions: \"+str(vp@pos.T)+'\\033[0m')\n",
    "    # print(f\"Les valeurs  du vecteur poids sont:{pos.round(3)}\")\n",
    "    # print(f\"Les valeurs de la fonction objectif:{s.round(3)}\")\n",
    "    return s\n",
    "\n",
    "def TC(pos,pos2):\n",
    "    return lamb*(np.sum(np.array([np.abs(pos2[i]-pos[i]) for i in range(nb_actifs)])))\n"
   ]
  },
  {
   "cell_type": "markdown",
   "id": "5a78b7e4",
   "metadata": {},
   "source": [
    "Import des données roulantes à l'étape i"
   ]
  },
  {
   "cell_type": "code",
   "execution_count": 6,
   "id": "184ae67c",
   "metadata": {},
   "outputs": [],
   "source": [
    "def import_donnees(etape):\n",
    "    global expected_returns, correl_matrix, covar_matrix, vp, vp2, X\n",
    "    \n",
    "    # import des données roulantes, on calcule à partir des données de l'année précédente\n",
    "    log_returns = returns.iloc[etape:253+etape , :]\n",
    "    # calcul des expected returns (on prend une période plus courte)\n",
    "    expected_returns = log_returns.iloc[-jours_returns:: ,:].mean()\n",
    "\n",
    "    # calcul de la matrice de covariance\n",
    "    covar = log_returns.cov().copy()\n",
    "    covar_matrix = covar.to_numpy()\n",
    "    \n",
    "    correl = log_returns.corr().copy()\n",
    "    correl_matrix = correl.to_numpy()\n",
    "\n",
    "    # calcul du vecteur prix des actifs à t (le temps de la décision) et t + 1jour\n",
    "    vp = all_stocks[253+etape::].values[0]\n",
    "    vp2 = all_stocks[253+etape+periode_trades::].values[0]\n",
    "\n",
    "    X.append(str(returns.iloc[253+etape].name).split()[0])"
   ]
  },
  {
   "cell_type": "markdown",
   "id": "af0db3b9",
   "metadata": {},
   "source": [
    "Calcul de l'optimisation roulante"
   ]
  },
  {
   "cell_type": "code",
   "execution_count": 7,
   "id": "7b18817e-7340-4544-ad03-ad6761175607",
   "metadata": {
    "jupyter": {
     "outputs_hidden": true
    },
    "scrolled": true,
    "tags": []
   },
   "outputs": [],
   "source": [
    "def compute_portfolio(lamb, alpha, Money, Pos_max_par_actif, jours_returns, periode_trades, debug=True):\n",
    "    \n",
    "    global pf_value, pos, pos2, argent_gagne, cout, win, cash, couts_transaction\n",
    "    \n",
    "    init(Money, Pos_max_par_actif)\n",
    "    \n",
    "    if debug:\n",
    "        print(\"Argent injecté au départ:\", Money)\n",
    "\n",
    "    try:\n",
    "        for i in tqdm_notebook(range(100)):\n",
    "\n",
    "            # actualisation des positions\n",
    "            pos = pos2\n",
    "\n",
    "            # actualisation des contraintes\n",
    "            cons = ({\"type\":\"ineq\", \"fun\": lambda x: Money - np.sum(np.array(x)) }, \n",
    "                # The positions must invest no more than the initial money.\n",
    "                # This constraints says that the inequalities (ineq) must be non-negative.\n",
    "                {\"type\": \"ineq\", \"fun\": lambda x: -(TC(pos,x) + np.sum((x-pos))) + cash },\n",
    "                {\"type\" : \"ineq\", \"fun\": lambda x: x.dot(expected_returns) - TC(pos,x)},\n",
    "                # The expected daily return of our portfolio and we want to be at greater than 0.003\n",
    "                #{\"type\": \"ineq\", \"fun\": lambda x: -np.sum(returns.mean()*x)+1})\n",
    "               )\n",
    "\n",
    "            # calcul des returns, de la matrice de variance, des vecteurs prix\n",
    "            import_donnees(i*periode_trades)\n",
    "\n",
    "            # calcul du vecteur position\n",
    "            p = minimize(objective_cov, pos, \n",
    "                     method = \"SLSQP\", \n",
    "                     bounds= bounds,\n",
    "                     constraints= cons, options={'maxiter': 300, 'ftol': 1e-09})\n",
    "\n",
    "            pos2 = p.x # les positions prises en fin de journée\n",
    "\n",
    "            cout = TC(pos,pos2)\n",
    "            couts_transaction += cout\n",
    "            pf2_value = np.sum(pos2)\n",
    "\n",
    "            cash_restant = pf_value + cash - (cout + pf2_value) \n",
    "\n",
    "            cash = cash_restant # l'argent que l'algo décide de ne pas investir\n",
    "            \n",
    "            if debug:\n",
    "                print(\"\\n\",\"Etape {}:\".format(i))\n",
    "                \n",
    "                # affichage des valeurs numériques\n",
    "                print(\"cash :\", cash.round(6))\n",
    "                print('\\033[92m'+\"Coûts de transaction: \"+str(cout)+'\\033[0m')\n",
    "                print('\\033[94m'+\"Somme des positions: \"+str(pf2_value)+'\\033[0m')\n",
    "                # print(f\"Les valeurs  du vecteur poids sont:{pos2.round(3)}\")\n",
    "                print(f\"La valeur de la fonction objectif:{s.round(3)}\")\n",
    "\n",
    "            # mise à jour du vecteur des positions à chaque actualisation des prix\n",
    "            pos = pos2\n",
    "            pos2 = np.array([pos[i]*vp2[i]/vp[i] for i in range(nb_actifs)])\n",
    "            Money = np.sum(pos2) + cash\n",
    "            argent_fait.append(Money)\n",
    "            win = np.sum(pos2)-np.sum(pos)\n",
    "            argent_gagne += win\n",
    "            pf_value = np.sum(pos2)\n",
    "            if debug:\n",
    "                print('\\033[95m'+\"Argent généré sans TC : \"+str(win)+'\\033[0m')\n",
    "                print('\\033[94m'+\"Somme des positions: \"+str(pf_value)+'\\033[0m')\n",
    "                print('\\033[96m'+\"Money :\"+str(Money)+'\\033[0m', \"\\n\")\n",
    "\n",
    "            \"\"\"try :\n",
    "                assert (np.round(1000 + argent_gagne - couts_transaction, 6) == np.round(Money,6))\n",
    "            except AssertionError :\n",
    "                print(np.round(1000 + argent_gagne - couts_transaction, 6))\n",
    "                print(np.round(Money,6))\n",
    "                break\"\"\"\n",
    "        if debug:\n",
    "            print(\"\\n\",\"fin du calcul\")\n",
    "    except IndexError :\n",
    "        if debug:\n",
    "            print(\"\\n\",\"fin du calcul\")\n",
    "        \n",
    "# reste()"
   ]
  },
  {
   "cell_type": "code",
   "execution_count": 8,
   "id": "7a8323f5",
   "metadata": {
    "scrolled": true
   },
   "outputs": [
    {
     "data": {
      "application/vnd.jupyter.widget-view+json": {
       "model_id": "2715be7024ce4594bde04de56cb442e3",
       "version_major": 2,
       "version_minor": 0
      },
      "text/plain": [
       "  0%|          | 0/100 [00:00<?, ?it/s]"
      ]
     },
     "metadata": {},
     "output_type": "display_data"
    },
    {
     "data": {
      "image/png": "[encoded data removed]",
      "text/plain": [
       "<Figure size 432x288 with 1 Axes>"
      ]
     },
     "metadata": {
      "needs_background": "light"
     },
     "output_type": "display_data"
    }
   ],
   "source": [
    "# Paramètres modifiables\n",
    "\n",
    "lamb = 0.005 # Coûts de transaction ; faire attention car sinon il n'y a pas de mouvements de position\n",
    "alpha = 10 # importance accordée à l'expected return\n",
    "Money = 1000 # argent alloué pour l'investissement initial\n",
    "Pos_max_par_actif = 1000 # quantité maximale d'argent investi par actif\n",
    "jours_returns = 20 # les n derniers jours qui servent pour calculer les expected returns\n",
    "periode_trades = 20 # le nombre de jours ouvrés qui séparent chaque décision\n",
    "\n",
    "\n",
    "compute_portfolio(lamb, alpha, Money, Pos_max_par_actif, jours_returns, periode_trades, False)\n",
    "\n",
    "plt.plot(argent_fait)\n",
    "plt.title(\"Evolution de la valeur du portfolio\")\n",
    "plt.show()\n",
    "\n",
    "# argent_fait"
   ]
  },
  {
   "cell_type": "markdown",
   "id": "a6dc2490",
   "metadata": {},
   "source": [
    "Calcul du drawdown"
   ]
  },
  {
   "cell_type": "code",
   "execution_count": 9,
   "id": "9bb73b73",
   "metadata": {},
   "outputs": [
    {
     "data": {
      "text/plain": [
       "0.07005308349098863"
      ]
     },
     "execution_count": 9,
     "metadata": {},
     "output_type": "execute_result"
    }
   ],
   "source": [
    "drawdown = -math.inf\n",
    "maxi = -math.inf\n",
    "mini = math.inf\n",
    "i = 0\n",
    "details = False # afficher plus de détails\n",
    "\n",
    "for x in argent_fait:\n",
    "    if x > maxi:\n",
    "        if details :\n",
    "            print(\"max atteint en{}:{}\".format(i, argent_fait[i]) )\n",
    "        maxi = x\n",
    "        mini = math.inf\n",
    "    elif x < mini:\n",
    "        if details:\n",
    "            print(\"min atteint en{}:{}\".format(i, argent_fait[i]) )\n",
    "        mini = x\n",
    "        drawdown = max(drawdown, (maxi-mini)/maxi)\n",
    "    i+=1\n",
    "\n",
    "drawdown"
   ]
  },
  {
   "cell_type": "code",
   "execution_count": 10,
   "id": "ca976b10-6ae8-4978-b090-5a796736e680",
   "metadata": {},
   "outputs": [
    {
     "data": {
      "text/plain": [
       "array([0.0000e+00, 0.0000e+00, 4.8055e+01, 0.0000e+00, 8.3415e+01,\n",
       "       0.0000e+00, 2.2170e+00, 0.0000e+00, 0.0000e+00, 1.0000e-03,\n",
       "       4.6780e+00, 0.0000e+00, 3.7601e+01, 0.0000e+00, 8.0117e+01,\n",
       "       0.0000e+00, 0.0000e+00, 0.0000e+00, 1.0000e-03, 0.0000e+00])"
      ]
     },
     "execution_count": 10,
     "metadata": {},
     "output_type": "execute_result"
    }
   ],
   "source": [
    "pos.round(3)"
   ]
  },
  {
   "cell_type": "code",
   "execution_count": 11,
   "id": "817310d9-b1ad-47ff-9f17-9b0988eac3a0",
   "metadata": {
    "scrolled": true
   },
   "outputs": [
    {
     "data": {
      "image/png": "[encoded data removed]",
      "text/plain": [
       "<Figure size 432x288 with 1 Axes>"
      ]
     },
     "metadata": {
      "needs_background": "light"
     },
     "output_type": "display_data"
    },
    {
     "name": "stdout",
     "output_type": "stream",
     "text": [
      "L'argent est le plus investi dans l'action: EWJ\n"
     ]
    }
   ],
   "source": [
    "plt.plot([pos[i] for i in range(len(pos))])\n",
    "plt.title(\"Argent investi dans chaque stocks\")\n",
    "plt.show()\n",
    "print(\"L'argent est le plus investi dans l'action: \"+assets[np.argmax(pos)])"
   ]
  },
  {
   "cell_type": "code",
   "execution_count": 12,
   "id": "1c0c702a-3ad8-4bd0-aac6-454374df77bb",
   "metadata": {},
   "outputs": [
    {
     "data": {
      "text/plain": [
       "AMC     -0.000016\n",
       "BWX     -0.000013\n",
       "DBC      0.000020\n",
       "EEM      0.000091\n",
       "EWJ      0.000152\n",
       "GLD      0.000226\n",
       "IEF      0.000120\n",
       "INTC     0.000386\n",
       "QQQ      0.000668\n",
       "REM      0.000210\n",
       "RWX      0.000077\n",
       "SCZ      0.000204\n",
       "SPY      0.000471\n",
       "TIP      0.000153\n",
       "TLT      0.000226\n",
       "TSM      0.000973\n",
       "TWTR    -0.000318\n",
       "VGK      0.000124\n",
       "VNQ      0.000384\n",
       "VWUSX    0.000556\n",
       "dtype: float64"
      ]
     },
     "execution_count": 12,
     "metadata": {},
     "output_type": "execute_result"
    }
   ],
   "source": [
    "# Le returns avec une telle repartition de portefeuille est de:\n",
    "returns.mean()"
   ]
  },
  {
   "cell_type": "code",
   "execution_count": 17,
   "id": "d8d2705e-3603-4609-a646-fba82c5cc4a8",
   "metadata": {},
   "outputs": [
    {
     "name": "stdout",
     "output_type": "stream",
     "text": [
      "Nombre d'action acheté pour chaque symbols: \n",
      "SPY 0.0\n",
      "QQQ 0.0\n",
      "VGK 48.055\n",
      "SCZ 0.0\n",
      "EWJ 83.415\n",
      "EEM 0.0\n",
      "REM 2.217\n",
      "VNQ 0.0\n",
      "RWX 0.0\n",
      "TIP 0.001\n",
      "IEF 4.678\n",
      "TLT 0.0\n",
      "BWX 37.601\n",
      "DBC 0.0\n",
      "GLD 80.117\n",
      "twtr 0.0\n",
      "intc 0.0\n",
      "tsm 0.0\n",
      "VWUSX 0.001\n",
      "Amc 0.0\n"
     ]
    }
   ],
   "source": [
    "print(\"Nombre d'action acheté pour chaque symbols: \")\n",
    "r = pd.DataFrame([assets,pos])\n",
    "for i in range(len(assets)):\n",
    "    print(assets[i],pos[i].round(3))"
   ]
  },
  {
   "cell_type": "code",
   "execution_count": null,
   "id": "0c09806d",
   "metadata": {},
   "outputs": [],
   "source": []
  }
 ],
 "metadata": {
  "kernelspec": {
   "display_name": "Python 3 (ipykernel)",
   "language": "python",
   "name": "python3"
  },
  "language_info": {
   "codemirror_mode": {
    "name": "ipython",
    "version": 3
   },
   "file_extension": ".py",
   "mimetype": "text/x-python",
   "name": "python",
   "nbconvert_exporter": "python",
   "pygments_lexer": "ipython3",
   "version": "3.9.7"
  }
 },
 "nbformat": 4,
 "nbformat_minor": 5
}
