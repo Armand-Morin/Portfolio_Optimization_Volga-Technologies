{
 "cells": [
  {
   "cell_type": "code",
   "execution_count": 2,
   "id": "7867ca1a",
   "metadata": {
    "jupyter": {
     "outputs_hidden": true
    },
    "tags": []
   },
   "outputs": [],
   "source": [
    "import pandas as pd\n",
    "import numpy as np\n",
    "import yfinance as yf\n",
    "from scipy.optimize import minimize, Bounds\n",
    "import matplotlib.pyplot as plt\n",
    "from datetime import date\n",
    "from tqdm.notebook import tqdm_notebook\n",
    "import math\n",
    "import time"
   ]
  },
  {
   "cell_type": "code",
   "execution_count": 3,
   "id": "af699367",
   "metadata": {},
   "outputs": [],
   "source": [
    "def get_data(assets, start_date, end_date, time_interval):\n",
    "    return yf.download(assets, \n",
    "                          start = start_date, \n",
    "                          end = end_date,\n",
    "                          interval = time_interval,\n",
    "                          threads = True,\n",
    "                          progress = False)['Adj Close']"
   ]
  },
  {
   "cell_type": "code",
   "execution_count": 4,
   "id": "5f4baafb-2604-438b-9bf5-4602d8589414",
   "metadata": {
    "jupyter": {
     "outputs_hidden": true
    },
    "scrolled": true,
    "tags": []
   },
   "outputs": [
    {
     "data": {
      "text/plain": [
       "'returns = np.log(all_stocks/all_stocks.shift(1))\\nreturns.fillna(0)\\nreturns_raw = returns.iloc[1: , :]\\n\\nint((returns_raw.shape[0]-253)/20)'"
      ]
     },
     "execution_count": 4,
     "metadata": {},
     "output_type": "execute_result"
    }
   ],
   "source": [
    "assets  = [ 'SPY', \"QQQ\", \"VGK\", \"SCZ\", \"EWJ\", \"EEM\", #eq\n",
    "           'REM', \"VNQ\", \"RWX\", # re\n",
    "           'TIP', \"IEF\", \"TLT\", \"BWX\", #fi\n",
    "           'DBC', \"GLD\", #como\n",
    "           'twtr', 'intc', 'tsm',\"VWUSX\", \"Amc\"]\n",
    "\n",
    "\n",
    "# ----------- DATES ------\n",
    "start_train_date = '2020-01-01'\n",
    "end_train_date = '2021-01-01'\n",
    "start_test_date = end_train_date\n",
    "end_test_date = date.today()\n",
    "interval = \"1d\"\n",
    "\n",
    "\n",
    "all_stocks = get_data(assets, '2014-01-01', '2020-01-01', \"1d\")\n",
    "\n",
    "\"\"\"returns = np.log(all_stocks/all_stocks.shift(1))\n",
    "returns.fillna(0)\n",
    "returns_raw = returns.iloc[1: , :]\n",
    "\n",
    "int((returns_raw.shape[0]-253)/20)\"\"\""
   ]
  },
  {
   "cell_type": "markdown",
   "id": "dfec369f",
   "metadata": {},
   "source": [
    "Initialisation des variables"
   ]
  },
  {
   "cell_type": "code",
   "execution_count": 5,
   "id": "db622ee2",
   "metadata": {},
   "outputs": [],
   "source": [
    "def init(Money, periode_trades):\n",
    "    \n",
    "    global memo, X, cash, argent_gagne, couts_transaction, s, argent_fait, pf_value, pos, pos2, bounds, nb_actifs, returns_raw\n",
    "    \n",
    "    # Variables utilisées dans l'algorithme\n",
    "\n",
    "    returns = np.log(all_stocks/all_stocks.shift(periode_trades))\n",
    "    returns.fillna(0)\n",
    "    returns_raw = returns.iloc[periode_trades: , :]\n",
    "    \n",
    "    cash = Money\n",
    "    win = 0\n",
    "    argent_gagne = 0\n",
    "    cout = 0\n",
    "    couts_transaction = 0\n",
    "    s = 0\n",
    "    nb_actifs = returns_raw.shape[1]\n",
    "    argent_fait = [Money]\n",
    "    pf_value = 0\n",
    "    X = []\n",
    "    memo = {}\n",
    "\n",
    "    # pos = portefeuille initialement vide\n",
    "    pos = np.array([0 for i in range(nb_actifs)])\n"
   ]
  },
  {
   "cell_type": "markdown",
   "id": "60186367",
   "metadata": {},
   "source": [
    "Fonctions objectif et coûts de transaction"
   ]
  },
  {
   "cell_type": "code",
   "execution_count": 6,
   "id": "8c2ec808",
   "metadata": {},
   "outputs": [],
   "source": [
    "def objective_cov(pos, returns, covar_matrix, alpha, memoisation):\n",
    "    global s\n",
    "    if memoisation:\n",
    "        x = str(pos)\n",
    "        if x not in memo:\n",
    "            s = pos@covar_matrix@pos #- alpha*returns@pos\n",
    "            memo[x] = s\n",
    "        else:\n",
    "            s = memo[x]\n",
    "            # print(\"la mémo a été utile\")\n",
    "    else:\n",
    "        s = pos@covar_matrix@pos - alpha*returns@pos\n",
    "    \n",
    "    # print(f\"Valeur de la fonction objectif : {s.round(3)}\")\n",
    "    return s\n",
    "\n",
    "def TC(pos,pos2, vp):\n",
    "    return lamb*(np.sum(np.array([np.abs((pos2[i]-pos[i])*vp[i]) for i in range(nb_actifs)])))\n"
   ]
  },
  {
   "cell_type": "markdown",
   "id": "5a78b7e4",
   "metadata": {},
   "source": [
    "Import des données roulantes à l'étape i"
   ]
  },
  {
   "cell_type": "code",
   "execution_count": 7,
   "id": "184ae67c",
   "metadata": {},
   "outputs": [],
   "source": [
    "def import_donnees(etape):\n",
    "    global X\n",
    "    \n",
    "    # import des données roulantes, on calcule à partir des données de l'année précédente\n",
    "    log_returns = returns_raw.iloc[etape:253+etape, :]\n",
    "    # calcul des expected returns (par Standard Moving Average, et on prend une période plus courte)\n",
    "    expected_returns_SMA = log_returns.iloc[-jours_returns:: ,:].mean()\n",
    "    # calcul des expected returns (par Exponential Moving Average)\n",
    "    expected_returns_EMA = log_returns.iloc[-jours_returns*3:: ,:].ewm(span=jours_returns, adjust=False).mean().iloc[-1,:]\n",
    "    \n",
    "    # calcul de la matrice de covariance\n",
    "    covar = log_returns.cov().copy()\n",
    "    covar_matrix = covar.to_numpy()\n",
    "    \n",
    "    correl = log_returns.corr().copy()\n",
    "    correl_matrix = correl.to_numpy()\n",
    "\n",
    "    # calcul du vecteur prix des actifs à t (le temps de la décision) et t + 1jour\n",
    "    vp = all_stocks[253+etape::].values[0]\n",
    "    vp2 = all_stocks[253+etape+periode_trades::].values[0]\n",
    "    \n",
    "    expected_returns = np.array([expected_returns_EMA[i]*vp[i] for i in range(nb_actifs)])\n",
    "\n",
    "    #X.append(str(returns_raw.iloc[253+etape].name).split()[0])\n",
    "    #print(str(log_returns.iloc[-1].name).split()[0])\n",
    "    memo = {}\n",
    "    \n",
    "    return expected_returns_SMA, covar_matrix, vp, vp2, memo"
   ]
  },
  {
   "cell_type": "markdown",
   "id": "6ab09682",
   "metadata": {},
   "source": [
    "Fonctions contraintes"
   ]
  },
  {
   "cell_type": "code",
   "execution_count": 8,
   "id": "617652c3",
   "metadata": {},
   "outputs": [],
   "source": [
    "def cons1(x,Money,vp):\n",
    "    # on ne peut pas investir plus que ce qu'on possède\n",
    "    return Money - np.sum([x[i]*vp[i] for i in range(nb_actifs)])\n",
    "\n",
    "def cons2(x,cash,pos,vp):\n",
    "    # pour payer les coûts de transaction, il faut soit utiliser du cash soit vendre des positions (pour un prix -delta_P*vp)\n",
    "    return cash + np.sum([(pos[i]-x[i])*vp[i] for i in range(nb_actifs)]) - TC(pos,x,vp)\n",
    "\n",
    "def cons3(x,returns,vp, gain_cible):\n",
    "    # on veut au moins que le gain soit supérieur à gain_cible\n",
    "    return np.sum([returns[i]*vp[i]*x[i] for i in range(nb_actifs)]) - gain_cible"
   ]
  },
  {
   "cell_type": "markdown",
   "id": "af0db3b9",
   "metadata": {},
   "source": [
    "Calcul de l'optimisation roulante"
   ]
  },
  {
   "cell_type": "code",
   "execution_count": 9,
   "id": "7b18817e-7340-4544-ad03-ad6761175607",
   "metadata": {
    "jupyter": {
     "outputs_hidden": true
    },
    "scrolled": true,
    "tags": []
   },
   "outputs": [],
   "source": [
    "def compute_portfolio(lamb, alpha, Money, Pos_max_par_actif, jours_returns, periode_trades, nb_etapes, gain_cible, debug=True):\n",
    "    \n",
    "    global pf_value, pos, pos2, argent_gagne, cout, win, cash, couts_transaction\n",
    "    global Test_pos, Test_TC, Test_money, Test_cash, TCs, Moneys, Cashs\n",
    "    \n",
    "    init(Money, periode_trades)\n",
    "    Test_pos = [[0 for i in range(nb_actifs)]]\n",
    "    Test_TC = [0]\n",
    "    Test_money = [0]\n",
    "    Test_cash = [0]\n",
    "    TCs = [0]\n",
    "    Moneys = [0]\n",
    "    Cashs = [0]\n",
    "    \n",
    "    if debug:\n",
    "        print(\"Argent injecté au départ:\", Money)\n",
    "\n",
    "\n",
    "    for i in tqdm_notebook(range(min(nb_etapes,int((returns_raw.shape[0]-253)/periode_trades)))):\n",
    "\n",
    "        # calcul des returns, de la matrice de variance, des vecteurs prix\n",
    "        returns, covar_matrix, vp, vp2, memo = import_donnees(i*periode_trades)\n",
    "\n",
    "        cons = (#{\"type\":\"ineq\", \"fun\": lambda x: cons1(x,Money,vp)}, --> contrainte finalement inutile vis à vis de la seconde\n",
    "               {\"type\": \"ineq\", \"fun\": lambda x: cons2(x,cash,pos,vp)},\n",
    "                {\"type\": \"ineq\", \"fun\": lambda x: cons3(x,returns,vp, gain_cible)}\n",
    "               )\n",
    "        \n",
    "        bounds = Bounds(-Pos_max_par_actif, Pos_max_par_actif)\n",
    "        \n",
    "        # calcul du vecteur position\n",
    "        p = minimize(objective_cov, pos, \n",
    "                 method = \"SLSQP\",\n",
    "                 bounds = bounds,\n",
    "                 constraints = cons,\n",
    "                args=(returns, covar_matrix, alpha, memoisation),\n",
    "                options={'maxiter': 300, 'ftol': 1e-09})\n",
    "        cout = TC(pos,p.x, vp)\n",
    "        \n",
    "        TCs.append(cout)\n",
    "        test_cout = TC(Test_pos[-1],[fact*p.x[i] for i in range(len(p.x))],vp)\n",
    "        Test_TC.append(test_cout)\n",
    "        \"\"\"\n",
    "        print(cons1(p.x,Money,vp))\n",
    "        print(cons2(p.x,cash,pos,vp))\n",
    "        print(\"gain espéré\",cons3(p.x,returns,vp,gain_cible)+gain_cible)\"\"\"\n",
    "        if not p.success:\n",
    "            print(\"False\")\n",
    "        couts_transaction += cout\n",
    "\n",
    "        pos = p.x # les positions prises en fin de journée\n",
    "        Test_pos.append([fact*pos[i] for i in range(len(pos))])\n",
    "\n",
    "        pf2_value = np.sum([pos[i]*vp[i] for i in range(nb_actifs)])\n",
    "\n",
    "\n",
    "        cash_restant = Money - (pf2_value + cout) # = valeur totale à t-1 - argent ivesti à t\n",
    "        cash = cash_restant # l'argent que l'algo décide de ne pas investir\n",
    "        \n",
    "        test_cash = Test_money[-1] - np.sum([Test_pos[-1][i]*vp[i] for i in range(nb_actifs)]) - test_cout\n",
    "        Test_cash.append(test_cash)\n",
    "        Cashs.append(cash)\n",
    "\n",
    "        if debug:\n",
    "            print(\"\\n\",\"Etape {}:\".format(i))\n",
    "\n",
    "            # affichage des valeurs numériques\n",
    "            print('\\033[94m'+\"Somme des positions: \"+str(pf2_value)+'\\033[0m')\n",
    "            print('\\033[92m'+\"Coûts de transaction: \"+str(cout)+'\\033[0m')\n",
    "            print(\"cash :\", cash.round(6))\n",
    "            print(f\"La valeur de la fonction objectif:{s}\")\n",
    "\n",
    "        # mise à jour à chaque actualisation des prix\n",
    "        pf_value = np.sum([pos[i]*vp2[i] for i in range(nb_actifs)])\n",
    "        Money = pf_value + cash\n",
    "        Test_money.append(np.sum([Test_pos[-1][i]*vp2[i] for i in range(nb_actifs)]) + test_cash)\n",
    "        argent_fait.append(Money)\n",
    "        win = pf_value - pf2_value\n",
    "        argent_gagne += win\n",
    "        if debug:\n",
    "            print('\\033[94m'+\"Somme des positions: \"+str(pf_value)+'\\033[0m')\n",
    "            print('\\033[95m'+\"Argent généré sans TC : \"+str(win)+'\\033[0m')\n",
    "            print('\\033[96m'+\"Money :\"+str(Money)+'\\033[0m', \"\\n\")\n",
    "\n",
    "        \n",
    "        \"\"\"print('\\033[95m'+\"Gain réel sans TC : \"+str(win)+'\\033[0m')\n",
    "        print('\\033[92m'+\"Coûts de transaction: \"+str(cout)+'\\033[0m')\n",
    "        print('\\033[96m'+\"Money :\"+str(Money)+'\\033[0m', \"\\n\")\"\"\"\n",
    "        \n",
    "    if debug:\n",
    "        print(\"\\n\",\"fin du calcul\")\n",
    "\n",
    "    print('\\033[95m'+\"Argent total généré sans TC : \"+str(argent_gagne)+'\\033[0m')\n",
    "    print('\\033[92m'+\"Coûts totaux de transaction: \"+str(couts_transaction)+'\\033[0m')\n",
    "    print('\\033[96m'+\"Money :\"+str(Money)+'\\033[0m', \"\\n\")\n"
   ]
  },
  {
   "cell_type": "code",
   "execution_count": 14,
   "id": "7a8323f5",
   "metadata": {
    "scrolled": true
   },
   "outputs": [
    {
     "data": {
      "application/vnd.jupyter.widget-view+json": {
       "model_id": "9de9625cdc7540d6837dca54e7296a00",
       "version_major": 2,
       "version_minor": 0
      },
      "text/plain": [
       "  0%|          | 0/40 [00:00<?, ?it/s]"
      ]
     },
     "metadata": {},
     "output_type": "display_data"
    },
    {
     "name": "stdout",
     "output_type": "stream",
     "text": [
      "\u001b[95mArgent total généré sans TC : 0.5837087557086693\u001b[0m\n",
      "\u001b[92mCoûts totaux de transaction: 0.23385061005367527\u001b[0m\n",
      "\u001b[96mMoney :0.3498581456549937\u001b[0m \n",
      "\n",
      "\u001b[90mTemps d'exécution: 3.940324544906616\u001b[0m\n"
     ]
    },
    {
     "data": {
      "image/png": "[encoded data removed]",
      "text/plain": [
       "<Figure size 432x288 with 1 Axes>"
      ]
     },
     "metadata": {
      "needs_background": "light"
     },
     "output_type": "display_data"
    }
   ],
   "source": [
    "# Paramètres modifiables\n",
    "\n",
    "lamb = 0.01 # Coûts de transaction ; faire attention car sinon il n'y a pas de mouvements de position\n",
    "alpha = 0.1 # importance accordée à l'expected return\n",
    "Money = 0 # argent alloué pour l'investissement initial\n",
    "Pos_max_par_actif = 10000 # quantité maximale d'argent investi par actif\n",
    "jours_returns = 10 # les n derniers jours qui servent pour calculer les expected returns\n",
    "periode_trades = 30 # le nombre de jours ouvrés qui séparent chaque décision\n",
    "memoisation = True\n",
    "dP_max = 2.5\n",
    "gain_cible = 0.015\n",
    "fact=10000\n",
    "\n",
    "start = time.time()\n",
    "compute_portfolio(lamb, alpha, Money, Pos_max_par_actif, jours_returns, periode_trades,60, gain_cible, False)\n",
    "end = time.time()\n",
    "print('\\033[90m'+\"Temps d'exécution: \"+format(end-start)+'\\033[0m')\n",
    "\n",
    "\n",
    "plt.plot(argent_fait)\n",
    "plt.title(\"Evolution de la valeur du portfolio\")\n",
    "plt.show()"
   ]
  },
  {
   "cell_type": "code",
   "execution_count": 21,
   "id": "746e3b79",
   "metadata": {},
   "outputs": [
    {
     "name": "stdout",
     "output_type": "stream",
     "text": [
      "Pente moyenne : 0.0139 par période\n",
      "[0, -0.002956814650290754, 0.004531638464947967, 0.017126043198593455, 0.026600103871721625, 0.029604988803626442, 0.03558272851021199, 0.04349913829339346, 0.047026214914151876, 0.04360480378127618, 0.05338339096141893, 0.05378171985974356, 0.04988695590163961, 0.06031739980898907, 0.058142709083184585, 0.0711954396398104, 0.11342665258351503, 0.1163034044352528, 0.13196405590709964, 0.13777529144416548, 0.16220289918752104, 0.1771241178764816, 0.20450632766927127, 0.207693316743666, 0.24264601293476137, 0.26977246420749734, 0.30553090924014237, 0.2954102718299009, 0.27106586690911216, 0.27177697453697136, 0.28720033097007713, 0.29815083448177404, 0.2984706102410817, 0.287749848894983, 0.27492161293807404, 0.26755410761669196, 0.2871339835312056, 0.29549168133331666, 0.31909689502354055, 0.33897748564252417, 0.3498581456549937]\n",
      "0.14379556656842038\n",
      "[-2.5326082290962524, 2.779216574989969, 0.5531961214430585, 0.11296515782027783, 0.201916634599548, 0.222478997947263, 0.08108382738455527, -0.07275540119743021, 0.22425481442807593, 0.007461663471556262, -0.07241798827298647, 0.20908158693656936, -0.036054119253999956, 0.22449470900902319, 0.5931730059868916, 0.025362221190646947, 0.13465342263962074, 0.04403650294862747, 0.1773003525327692, 0.09199107268551536, 0.1545933446053054, 0.015583816455541452, 0.16828994181952325]\n"
     ]
    }
   ],
   "source": [
    "print(\"Pente moyenne :\", int(10000*argent_fait[-1]/(25))/10000,\"par période\")\n",
    "L=[]\n",
    "print(argent_fait)\n",
    "for i in range(2,25):\n",
    "    L.append((argent_fait[i]-argent_fait[i-1])/argent_fait[i-1])\n",
    "test = np.array(L)\n",
    "print(np.mean(test))\n",
    "print(L)"
   ]
  },
  {
   "cell_type": "markdown",
   "id": "bc4e19d7",
   "metadata": {},
   "source": [
    "Test"
   ]
  },
  {
   "cell_type": "code",
   "execution_count": 140,
   "id": "0627ba28",
   "metadata": {},
   "outputs": [
    {
     "data": {
      "image/png": "[encoded data removed]",
      "text/plain": [
       "<Figure size 432x288 with 1 Axes>"
      ]
     },
     "metadata": {
      "needs_background": "light"
     },
     "output_type": "display_data"
    }
   ],
   "source": [
    "plt.plot(Test_money,'r', label=\"cas démultiplié\")\n",
    "plt.plot(argent_fait,'g', label=\"cas de base\")\n",
    "plt.legend()\n",
    "plt.title(\"Evolution de la valeur du portfolio\")\n",
    "plt.show()"
   ]
  },
  {
   "cell_type": "code",
   "execution_count": 141,
   "id": "130ab703",
   "metadata": {},
   "outputs": [
    {
     "data": {
      "image/png": "[encoded data removed]",
      "text/plain": [
       "<Figure size 432x288 with 1 Axes>"
      ]
     },
     "metadata": {
      "needs_background": "light"
     },
     "output_type": "display_data"
    }
   ],
   "source": [
    "plt.plot(Test_TC,'r', label=\"cas démultiplié\")\n",
    "plt.plot([fact*TCs[i] for i in range(len(TCs))],'g', label=\"cas de base\")\n",
    "plt.legend()\n",
    "plt.title(\"Evolution de la valeur des TC\")\n",
    "plt.show()"
   ]
  },
  {
   "cell_type": "code",
   "execution_count": 142,
   "id": "40b65fd5",
   "metadata": {},
   "outputs": [
    {
     "data": {
      "image/png": "[encoded data removed]",
      "text/plain": [
       "<Figure size 432x288 with 1 Axes>"
      ]
     },
     "metadata": {
      "needs_background": "light"
     },
     "output_type": "display_data"
    }
   ],
   "source": [
    "plt.plot(Test_cash,'r', label=\"cas démultiplié\")\n",
    "plt.plot([fact*Cashs[i] for i in range(len(Cashs))],'g', label=\"cas de base\")\n",
    "plt.legend()\n",
    "plt.title(\"Evolution du cash\")\n",
    "plt.show()"
   ]
  },
  {
   "cell_type": "markdown",
   "id": "a6dc2490",
   "metadata": {},
   "source": [
    "Calcul du drawdown"
   ]
  },
  {
   "cell_type": "code",
   "execution_count": 147,
   "id": "9bb73b73",
   "metadata": {},
   "outputs": [
    {
     "data": {
      "text/plain": [
       "0.12429747685553955"
      ]
     },
     "execution_count": 147,
     "metadata": {},
     "output_type": "execute_result"
    }
   ],
   "source": [
    "drawdown = -math.inf\n",
    "maxi = -math.inf\n",
    "mini = math.inf\n",
    "i = 0\n",
    "details = False # afficher plus de détails\n",
    "\n",
    "for x in argent_fait:\n",
    "    if x > maxi:\n",
    "        if details :\n",
    "            print(\"max atteint en{}:{}\".format(i, argent_fait[i]) )\n",
    "        maxi = x\n",
    "        mini = math.inf\n",
    "    elif x < mini:\n",
    "        if details:\n",
    "            print(\"min atteint en{}:{}\".format(i, argent_fait[i]) )\n",
    "        mini = x\n",
    "        if maxi != 0:\n",
    "            drawdown = max(drawdown, (maxi-mini)/maxi)\n",
    "    i+=1\n",
    "\n",
    "drawdown"
   ]
  },
  {
   "cell_type": "code",
   "execution_count": 148,
   "id": "ca976b10-6ae8-4978-b090-5a796736e680",
   "metadata": {},
   "outputs": [
    {
     "data": {
      "text/plain": [
       "array([ 0.   , -0.002, -0.001,  0.001, -0.002,  0.   , -0.003, -0.001,\n",
       "        0.   ,  0.001,  0.001,  0.001,  0.002, -0.004,  0.003,  0.001,\n",
       "        0.   ,  0.   ,  0.001, -0.002])"
      ]
     },
     "execution_count": 148,
     "metadata": {},
     "output_type": "execute_result"
    }
   ],
   "source": [
    "pos.round(3)"
   ]
  },
  {
   "cell_type": "code",
   "execution_count": 150,
   "id": "817310d9-b1ad-47ff-9f17-9b0988eac3a0",
   "metadata": {
    "scrolled": true
   },
   "outputs": [
    {
     "data": {
      "image/png": "[encoded data removed]",
      "text/plain": [
       "<Figure size 432x288 with 1 Axes>"
      ]
     },
     "metadata": {
      "needs_background": "light"
     },
     "output_type": "display_data"
    },
    {
     "name": "stdout",
     "output_type": "stream",
     "text": [
      "L'argent est le plus investi dans l'action: GLD\n"
     ]
    }
   ],
   "source": [
    "plt.plot([pos[i] for i in range(len(pos))])\n",
    "plt.title(\"Argent investi dans chaque stock\")\n",
    "plt.show()\n",
    "print(\"L'argent est le plus investi dans l'action: \"+assets[np.argmax(pos)])"
   ]
  },
  {
   "cell_type": "code",
   "execution_count": 151,
   "id": "d8d2705e-3603-4609-a646-fba82c5cc4a8",
   "metadata": {},
   "outputs": [
    {
     "name": "stdout",
     "output_type": "stream",
     "text": [
      "Nombre d'action acheté pour chaque symbols: \n",
      "SPY 0.0\n",
      "QQQ -0.002\n",
      "VGK -0.001\n",
      "SCZ 0.001\n",
      "EWJ -0.002\n",
      "EEM 0.0\n",
      "REM -0.003\n",
      "VNQ -0.001\n",
      "RWX 0.0\n",
      "TIP 0.001\n",
      "IEF 0.001\n",
      "TLT 0.001\n",
      "BWX 0.002\n",
      "DBC -0.004\n",
      "GLD 0.003\n",
      "twtr 0.001\n",
      "intc 0.0\n",
      "tsm 0.0\n",
      "VWUSX 0.001\n",
      "Amc -0.002\n"
     ]
    }
   ],
   "source": [
    "print(\"Nombre d'action acheté pour chaque symbols: \")\n",
    "r = pd.DataFrame([assets,pos])\n",
    "for i in range(len(assets)):\n",
    "    print(assets[i],pos[i].round(3))"
   ]
  },
  {
   "cell_type": "code",
   "execution_count": null,
   "id": "0c09806d",
   "metadata": {},
   "outputs": [],
   "source": []
  }
 ],
 "metadata": {
  "kernelspec": {
   "display_name": "Python 3 (ipykernel)",
   "language": "python",
   "name": "python3"
  },
  "language_info": {
   "codemirror_mode": {
    "name": "ipython",
    "version": 3
   },
   "file_extension": ".py",
   "mimetype": "text/x-python",
   "name": "python",
   "nbconvert_exporter": "python",
   "pygments_lexer": "ipython3",
   "version": "3.9.7"
  }
 },
 "nbformat": 4,
 "nbformat_minor": 5
}
