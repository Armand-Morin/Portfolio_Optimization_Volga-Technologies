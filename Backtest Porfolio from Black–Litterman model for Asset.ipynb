{
 "cells": [
  {
   "cell_type": "markdown",
   "metadata": {},
   "source": [
    "### Backtest Porfolio with pyfolio"
   ]
  },
  {
   "cell_type": "code",
   "execution_count": 2,
   "metadata": {},
   "outputs": [],
   "source": [
    "import pandas as pd\n",
    "import numpy as np\n",
    "import matplotlib.pyplot as plt\n",
    "import seaborn as sns\n",
    "import datetime\n",
    "import yfinance as yf\n",
    "import pandas_datareader.data as web\n",
    "import pyfolio as pf"
   ]
  },
  {
   "cell_type": "code",
   "execution_count": 11,
   "metadata": {},
   "outputs": [
    {
     "data": {
      "text/plain": [
       "Date\n",
       "2010-01-05 00:00:00+00:00    0.007262\n",
       "2010-01-06 00:00:00+00:00    0.000842\n",
       "Name: S&P BSE-SENSEX, dtype: float64"
      ]
     },
     "execution_count": 11,
     "metadata": {},
     "output_type": "execute_result"
    }
   ],
   "source": [
    "# benchmark returns for comparison\n",
    "benchmark = '^BSESN' # S&P BSE Sensex\n",
    "benchmark_rets= web.DataReader(benchmark, 'yahoo', start='2010-01-01',)['Adj Close'].pct_change().dropna()\n",
    "benchmark_rets.index = benchmark_rets.index.tz_localize('UTC') \n",
    "benchmark_rets.name = 'S&P BSE-SENSEX'\n",
    "benchmark_rets.head(2)"
   ]
  },
  {
   "cell_type": "code",
   "execution_count": 13,
   "metadata": {},
   "outputs": [
    {
     "data": {
      "text/plain": [
       "Date\n",
       "2010-01-04 00:00:00+00:00    17558.730469\n",
       "2010-01-05 00:00:00+00:00    17686.240234\n",
       "2010-01-06 00:00:00+00:00    17701.130859\n",
       "2010-01-07 00:00:00+00:00    17615.720703\n",
       "2010-01-08 00:00:00+00:00    17540.289062\n",
       "Freq: D, Name: Adj Close, dtype: float64"
      ]
     },
     "execution_count": 13,
     "metadata": {},
     "output_type": "execute_result"
    }
   ],
   "source": [
    "# benchmark prices for comparison\n",
    "benchmark = '^BSESN' # S&P BSE Sensex\n",
    "benchmark_prices = web.DataReader(benchmark, 'yahoo', start='2010-01-01',)['Adj Close']\n",
    "benchmark_prices = benchmark_prices.asfreq('D', method='ffill')\n",
    "benchmark_prices.index = benchmark_prices.index.tz_localize('UTC')\n",
    "benchmark_prices.head(5)"
   ]
  },
  {
   "cell_type": "code",
   "execution_count": 14,
   "metadata": {},
   "outputs": [
    {
     "data": {
      "text/plain": [
       "Date\n",
       "2010-01-04 00:00:00+00:00    500000.000000\n",
       "2010-01-05 00:00:00+00:00    503630.950593\n",
       "2010-01-06 00:00:00+00:00    504054.973988\n",
       "2010-01-07 00:00:00+00:00    501622.846096\n",
       "2010-01-08 00:00:00+00:00    499474.865046\n",
       "Freq: D, Name: Adj Close, dtype: float64"
      ]
     },
     "execution_count": 14,
     "metadata": {},
     "output_type": "execute_result"
    }
   ],
   "source": [
    "# Rebase the benchmark prices for comparison\n",
    "benchmark_prices = (benchmark_prices/benchmark_prices.iloc[0]) * startcash\n",
    "benchmark_prices.head()"
   ]
  },
  {
   "cell_type": "code",
   "execution_count": 15,
   "metadata": {},
   "outputs": [
    {
     "ename": "NameError",
     "evalue": "name 'returns' is not defined",
     "output_type": "error",
     "traceback": [
      "\u001b[0;31m---------------------------------------------------------------------------\u001b[0m",
      "\u001b[0;31mNameError\u001b[0m                                 Traceback (most recent call last)",
      "Input \u001b[0;32mIn [15]\u001b[0m, in \u001b[0;36m<cell line: 1>\u001b[0;34m()\u001b[0m\n\u001b[0;32m----> 1\u001b[0m portfolio_value \u001b[38;5;241m=\u001b[39m \u001b[43mreturns\u001b[49m\u001b[38;5;241m.\u001b[39mcumsum()\u001b[38;5;241m.\u001b[39mapply(np\u001b[38;5;241m.\u001b[39mexp) \u001b[38;5;241m*\u001b[39m startcash\n\u001b[1;32m      3\u001b[0m \u001b[38;5;66;03m# Visulize the output\u001b[39;00m\n\u001b[1;32m      4\u001b[0m fig, ax \u001b[38;5;241m=\u001b[39m plt\u001b[38;5;241m.\u001b[39msubplots(\u001b[38;5;241m2\u001b[39m, \u001b[38;5;241m1\u001b[39m, sharex\u001b[38;5;241m=\u001b[39m\u001b[38;5;28;01mTrue\u001b[39;00m, figsize\u001b[38;5;241m=\u001b[39m[\u001b[38;5;241m14\u001b[39m, \u001b[38;5;241m8\u001b[39m])\n",
      "\u001b[0;31mNameError\u001b[0m: name 'returns' is not defined"
     ]
    }
   ],
   "source": [
    "portfolio_value = returns.cumsum().apply(np.exp) * startcash\n",
    "\n",
    "# Visulize the output\n",
    "fig, ax = plt.subplots(2, 1, sharex=True, figsize=[14, 8])\n",
    "\n",
    "# portfolio value\n",
    "portfolio_value.plot(ax=ax[0], label='Strategy')\n",
    "benchmark_prices.plot(ax=ax[0], label='Benchmark - S&P BSE-Sensex')\n",
    "ax[0].set_ylabel('Portfolio Value')\n",
    "ax[0].grid(True)\n",
    "ax[0].legend()\n",
    "\n",
    "# daily returns\n",
    "returns.plot(ax=ax[1], label='Strategy', alpha=0.5)\n",
    "benchmark_rets.plot(ax=ax[1], label='Benchmark - S&P BSE-Sensex', alpha=0.5)\n",
    "ax[1].set_ylabel('Daily Returns')\n",
    "\n",
    "fig.suptitle('Black–Litterman Portfolio Allocation vs S&P BSE-Sensex', fontsize=16)\n",
    "plt.grid(True)\n",
    "plt.legend()\n",
    "plt.show()"
   ]
  },
  {
   "cell_type": "code",
   "execution_count": null,
   "metadata": {},
   "outputs": [],
   "source": [
    "import seaborn as sns\n",
    "import warnings\n",
    "%matplotlib inline\n",
    "%config InlineBackend.figure_format = 'retina'\n",
    "warnings.filterwarnings('ignore')"
   ]
  },
  {
   "cell_type": "code",
   "execution_count": null,
   "metadata": {},
   "outputs": [],
   "source": [
    "# get performance statistics for strategy\n",
    "pf.show_perf_stats(returns,)"
   ]
  },
  {
   "cell_type": "code",
   "execution_count": null,
   "metadata": {},
   "outputs": [],
   "source": [
    "# get performance statistics for benchmark\n",
    "pf.show_perf_stats(benchmark_rets)"
   ]
  },
  {
   "cell_type": "code",
   "execution_count": null,
   "metadata": {},
   "outputs": [],
   "source": [
    "# plot performance for strategy\n",
    "fig, ax = plt.subplots(nrows=2, ncols=2, figsize=(14, 8),constrained_layout=True)\n",
    "axes = ax.flatten()\n",
    "\n",
    "pf.plot_drawdown_periods(returns=returns, ax=axes[0])\n",
    "axes[0].grid(True)\n",
    "axes[1].grid(True)\n",
    "pf.plot_drawdown_underwater(returns=returns, ax=axes[2])\n",
    "axes[2].grid(True)\n",
    "pf.plot_rolling_sharpe(returns=returns, ax=axes[3])\n",
    "axes[3].grid(True)\n",
    "fig.suptitle('BL Portfolio vs BSE-SENSEX - 1', fontsize=12, y=0.990)\n",
    "\n",
    "plt.grid(True)\n",
    "plt.legend()\n",
    "plt.tight_layout()"
   ]
  },
  {
   "cell_type": "code",
   "execution_count": null,
   "metadata": {},
   "outputs": [],
   "source": [
    "# plot performance\n",
    "fig, ax = plt.subplots(nrows=2, ncols=2, figsize=(16, 9),constrained_layout=True)\n",
    "axes = ax.flatten()\n",
    "\n",
    "pf.plot_rolling_beta(returns=returns, factor_returns=benchmark_rets, ax=axes[0])\n",
    "axes[0].grid(True)\n",
    "\n",
    "pf.plot_rolling_volatility(returns=returns, factor_returns=benchmark_rets,ax=axes[1])\n",
    "axes[1].grid(True)\n",
    "\n",
    "pf.plot_annual_returns(returns=returns, ax=axes[2])\n",
    "axes[2].grid(True)\n",
    "\n",
    "pf.plot_monthly_returns_heatmap(returns=returns, ax=axes[3],)\n",
    "fig.suptitle('BL Portfolio vs BSE-SENSEX - 2', fontsize=16, y=1.0)\n",
    "\n",
    "\n",
    "plt.tight_layout()"
   ]
  },
  {
   "cell_type": "code",
   "execution_count": null,
   "metadata": {},
   "outputs": [],
   "source": []
  },
  {
   "cell_type": "code",
   "execution_count": null,
   "metadata": {},
   "outputs": [],
   "source": []
  },
  {
   "cell_type": "code",
   "execution_count": null,
   "metadata": {},
   "outputs": [],
   "source": []
  },
  {
   "cell_type": "code",
   "execution_count": null,
   "metadata": {},
   "outputs": [],
   "source": []
  }
 ],
 "metadata": {
  "kernelspec": {
   "display_name": "Python 3 (ipykernel)",
   "language": "python",
   "name": "python3"
  },
  "language_info": {
   "codemirror_mode": {
    "name": "ipython",
    "version": 3
   },
   "file_extension": ".py",
   "mimetype": "text/x-python",
   "name": "python",
   "nbconvert_exporter": "python",
   "pygments_lexer": "ipython3",
   "version": "3.8.12"
  }
 },
 "nbformat": 4,
 "nbformat_minor": 4
}
