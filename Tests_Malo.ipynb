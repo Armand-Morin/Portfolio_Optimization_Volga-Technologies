{
 "cells": [
  {
   "cell_type": "code",
   "execution_count": 32,
   "id": "8b0561b0",
   "metadata": {
    "jupyter": {
     "outputs_hidden": true
    },
    "tags": []
   },
   "outputs": [],
   "source": [
    "import pandas as pd\n",
    "import numpy as np\n",
    "import yfinance as yf\n",
    "from scipy.optimize import minimize, Bounds\n",
    "import matplotlib.pyplot as plt\n",
    "from datetime import date, datetime\n",
    "from tqdm.notebook import tqdm_notebook\n",
    "import math\n",
    "import time\n",
    "import pyfolio as pf\n",
    "%matplotlib inline"
   ]
  },
  {
   "cell_type": "code",
   "execution_count": 2,
   "id": "65b1b64a",
   "metadata": {},
   "outputs": [],
   "source": [
    "def get_data(assets, start_date, end_date, time_interval):\n",
    "    return yf.download(assets, \n",
    "                          start = start_date, \n",
    "                          end = end_date,\n",
    "                          interval = time_interval,\n",
    "                          threads = True,\n",
    "                          progress = False)['Adj Close']"
   ]
  },
  {
   "cell_type": "code",
   "execution_count": 57,
   "id": "687ad43d",
   "metadata": {
    "jupyter": {
     "outputs_hidden": true
    },
    "scrolled": true,
    "tags": []
   },
   "outputs": [
    {
     "ename": "NameError",
     "evalue": "name 'returns' is not defined",
     "output_type": "error",
     "traceback": [
      "\u001b[1;31m---------------------------------------------------------------------------\u001b[0m",
      "\u001b[1;31mNameError\u001b[0m                                 Traceback (most recent call last)",
      "\u001b[1;32m~\\AppData\\Local\\Temp/ipykernel_34808/3273002001.py\u001b[0m in \u001b[0;36m<module>\u001b[1;34m\u001b[0m\n\u001b[0;32m     22\u001b[0m int((returns_raw.shape[0]-253)/20)\"\"\"\n\u001b[0;32m     23\u001b[0m \u001b[1;33m\u001b[0m\u001b[0m\n\u001b[1;32m---> 24\u001b[1;33m \u001b[0mreturns\u001b[0m\u001b[1;33m.\u001b[0m\u001b[0miloc\u001b[0m\u001b[1;33m[\u001b[0m\u001b[1;36m20\u001b[0m\u001b[1;33m:\u001b[0m \u001b[1;33m,\u001b[0m \u001b[1;33m:\u001b[0m\u001b[1;33m]\u001b[0m\u001b[1;33m\u001b[0m\u001b[1;33m\u001b[0m\u001b[0m\n\u001b[0m",
      "\u001b[1;31mNameError\u001b[0m: name 'returns' is not defined"
     ]
    }
   ],
   "source": [
    "assets  = [ 'SPY', \"QQQ\", \"VGK\", \"SCZ\", \"EWJ\", \"EEM\", #eq\n",
    "           'REM', \"VNQ\", \"RWX\", # re\n",
    "           'TIP', \"IEF\", \"TLT\", \"BWX\", #fi\n",
    "           'DBC', \"GLD\", #como\n",
    "           'twtr', 'intc', 'tsm',\"VWUSX\", \"Amc\"]\n",
    "\n",
    "\n",
    "# ----------- DATES ------\n",
    "start_train_date = '2020-01-01'\n",
    "end_train_date = '2021-01-01'\n",
    "start_test_date = end_train_date\n",
    "end_test_date = date.today()\n",
    "interval = \"1d\"\n",
    "\n",
    "\n",
    "all_stocks = get_data(assets, '2014-01-01', '2022-01-01', \"1d\")\n",
    "\n",
    "\"\"\"returns = np.log(all_stocks/all_stocks.shift(1))\n",
    "returns.fillna(0)\n",
    "returns_raw = returns.iloc[1: , :]\n",
    "\n",
    "int((returns_raw.shape[0]-253)/20)\"\"\"\n"
   ]
  },
  {
   "cell_type": "markdown",
   "id": "b23cc1d4",
   "metadata": {},
   "source": [
    "Initialisation des variables"
   ]
  },
  {
   "cell_type": "code",
   "execution_count": 73,
   "id": "0ba74e47",
   "metadata": {},
   "outputs": [],
   "source": [
    "def init(Money, periode_trades):\n",
    "    \n",
    "    global memo, cash, argent_gagne, couts_transaction, s, argent_fait, pf_value,pf2_value, pos, pos2, bounds, nb_actifs, returns_raw\n",
    "    \n",
    "    # Variables utilisées dans l'algorithme\n",
    "\n",
    "    returns = np.log(all_stocks/all_stocks.shift(periode_trades))\n",
    "    returns.fillna(0)\n",
    "    returns_raw = returns.iloc[periode_trades: , :]\n",
    "    \n",
    "    cash = Money\n",
    "    win = 0\n",
    "    argent_gagne = 0\n",
    "    cout = 0\n",
    "    couts_transaction = 0\n",
    "    s = 0\n",
    "    nb_actifs = returns_raw.shape[1]\n",
    "    argent_fait = [Money]\n",
    "    pf_value = 0\n",
    "    pf2_value = 0\n",
    "    memo = {}\n",
    "\n",
    "    # pos = portefeuille initialement vide\n",
    "    pos = np.array([0 for i in range(nb_actifs)])\n"
   ]
  },
  {
   "cell_type": "markdown",
   "id": "aec82dd3",
   "metadata": {},
   "source": [
    "Fonctions objectif et coûts de transaction"
   ]
  },
  {
   "cell_type": "code",
   "execution_count": null,
   "id": "79d6bd94",
   "metadata": {},
   "outputs": [],
   "source": []
  },
  {
   "cell_type": "code",
   "execution_count": 74,
   "id": "1b0088be",
   "metadata": {},
   "outputs": [],
   "source": [
    "def objective_cov(pos, returns, covar_matrix, alpha, memoisation, pospre,vp):\n",
    "    global s\n",
    "    if memoisation:\n",
    "        x = str(pos)\n",
    "        if x not in memo:\n",
    "            s = pos@covar_matrix@pos - alpha*returns@pos +TC(pospre,pos,vp)\n",
    "            memo[x] = s\n",
    "        else:\n",
    "            s = memo[x]\n",
    "            # print(\"la mémo a été utile\")\n",
    "    else:\n",
    "        s = pos@covar_matrix@pos - alpha*returns@pos +TC(pospre,pos,vp)\n",
    "    \n",
    "    # print(f\"Valeur de la fonction objectif : {s.round(3)}\")\n",
    "    return s\n",
    "\n",
    "def TC(pos,pos2, vp):\n",
    "    return lamb*(np.sum(np.array([np.abs((pos2[i]-pos[i])) for i in range(nb_actifs)])))\n"
   ]
  },
  {
   "cell_type": "markdown",
   "id": "9abe96bc",
   "metadata": {},
   "source": [
    "Import des données roulantes à l'étape i"
   ]
  },
  {
   "cell_type": "code",
   "execution_count": 75,
   "id": "80328518",
   "metadata": {},
   "outputs": [],
   "source": [
    "def import_donnees(etape):\n",
    "    \n",
    "    # import des données roulantes, on calcule à partir des données de l'année précédente\n",
    "    log_returns = returns_raw.iloc[etape:253+etape, :]\n",
    "    # calcul des expected returns (par Standard Moving Average, et on prend une période plus courte)\n",
    "    expected_returns_SMA = log_returns.iloc[-jours_returns:: ,:].mean()\n",
    "    # calcul des expected returns (par Exponential Moving Average)\n",
    "    expected_returns_EMA = log_returns.iloc[-jours_returns*3:: ,:].ewm(span=jours_returns, adjust=False).mean().iloc[-1,:]\n",
    "    \n",
    "    # calcul de la matrice de covariance\n",
    "    covar = log_returns.cov().copy()\n",
    "    covar_matrix = covar.to_numpy()\n",
    "    \n",
    "    correl = log_returns.corr().copy()\n",
    "    correl_matrix = correl.to_numpy()\n",
    "\n",
    "    # calcul du vecteur prix des actifs à t (le temps de la décision) et t + 1jour\n",
    "    vp = all_stocks[253+etape::].values[0]\n",
    "    vp2 = all_stocks[253+etape+periode_trades::].values[0]\n",
    "    \n",
    "    expected_returns = np.array([expected_returns_EMA[i]*vp[i] for i in range(nb_actifs)])\n",
    "\n",
    "    #print(str(log_returns.iloc[-1].name).split()[0])\n",
    "    memo = {}\n",
    "    \n",
    "    return expected_returns, covar_matrix, vp, vp2, memo"
   ]
  },
  {
   "cell_type": "markdown",
   "id": "002dce9f",
   "metadata": {},
   "source": [
    "Fonctions contraintes"
   ]
  },
  {
   "cell_type": "code",
   "execution_count": 95,
   "id": "643dd9b6",
   "metadata": {},
   "outputs": [],
   "source": [
    "#def cons1(x,Money,vp):\n",
    "    # on ne peut pas investir plus que ce qu'on possède\n",
    "    #return Money - np.sum([x[i]*vp[i] for i in range(nb_actifs)])\n",
    "\n",
    "def cons2(x,cash,pos,vp):\n",
    "    # pour payer les coûts de transaction, il faut soit utiliser du cash soit vendre des positions (pour un prix -delta_P*vp)\n",
    "    return cash + np.sum([(pos[i]-x[i])*vp[i] for i in range(nb_actifs)]) - TC(pos,x,vp)\n",
    "\n",
    "def cons3(x,returns,vp, gain_cible):\n",
    "    # on veut au moins que le gain soit supérieur à gain_cible\n",
    "    return np.sum([returns[i]*vp[i]*x[i] for i in range(nb_actifs)]) - gain_cible\n",
    "\n",
    "def cons4(x,pos,dPmax,pf2_value):\n",
    "    # pour chaque actif, on ne peut pas faire changer la position de +/- dPmax\n",
    "    return dPmax - max([abs(x[i]-pos[i]) for i in range (nb_actifs)])\n",
    "\n",
    "def cons4bis(x,pos,dPmax):\n",
    "    # pour chaque actif, on ne peut en changer (en notionnel) plus de dPmax% de la valeur déjà investie dans l'actif\n",
    "    return max([dPmax*abs(pos[i]) - abs(x[i]-pos[i]) for i in range (nb_actifs)])\n",
    "\n",
    "def cons5(x,pos,dNmax,pf2_value,vp):\n",
    "    # on doit avoir abs(pf_value_T+1 - pf_value_T)/pf_value_T <= dNmax\n",
    "    return dN_max*abs(pf2_value) - abs(np.sum([(pos[i]-x[i])*vp[i] for i in range(nb_actifs)]))"
   ]
  },
  {
   "cell_type": "markdown",
   "id": "14eb1d6e",
   "metadata": {},
   "source": [
    "Calcul de l'optimisation roulante"
   ]
  },
  {
   "cell_type": "code",
   "execution_count": 96,
   "id": "f62094ce",
   "metadata": {
    "jupyter": {
     "outputs_hidden": true
    },
    "scrolled": true,
    "tags": []
   },
   "outputs": [],
   "source": [
    "def compute_portfolio(lamb, alpha, Money, Pos_max_par_actif, jours_returns, periode_trades, nb_etapes, gain_cible, debug=True):\n",
    "    \n",
    "\n",
    "    global pf_value, pf2_value, pos, pos2, argent_gagne, cout, win, cash, couts_transaction, pospre\n",
    "    global Test_pos, Test_TC, Test_money, Test_cash, TCs, Moneys, Cashs, L\n",
    "    \n",
    "    init(Money, periode_trades)\n",
    "    TCs = [0]\n",
    "    Moneys = [0]\n",
    "    Cashs = [0]\n",
    "\n",
    "\n",
    "    for i in tqdm_notebook(range(min(nb_etapes,int((returns_raw.shape[0]-253)/periode_trades)))):\n",
    "\n",
    "        # calcul des returns, de la matrice de variance, des vecteurs prix\n",
    "        returns, covar_matrix, vp, vp2, memo = import_donnees(i*periode_trades)\n",
    "        \n",
    "\n",
    "        cons = (#{\"type\":\"ineq\", \"fun\": lambda x: cons1(x,Money,vp)}, --> contrainte finalement inutile vis à vis de la seconde\n",
    "               #{\"type\": \"ineq\", \"fun\": lambda x: cons2(x,cash,pos,vp)},\n",
    "               #{\"type\": \"ineq\", \"fun\": lambda x: cons3(x,returns,vp, gain_cible)},\n",
    "               {\"type\": \"ineq\", \"fun\": lambda x: cons4bis(x,pos,dPmax)}\n",
    "            \n",
    "               )\n",
    "        \n",
    "        bounds = () #Bounds(-Pos_max_par_actif, Pos_max_par_actif)\n",
    "        \n",
    "        # calcul du vecteur position\n",
    "        p = minimize(objective_cov, pos, \n",
    "                 method = \"SLSQP\",\n",
    "                 bounds = bounds,\n",
    "                 constraints = cons,\n",
    "                args=(returns, covar_matrix, alpha, memoisation, pos,vp),\n",
    "                options={'maxiter': 300, 'ftol':1e-10})\n",
    "        if not p.success:\n",
    "            print(\"False\",p.message)\n",
    "            #newpos=pos\n",
    "        newpos=p.x\n",
    "            \n",
    "        cout = TC(pos,newpos, vp)\n",
    "        \n",
    "        TCs.append(cout)\n",
    "        \"\"\"\n",
    "        print(cons1(p.x,Money,vp))\n",
    "        print(cons2(p.x,cash,pos,vp))\n",
    "        print(\"gain espéré\",cons3(p.x,returns,vp,gain_cible)+gain_cible)\"\"\"\n",
    "        \n",
    "        couts_transaction += cout\n",
    "\n",
    "        pos = newpos # les positions prises en fin de journée\n",
    "        \n",
    "        pf2_value = np.sum([pos[i]*vp[i] for i in range(nb_actifs)])\n",
    "\n",
    "\n",
    "        cash_restant = Money - (pf2_value + cout) # = valeur totale à t-1 - argent ivesti à t\n",
    "        cash = cash_restant # l'argent que l'algo décide de ne pas investir\n",
    "        \n",
    "        Cashs.append(cash)\n",
    "\n",
    "        if debug:\n",
    "            print(\"\\n\",\"Etape {}:\".format(i))\n",
    "\n",
    "            # affichage des valeurs numériques\n",
    "            print('\\033[94m'+\"Somme des positions: \"+str(pf2_value)+'\\033[0m')\n",
    "            print('\\033[92m'+\"Coûts de transaction: \"+str(cout)+'\\033[0m')\n",
    "            print(\"cash :\", cash.round(6))\n",
    "            print(f\"La valeur de la fonction objectif:{s}\")\n",
    "\n",
    "        # mise à jour à chaque actualisation des prix\n",
    "        pf_value = np.sum([pos[i]*vp2[i] for i in range(nb_actifs)])\n",
    "        Money = pf_value + cash\n",
    "        argent_fait.append(Money)\n",
    "        D.append(argent_fait)\n",
    "        D_lambd.append(argent_fait)\n",
    "        win = pf_value - pf2_value\n",
    "        argent_gagne += win\n",
    "        if debug:\n",
    "            print('\\033[94m'+\"Somme des positions: \"+str(pf_value)+'\\033[0m')\n",
    "            print('\\033[95m'+\"Argent généré sans TC : \"+str(win)+'\\033[0m')\n",
    "            print('\\033[96m'+\"Money :\"+str(Money)+'\\033[0m', \"\\n\")\n",
    "\n",
    "        \n",
    "        \"\"\"print('\\033[95m'+\"Gain réel sans TC : \"+str(win)+'\\033[0m')\n",
    "        print('\\033[92m'+\"Coûts de transaction: \"+str(cout)+'\\033[0m')\n",
    "        print('\\033[96m'+\"Money :\"+str(Money)+'\\033[0m', \"\\n\")\"\"\"\n",
    "        \n",
    "    if debug:\n",
    "        print(\"\\n\",\"fin du calcul\")\n",
    "\n",
    "    print('\\033[95m'+\"Argent total généré sans TC : \"+str(argent_gagne)+'\\033[0m')\n",
    "    print('\\033[92m'+\"Coûts totaux de transaction: \"+str(couts_transaction)+'\\033[0m')\n",
    "    print('\\033[96m'+\"Money :\"+str(Money)+'\\033[0m', \"\\n\")\n",
    "    \n",
    "    deb = str(returns_raw.iloc[253].name).split()[0].split(\"-\")\n",
    "    fin = str(returns_raw.iloc[253+i*periode_trades].name).split()[0].split(\"-\")\n",
    "    L=pd.date_range(datetime(int(deb[0]),int(deb[1]),int(deb[2])),datetime(int(fin[0]),int(fin[1]),int(fin[2])), periods=i+2).to_numpy()"
   ]
  },
  {
   "cell_type": "code",
   "execution_count": 97,
   "id": "0721ba42",
   "metadata": {
    "scrolled": true
   },
   "outputs": [
    {
     "data": {
      "application/vnd.jupyter.widget-view+json": {
       "model_id": "d68b9fbfd3934d368d286597ff4ec992",
       "version_major": 2,
       "version_minor": 0
      },
      "text/plain": [
       "  0%|          | 0/87 [00:00<?, ?it/s]"
      ]
     },
     "metadata": {},
     "output_type": "display_data"
    },
    {
     "name": "stdout",
     "output_type": "stream",
     "text": [
      "\u001b[95mArgent total généré sans TC : 4041758.8164837915\u001b[0m\n",
      "\u001b[92mCoûts totaux de transaction: 418.5137921467982\u001b[0m\n",
      "\u001b[96mMoney :4041340.302691645\u001b[0m \n",
      "\n",
      "\u001b[90mTemps d'exécution: 1.2243714332580566\u001b[0m\n"
     ]
    },
    {
     "data": {
      "image/png": "[encoded data removed]",
      "text/plain": [
       "<Figure size 432x288 with 1 Axes>"
      ]
     },
     "metadata": {
      "needs_background": "light"
     },
     "output_type": "display_data"
    }
   ],
   "source": [
    "# Paramètres modifiables\n",
    "\n",
    "lamb = 0.01 # Coûts de transaction ; faire attention car sinon il n'y a pas de mouvements de position\n",
    "alpha = 1# importance accordée à l'expected return\n",
    "Money = 0 # argent alloué pour l'investissement initial\n",
    "Pos_max_par_actif = 10000 # quantité maximale d'argent investi par actif\n",
    "jours_returns = 10 # les n derniers jours qui servent pour calculer les expected returns\n",
    "periode_trades = 20 # le nombre de jours ouvrés qui séparent chaque décision\n",
    "memoisation = True\n",
    "dPmax = 5\n",
    "gain_cible = 0.015\n",
    "\n",
    "start = time.time()\n",
    "compute_portfolio(lamb, alpha, Money, Pos_max_par_actif, jours_returns, periode_trades,999, gain_cible, False)\n",
    "end = time.time()\n",
    "print('\\033[90m'+\"Temps d'exécution: \"+format(end-start)+'\\033[0m')\n",
    "\n",
    "\n",
    "plt.plot(L,argent_fait)\n",
    "plt.title(\"Evolution de la valeur du portfolio\")\n",
    "plt.show()"
   ]
  },
  {
   "cell_type": "code",
   "execution_count": 98,
   "id": "3bcf865c",
   "metadata": {},
   "outputs": [
    {
     "name": "stdout",
     "output_type": "stream",
     "text": [
      "Pente moyenne : 161653.6121 par période\n"
     ]
    }
   ],
   "source": [
    "print(\"Pente moyenne :\", int(10000*argent_fait[-1]/(25))/10000,\"par période\")\n",
    "L=[]\n",
    "for i in range(2,25):\n",
    "    L.append((argent_fait[i]-argent_fait[i-1])/argent_fait[i-1])\n",
    "test = np.array(L)"
   ]
  },
  {
   "cell_type": "markdown",
   "id": "0a0439dc",
   "metadata": {},
   "source": [
    "Test"
   ]
  },
  {
   "cell_type": "code",
   "execution_count": null,
   "id": "ddaf4f2f",
   "metadata": {},
   "outputs": [],
   "source": [
    "plt.plot(argent_fait,'g', label=\"cas de base\")\n",
    "plt.legend()\n",
    "plt.title(\"Evolution de la valeur du portfolio\")\n",
    "plt.show()"
   ]
  },
  {
   "cell_type": "code",
   "execution_count": null,
   "id": "8e921931",
   "metadata": {},
   "outputs": [],
   "source": [
    "plt.plot(TCs,'g', label=\"cas de base\")\n",
    "#plt.plot([TCs[i] for i in range(len(TCs))],'g', label=\"cas de base\")\n",
    "plt.legend()\n",
    "plt.title(\"Evolution de la valeur des TC\")\n",
    "plt.show()"
   ]
  },
  {
   "cell_type": "code",
   "execution_count": null,
   "id": "3e23f5a6",
   "metadata": {},
   "outputs": [],
   "source": [
    "plt.plot(Cashs,'g', label=\"cas de base\")\n",
    "plt.legend()\n",
    "plt.title(\"Evolution du cash\")\n",
    "plt.show()"
   ]
  },
  {
   "cell_type": "markdown",
   "id": "3ae4b62d",
   "metadata": {},
   "source": [
    "Calcul du drawdown"
   ]
  },
  {
   "cell_type": "code",
   "execution_count": null,
   "id": "f9a4b338",
   "metadata": {},
   "outputs": [],
   "source": [
    "drawdown = -math.inf\n",
    "maxi = -math.inf\n",
    "mini = math.inf\n",
    "i = 0\n",
    "details = False # afficher plus de détails\n",
    "\n",
    "for x in argent_fait:\n",
    "    if x > maxi:\n",
    "        if details :\n",
    "            print(\"max atteint en{}:{}\".format(i, argent_fait[i]) )\n",
    "        maxi = x\n",
    "        mini = math.inf\n",
    "    elif x < mini:\n",
    "        if details:\n",
    "            print(\"min atteint en{}:{}\".format(i, argent_fait[i]) )\n",
    "        mini = x\n",
    "        if maxi != 0:\n",
    "            drawdown = max(drawdown, (maxi-mini)/maxi)\n",
    "    i+=1\n",
    "\n",
    "drawdown"
   ]
  },
  {
   "cell_type": "code",
   "execution_count": null,
   "id": "88eec499",
   "metadata": {},
   "outputs": [],
   "source": [
    "pos.round(3)"
   ]
  },
  {
   "cell_type": "code",
   "execution_count": null,
   "id": "cbd8a52b",
   "metadata": {
    "scrolled": true
   },
   "outputs": [],
   "source": [
    "plt.plot([pos[i] for i in range(len(pos))])\n",
    "plt.title(\"Argent investi dans chaque stock\")\n",
    "plt.show()\n",
    "print(\"L'argent est le plus investi dans l'action: \"+assets[np.argmax(pos)])"
   ]
  },
  {
   "cell_type": "code",
   "execution_count": null,
   "id": "98eb4751",
   "metadata": {
    "scrolled": true
   },
   "outputs": [],
   "source": [
    "print(\"Nombre d'action acheté pour chaque symbols: \")\n",
    "r = pd.DataFrame([assets,pos])\n",
    "for i in range(len(assets)):\n",
    "    print(assets[i],pos[i].round(3))"
   ]
  },
  {
   "cell_type": "markdown",
   "id": "03049706",
   "metadata": {},
   "source": [
    "# Influence de alpha"
   ]
  },
  {
   "cell_type": "code",
   "execution_count": 56,
   "id": "51e1eeb8",
   "metadata": {},
   "outputs": [
    {
     "data": {
      "application/vnd.jupyter.widget-view+json": {
       "model_id": "d7b1edd34f80474191712be6e62f63e9",
       "version_major": 2,
       "version_minor": 0
      },
      "text/plain": [
       "  0%|          | 0/87 [00:00<?, ?it/s]"
      ]
     },
     "metadata": {},
     "output_type": "display_data"
    },
    {
     "name": "stdout",
     "output_type": "stream",
     "text": [
      "\u001b[95mArgent total généré sans TC : -0.00038325914682789386\u001b[0m\n",
      "\u001b[92mCoûts totaux de transaction: 0.00013032376003843592\u001b[0m\n",
      "\u001b[96mMoney :-0.0005135829068663297\u001b[0m \n",
      "\n"
     ]
    },
    {
     "data": {
      "application/vnd.jupyter.widget-view+json": {
       "model_id": "a65a4119ee53448dacbaeb023ae7a9a4",
       "version_major": 2,
       "version_minor": 0
      },
      "text/plain": [
       "  0%|          | 0/87 [00:00<?, ?it/s]"
      ]
     },
     "metadata": {},
     "output_type": "display_data"
    },
    {
     "name": "stdout",
     "output_type": "stream",
     "text": [
      "\u001b[95mArgent total généré sans TC : -0.0003882522285664059\u001b[0m\n",
      "\u001b[92mCoûts totaux de transaction: 0.00013995478183109064\u001b[0m\n",
      "\u001b[96mMoney :-0.0005282070103974963\u001b[0m \n",
      "\n"
     ]
    },
    {
     "data": {
      "application/vnd.jupyter.widget-view+json": {
       "model_id": "86ee7c0e517a43ca94c0f16d2218e656",
       "version_major": 2,
       "version_minor": 0
      },
      "text/plain": [
       "  0%|          | 0/87 [00:00<?, ?it/s]"
      ]
     },
     "metadata": {},
     "output_type": "display_data"
    },
    {
     "name": "stdout",
     "output_type": "stream",
     "text": [
      "False Iteration limit reached\n",
      "\u001b[95mArgent total généré sans TC : -10506630450.6245\u001b[0m\n",
      "\u001b[92mCoûts totaux de transaction: 88517808541.78513\u001b[0m\n",
      "\u001b[96mMoney :-99024438992.40962\u001b[0m \n",
      "\n"
     ]
    },
    {
     "data": {
      "application/vnd.jupyter.widget-view+json": {
       "model_id": "03c3188e39e24bc69b7c153cf685a72a",
       "version_major": 2,
       "version_minor": 0
      },
      "text/plain": [
       "  0%|          | 0/87 [00:00<?, ?it/s]"
      ]
     },
     "metadata": {},
     "output_type": "display_data"
    },
    {
     "name": "stdout",
     "output_type": "stream",
     "text": [
      "\u001b[95mArgent total généré sans TC : 5827035873.982849\u001b[0m\n",
      "\u001b[92mCoûts totaux de transaction: 1743422348.7054615\u001b[0m\n",
      "\u001b[96mMoney :4083613525.2773876\u001b[0m \n",
      "\n"
     ]
    },
    {
     "data": {
      "application/vnd.jupyter.widget-view+json": {
       "model_id": "f0c006e3ec4f4892bfeded05b554005f",
       "version_major": 2,
       "version_minor": 0
      },
      "text/plain": [
       "  0%|          | 0/87 [00:00<?, ?it/s]"
      ]
     },
     "metadata": {},
     "output_type": "display_data"
    },
    {
     "name": "stdout",
     "output_type": "stream",
     "text": [
      "\u001b[95mArgent total généré sans TC : 5658273755.39538\u001b[0m\n",
      "\u001b[92mCoûts totaux de transaction: 1410069385.361374\u001b[0m\n",
      "\u001b[96mMoney :4248204370.034006\u001b[0m \n",
      "\n"
     ]
    },
    {
     "data": {
      "application/vnd.jupyter.widget-view+json": {
       "model_id": "c4cda2c9183f49a8bc2402cfff463a48",
       "version_major": 2,
       "version_minor": 0
      },
      "text/plain": [
       "  0%|          | 0/87 [00:00<?, ?it/s]"
      ]
     },
     "metadata": {},
     "output_type": "display_data"
    },
    {
     "name": "stdout",
     "output_type": "stream",
     "text": [
      "\u001b[95mArgent total généré sans TC : 53639030814.04297\u001b[0m\n",
      "\u001b[92mCoûts totaux de transaction: 12266478255.669983\u001b[0m\n",
      "\u001b[96mMoney :41372552558.372986\u001b[0m \n",
      "\n"
     ]
    },
    {
     "data": {
      "application/vnd.jupyter.widget-view+json": {
       "model_id": "e4bdf176684a40b2b0aefcd8eefef320",
       "version_major": 2,
       "version_minor": 0
      },
      "text/plain": [
       "  0%|          | 0/87 [00:00<?, ?it/s]"
      ]
     },
     "metadata": {},
     "output_type": "display_data"
    },
    {
     "name": "stdout",
     "output_type": "stream",
     "text": [
      "\u001b[95mArgent total généré sans TC : 13940686683.517681\u001b[0m\n",
      "\u001b[92mCoûts totaux de transaction: 3400829966.1630235\u001b[0m\n",
      "\u001b[96mMoney :10539856717.354656\u001b[0m \n",
      "\n"
     ]
    },
    {
     "data": {
      "application/vnd.jupyter.widget-view+json": {
       "model_id": "9f35eb86bf03455781fcaa1abc4b4870",
       "version_major": 2,
       "version_minor": 0
      },
      "text/plain": [
       "  0%|          | 0/87 [00:00<?, ?it/s]"
      ]
     },
     "metadata": {},
     "output_type": "display_data"
    },
    {
     "name": "stdout",
     "output_type": "stream",
     "text": [
      "False Iteration limit reached\n",
      "\u001b[95mArgent total généré sans TC : -2641406646.900257\u001b[0m\n",
      "\u001b[92mCoûts totaux de transaction: 484709133.8202364\u001b[0m\n",
      "\u001b[96mMoney :-3126115780.7204933\u001b[0m \n",
      "\n"
     ]
    },
    {
     "data": {
      "application/vnd.jupyter.widget-view+json": {
       "model_id": "e7feb93a120b4a8b861b409bcd5e47ba",
       "version_major": 2,
       "version_minor": 0
      },
      "text/plain": [
       "  0%|          | 0/87 [00:00<?, ?it/s]"
      ]
     },
     "metadata": {},
     "output_type": "display_data"
    },
    {
     "name": "stdout",
     "output_type": "stream",
     "text": [
      "\u001b[95mArgent total généré sans TC : -1125567.5400352222\u001b[0m\n",
      "\u001b[92mCoûts totaux de transaction: 1578993.522547525\u001b[0m\n",
      "\u001b[96mMoney :-2704561.062582747\u001b[0m \n",
      "\n"
     ]
    }
   ],
   "source": [
    "D_lamb = []\n",
    "D = []\n",
    "\n",
    "alp = [0,0.01,0.05,0.1,0.3,0.6,0.8,1,10]\n",
    "lambd = 0\n",
    "\n",
    "for a in alp:\n",
    "    compute_portfolio(lambd, a, Money, Pos_max_par_actif, jours_returns, periode_trades,999, gain_cible, False)"
   ]
  },
  {
   "cell_type": "code",
   "execution_count": 60,
   "id": "621835ee",
   "metadata": {},
   "outputs": [
    {
     "data": {
      "image/png": "[encoded data removed]",
      "text/plain": [
       "<Figure size 1200x720 with 1 Axes>"
      ]
     },
     "metadata": {
      "needs_background": "light"
     },
     "output_type": "display_data"
    }
   ],
   "source": [
    "from matplotlib.pyplot import figure\n",
    "\n",
    "U=[]\n",
    "for x in D:\n",
    "    if x not in U:\n",
    "        U.append(x)\n",
    "\n",
    "\n",
    "figure(figsize=(15, 9), dpi=80)\n",
    "\n",
    "\n",
    "for i in range(len(U)):\n",
    "    plt.plot(L,U[i],label=alp[i])\n",
    "plt.legend()\n",
    "plt.title('influence de alpha')\n",
    "plt.show()"
   ]
  },
  {
   "cell_type": "markdown",
   "id": "4a6d90ae",
   "metadata": {},
   "source": [
    "# Influence de lambda"
   ]
  },
  {
   "cell_type": "code",
   "execution_count": null,
   "id": "872e5d9d",
   "metadata": {},
   "outputs": [],
   "source": []
  },
  {
   "cell_type": "code",
   "execution_count": 50,
   "id": "0e00c4a6",
   "metadata": {},
   "outputs": [
    {
     "ename": "SyntaxError",
     "evalue": "positional argument follows keyword argument (Temp/ipykernel_34808/329383588.py, line 6)",
     "output_type": "error",
     "traceback": [
      "\u001b[1;36m  File \u001b[1;32m\"C:\\Users\\malop\\AppData\\Local\\Temp/ipykernel_34808/329383588.py\"\u001b[1;36m, line \u001b[1;32m6\u001b[0m\n\u001b[1;33m    compute_portfolio(lamb, alpha=0, Money, Pos_max_par_actif, jours_returns, periode_trades,999, gain_cible, False)\u001b[0m\n\u001b[1;37m                                                                                                                   ^\u001b[0m\n\u001b[1;31mSyntaxError\u001b[0m\u001b[1;31m:\u001b[0m positional argument follows keyword argument\n"
     ]
    }
   ],
   "source": [
    "D_lamb = []\n",
    "D = []\n",
    "\n",
    "alph = 0\n",
    "l = [0,0.01,0.05,0.1,0.3,0.6,0.8,1,10]\n",
    "\n",
    "for lamb in l:\n",
    "    compute_portfolio(lamb, alph, Money, Pos_max_par_actif, jours_returns, periode_trades,999, gain_cible, False)"
   ]
  },
  {
   "cell_type": "code",
   "execution_count": 49,
   "id": "5445d7d6",
   "metadata": {},
   "outputs": [
    {
     "data": {
      "image/png": "[encoded data removed]",
      "text/plain": [
       "<Figure size 1200x720 with 1 Axes>"
      ]
     },
     "metadata": {
      "needs_background": "light"
     },
     "output_type": "display_data"
    }
   ],
   "source": [
    "from matplotlib.pyplot import figure\n",
    "\n",
    "U=[]\n",
    "for x in D:\n",
    "    if x not in U:\n",
    "        U.append(x)\n",
    "\n",
    "\n",
    "figure(figsize=(15, 9), dpi=80)\n",
    "\n",
    "for i in range(len(U)):\n",
    "    if l[i] != 0.8:\n",
    "        plt.plot(L,U[i],label=\"Lambda = {}\".format(l[i]))\n",
    "plt.legend()\n",
    "plt.title('influence de lambda, alpha=0')\n",
    "plt.show()"
   ]
  },
  {
   "cell_type": "code",
   "execution_count": null,
   "id": "d9f5926d",
   "metadata": {},
   "outputs": [],
   "source": [
    "\n"
   ]
  },
  {
   "cell_type": "code",
   "execution_count": null,
   "id": "7da2a0a7",
   "metadata": {},
   "outputs": [],
   "source": [
    "import pyfolio as pf\n",
    "import warnings\n",
    "from datetime import datetime\n",
    "\n",
    "\n",
    "warnings.filterwarnings('ignore')\n",
    "import matplotlib.pyplot as plt\n",
    "%matplotlib inline\n",
    "\n",
    "\n",
    "L=pd.date_range(datetime(2015,1,1),datetime(2022,1,1), periods=1+min(60,int((returns_raw.shape[0]-253)/periode_trades))).to_numpy()\n",
    "#for i in range(int((all_stocks.shape[0])/periode_trades)):\n",
    " #   etape = i*periode_trades\n",
    "  #  L.append(all_stocks.iloc[etape].name)\n",
    "\n",
    "returns = pd.DataFrame()\n",
    "returns['ret'] = argent_fait\n",
    "\n",
    "returns.index = L\n",
    "\n",
    "returns = returns['ret'].tz_localize('UTC')\n",
    "#returns =returns.reindex(index=returns.index[::-1])\n",
    "returns"
   ]
  },
  {
   "cell_type": "code",
   "execution_count": null,
   "id": "29f6a77e",
   "metadata": {},
   "outputs": [],
   "source": [
    "pf.create_full_tear_sheet(returns)"
   ]
  },
  {
   "cell_type": "code",
   "execution_count": null,
   "id": "406f0ba0",
   "metadata": {},
   "outputs": [],
   "source": []
  }
 ],
 "metadata": {
  "kernelspec": {
   "display_name": "Python 3 (ipykernel)",
   "language": "python",
   "name": "python3"
  },
  "language_info": {
   "codemirror_mode": {
    "name": "ipython",
    "version": 3
   },
   "file_extension": ".py",
   "mimetype": "text/x-python",
   "name": "python",
   "nbconvert_exporter": "python",
   "pygments_lexer": "ipython3",
   "version": "3.9.7"
  }
 },
 "nbformat": 4,
 "nbformat_minor": 5
}
