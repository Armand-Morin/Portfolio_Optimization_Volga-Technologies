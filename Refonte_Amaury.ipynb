{
 "cells": [
  {
   "cell_type": "code",
   "execution_count": 1,
   "metadata": {
    "jupyter": {
     "outputs_hidden": true
    },
    "tags": []
   },
   "outputs": [],
   "source": [
    "import pandas as pd\n",
    "import numpy as np\n",
    "import yfinance as yf\n",
    "from scipy.optimize import minimize, Bounds\n",
    "import matplotlib.pyplot as plt\n",
    "from datetime import date\n",
    "from tqdm.notebook import tqdm_notebook\n",
    "import math\n",
    "import time"
   ]
  },
  {
   "cell_type": "code",
   "execution_count": 2,
   "metadata": {},
   "outputs": [],
   "source": [
    "def get_data(assets, start_date, end_date, time_interval):\n",
    "    return yf.download(assets, \n",
    "                          start = start_date, \n",
    "                          end = end_date,\n",
    "                          interval = time_interval,\n",
    "                          threads = True,\n",
    "                          progress = False)['Adj Close']"
   ]
  },
  {
   "cell_type": "code",
   "execution_count": 3,
   "metadata": {
    "jupyter": {
     "outputs_hidden": true
    },
    "scrolled": true,
    "tags": []
   },
   "outputs": [
    {
     "data": {
      "text/plain": [
       "'returns = np.log(all_stocks/all_stocks.shift(1))\\nreturns.fillna(0)\\nreturns_raw = returns.iloc[1: , :]\\n\\nint((returns_raw.shape[0]-253)/20)'"
      ]
     },
     "execution_count": 3,
     "metadata": {},
     "output_type": "execute_result"
    }
   ],
   "source": [
    "assets  = [ 'SPY', \"QQQ\", \"VGK\", \"SCZ\", \"EWJ\", \"EEM\", #eq\n",
    "           'REM', \"VNQ\", \"RWX\", # re\n",
    "           'TIP', \"IEF\", \"TLT\", \"BWX\", #fi\n",
    "           'DBC', \"GLD\", #como\n",
    "           'twtr', 'intc', 'tsm',\"VWUSX\", \"Amc\"]\n",
    "\n",
    "\n",
    "# ----------- DATES ------\n",
    "start_train_date = '2020-01-01'\n",
    "end_train_date = '2021-01-01'\n",
    "start_test_date = end_train_date\n",
    "end_test_date = date.today()\n",
    "interval = \"1d\"\n",
    "\n",
    "\n",
    "all_stocks = get_data(assets, '2014-01-01', '2020-01-01', \"1d\")\n",
    "\n",
    "\"\"\"returns = np.log(all_stocks/all_stocks.shift(1))\n",
    "returns.fillna(0)\n",
    "returns_raw = returns.iloc[1: , :]\n",
    "\n",
    "int((returns_raw.shape[0]-253)/20)\"\"\""
   ]
  },
  {
   "cell_type": "markdown",
   "metadata": {},
   "source": [
    "Initialisation des variables"
   ]
  },
  {
   "cell_type": "code",
   "execution_count": 47,
   "metadata": {},
   "outputs": [],
   "source": [
    "def init(Money, periode_trades):\n",
    "    \n",
    "    global memo, X, cash, argent_gagne, couts_transaction, s, argent_fait, pf_value, pos, pos2, bounds, nb_actifs, returns_raw\n",
    "    \n",
    "    # Variables utilisées dans l'algorithme\n",
    "\n",
    "    returns = np.log(all_stocks/all_stocks.shift(periode_trades))\n",
    "    returns.fillna(0)\n",
    "    returns_raw = returns.iloc[periode_trades: , :]\n",
    "    \n",
    "    cash = Money\n",
    "    win = 0\n",
    "    argent_gagne = 0\n",
    "    cout = 0\n",
    "    couts_transaction = 0\n",
    "    s = 0\n",
    "    nb_actifs = returns_raw.shape[1]\n",
    "    argent_fait = [Money]\n",
    "    pf_value = 0\n",
    "    X = []\n",
    "    memo = {}\n",
    "\n",
    "    # pos = portefeuille initialement vide\n",
    "    pos = np.array([0 for i in range(nb_actifs)])\n"
   ]
  },
  {
   "cell_type": "markdown",
   "metadata": {},
   "source": [
    "Fonctions objectif et coûts de transaction"
   ]
  },
  {
   "cell_type": "code",
   "execution_count": 91,
   "metadata": {},
   "outputs": [],
   "source": [
    "def objective_cov(pos, returns, covar_matrix, alpha, memoisation, pospre,vp):\n",
    "    global s\n",
    "    if memoisation:\n",
    "        x = str(pos)\n",
    "        if x not in memo:\n",
    "            s = pos@covar_matrix@pos - alpha*returns@pos +TC(pospre,pos,vp)\n",
    "            memo[x] = s\n",
    "        else:\n",
    "            s = memo[x]\n",
    "            # print(\"la mémo a été utile\")\n",
    "    else:\n",
    "        s = pos@covar_matrix@pos - alpha*returns@pos +TC(pospre,pos,vp)\n",
    "    \n",
    "    # print(f\"Valeur de la fonction objectif : {s.round(3)}\")\n",
    "    return s\n",
    "\n",
    "def TC(pos,pos2, vp):\n",
    "    return lamb*(np.sum(np.array([np.abs((pos2[i]-pos[i])*vp[i]) for i in range(nb_actifs)])))\n"
   ]
  },
  {
   "cell_type": "markdown",
   "metadata": {},
   "source": [
    "Import des données roulantes à l'étape i"
   ]
  },
  {
   "cell_type": "code",
   "execution_count": 100,
   "metadata": {},
   "outputs": [],
   "source": [
    "def import_donnees(etape):\n",
    "    global X\n",
    "    \n",
    "    # import des données roulantes, on calcule à partir des données de l'année précédente\n",
    "    log_returns = returns_raw.iloc[etape:253+etape, :]\n",
    "    # calcul des expected returns (par Standard Moving Average, et on prend une période plus courte)\n",
    "    expected_returns_SMA = log_returns.iloc[-jours_returns:: ,:].mean()\n",
    "    # calcul des expected returns (par Exponential Moving Average)\n",
    "    expected_returns_EMA = log_returns.iloc[-jours_returns*3:: ,:].ewm(span=jours_returns, adjust=False).mean().iloc[-1,:]\n",
    "    \n",
    "    # calcul de la matrice de covariance\n",
    "    covar = log_returns.cov().copy()\n",
    "    covar_matrix = covar.to_numpy()\n",
    "    \n",
    "    correl = log_returns.corr().copy()\n",
    "    correl_matrix = correl.to_numpy()\n",
    "\n",
    "    # calcul du vecteur prix des actifs à t (le temps de la décision) et t + 1jour\n",
    "    vp = all_stocks[253+etape::].values[0]\n",
    "    vp2 = all_stocks[253+etape+periode_trades::].values[0]\n",
    "    \n",
    "    expected_returns = np.array([expected_returns_EMA[i]*vp[i] for i in range(nb_actifs)])\n",
    "\n",
    "    #X.append(str(returns_raw.iloc[253+etape].name).split()[0])\n",
    "    #print(str(log_returns.iloc[-1].name).split()[0])\n",
    "    memo = {}\n",
    "    \n",
    "    return expected_returns, covar_matrix, vp, vp2, memo"
   ]
  },
  {
   "cell_type": "markdown",
   "metadata": {},
   "source": [
    "Fonctions contraintes"
   ]
  },
  {
   "cell_type": "code",
   "execution_count": 151,
   "metadata": {},
   "outputs": [],
   "source": [
    "#def cons1(x,Money,vp):\n",
    "    # on ne peut pas investir plus que ce qu'on possède\n",
    "    #return Money - np.sum([x[i]*vp[i] for i in range(nb_actifs)])\n",
    "\n",
    "def cons2(x,cash,pos,vp):\n",
    "    # pour payer les coûts de transaction, il faut soit utiliser du cash soit vendre des positions (pour un prix -delta_P*vp)\n",
    "    return cash + np.sum([(pos[i]-x[i])*vp[i] for i in range(nb_actifs)]) - TC(pos,x,vp)\n",
    "\n",
    "def cons3(x,returns,vp, gain_cible):\n",
    "    # on veut au moins que le gain soit supérieur à gain_cible\n",
    "    return np.sum([returns[i]*vp[i]*x[i] for i in range(nb_actifs)]) - gain_cible\n",
    "def cons4(x,pos,dPmax):\n",
    "    return dPmax-max([abs(x[i]-pos[i]) for i in range (nb_actifs)])"
   ]
  },
  {
   "cell_type": "markdown",
   "metadata": {},
   "source": [
    "Calcul de l'optimisation roulante"
   ]
  },
  {
   "cell_type": "code",
   "execution_count": 152,
   "metadata": {
    "jupyter": {
     "outputs_hidden": true
    },
    "scrolled": true,
    "tags": []
   },
   "outputs": [],
   "source": [
    "def compute_portfolio(lamb, alpha, Money, Pos_max_par_actif, jours_returns, periode_trades, nb_etapes, gain_cible, debug=True):\n",
    "    \n",
    "    global pf_value, pos, pos2, argent_gagne, cout, win, cash, couts_transaction, pospre\n",
    "    global Test_pos, Test_TC, Test_money, Test_cash, TCs, Moneys, Cashs\n",
    "    \n",
    "    init(Money, periode_trades)\n",
    "    Test_pos = [[0 for i in range(nb_actifs)]]\n",
    "    Test_TC = [0]\n",
    "    Test_money = [0]\n",
    "    Test_cash = [0]\n",
    "    TCs = [0]\n",
    "    Moneys = [0]\n",
    "    Cashs = [0]\n",
    "    if debug:\n",
    "        print(\"Argent injecté au départ:\", Money)\n",
    "\n",
    "\n",
    "    for i in tqdm_notebook(range(min(nb_etapes,int((returns_raw.shape[0]-253)/periode_trades)))):\n",
    "\n",
    "        # calcul des returns, de la matrice de variance, des vecteurs prix\n",
    "        returns, covar_matrix, vp, vp2, memo = import_donnees(i*periode_trades)\n",
    "\n",
    "        cons = (#{\"type\":\"ineq\", \"fun\": lambda x: cons1(x,Money,vp)}, --> contrainte finalement inutile vis à vis de la seconde\n",
    "               {\"type\": \"ineq\", \"fun\": lambda x: cons2(x,cash,pos,vp)},\n",
    "               {\"type\": \"ineq\", \"fun\": lambda x: cons3(x,returns,vp, gain_cible)},\n",
    "            {\"type\": \"ineq\", \"fun\": lambda x: cons4(x,pos,dPmax)}\n",
    "            \n",
    "               )\n",
    "        \n",
    "        bounds = Bounds(-Pos_max_par_actif, Pos_max_par_actif)\n",
    "        \n",
    "        # calcul du vecteur position\n",
    "        p = minimize(objective_cov, pos, \n",
    "                 method = \"SLSQP\",\n",
    "                 bounds = bounds,\n",
    "                 constraints = cons,\n",
    "                args=(returns, covar_matrix, alpha, memoisation, pos,vp),\n",
    "                options={'maxiter': 300, 'ftol':1e-10})\n",
    "        if not p.success:\n",
    "            print(\"False\")\n",
    "            #newpos=pos\n",
    "        newpos=p.x\n",
    "            \n",
    "        cout = TC(pos,newpos, vp)\n",
    "        \n",
    "        TCs.append(cout)\n",
    "        test_cout = TC(Test_pos[-1],[fact*newpos[i] for i in range(len(newpos))],vp)\n",
    "        Test_TC.append(test_cout)\n",
    "        \"\"\"\n",
    "        print(cons1(p.x,Money,vp))\n",
    "        print(cons2(p.x,cash,pos,vp))\n",
    "        print(\"gain espéré\",cons3(p.x,returns,vp,gain_cible)+gain_cible)\"\"\"\n",
    "        \n",
    "        couts_transaction += cout\n",
    "\n",
    "        pos = newpos # les positions prises en fin de journée\n",
    "        Test_pos.append([fact*pos[i] for i in range(len(pos))])\n",
    "        \n",
    "        pf2_value = np.sum([pos[i]*vp[i] for i in range(nb_actifs)])\n",
    "\n",
    "\n",
    "        cash_restant = Money - (pf2_value + cout) # = valeur totale à t-1 - argent ivesti à t\n",
    "        cash = cash_restant # l'argent que l'algo décide de ne pas investir\n",
    "        \n",
    "        test_cash = Test_money[-1] - np.sum([Test_pos[-1][i]*vp[i] for i in range(nb_actifs)]) - test_cout\n",
    "        Test_cash.append(test_cash)\n",
    "        Cashs.append(cash)\n",
    "\n",
    "        if debug:\n",
    "            print(\"\\n\",\"Etape {}:\".format(i))\n",
    "\n",
    "            # affichage des valeurs numériques\n",
    "            print('\\033[94m'+\"Somme des positions: \"+str(pf2_value)+'\\033[0m')\n",
    "            print('\\033[92m'+\"Coûts de transaction: \"+str(cout)+'\\033[0m')\n",
    "            print(\"cash :\", cash.round(6))\n",
    "            print(f\"La valeur de la fonction objectif:{s}\")\n",
    "\n",
    "        # mise à jour à chaque actualisation des prix\n",
    "        pf_value = np.sum([pos[i]*vp2[i] for i in range(nb_actifs)])\n",
    "        Money = pf_value + cash\n",
    "        Test_money.append(np.sum([Test_pos[-1][i]*vp2[i] for i in range(nb_actifs)]) + test_cash)\n",
    "        argent_fait.append(Money)\n",
    "        win = pf_value - pf2_value\n",
    "        argent_gagne += win\n",
    "        if debug:\n",
    "            print('\\033[94m'+\"Somme des positions: \"+str(pf_value)+'\\033[0m')\n",
    "            print('\\033[95m'+\"Argent généré sans TC : \"+str(win)+'\\033[0m')\n",
    "            print('\\033[96m'+\"Money :\"+str(Money)+'\\033[0m', \"\\n\")\n",
    "\n",
    "        \n",
    "        \"\"\"print('\\033[95m'+\"Gain réel sans TC : \"+str(win)+'\\033[0m')\n",
    "        print('\\033[92m'+\"Coûts de transaction: \"+str(cout)+'\\033[0m')\n",
    "        print('\\033[96m'+\"Money :\"+str(Money)+'\\033[0m', \"\\n\")\"\"\"\n",
    "        \n",
    "    if debug:\n",
    "        print(\"\\n\",\"fin du calcul\")\n",
    "\n",
    "    print('\\033[95m'+\"Argent total généré sans TC : \"+str(argent_gagne)+'\\033[0m')\n",
    "    print('\\033[92m'+\"Coûts totaux de transaction: \"+str(couts_transaction)+'\\033[0m')\n",
    "    print('\\033[96m'+\"Money :\"+str(Money)+'\\033[0m', \"\\n\")\n"
   ]
  },
  {
   "cell_type": "code",
   "execution_count": 177,
   "metadata": {
    "scrolled": true
   },
   "outputs": [
    {
     "data": {
      "application/vnd.jupyter.widget-view+json": {
       "model_id": "e470c16362c5412ba5b0c3220ccbcae0",
       "version_major": 2,
       "version_minor": 0
      },
      "text/plain": [
       "HBox(children=(FloatProgress(value=0.0, max=60.0), HTML(value='')))"
      ]
     },
     "metadata": {},
     "output_type": "display_data"
    },
    {
     "name": "stdout",
     "output_type": "stream",
     "text": [
      "False\n",
      "False\n",
      "False\n",
      "False\n",
      "False\n",
      "False\n",
      "False\n",
      "False\n",
      "False\n",
      "False\n",
      "False\n",
      "False\n",
      "False\n",
      "False\n",
      "False\n",
      "False\n",
      "False\n",
      "False\n",
      "False\n",
      "False\n",
      "False\n",
      "False\n",
      "False\n",
      "False\n",
      "False\n",
      "False\n",
      "False\n",
      "False\n",
      "False\n",
      "False\n",
      "False\n",
      "False\n",
      "False\n",
      "False\n",
      "False\n",
      "False\n",
      "False\n",
      "False\n",
      "False\n",
      "False\n",
      "False\n",
      "False\n",
      "False\n",
      "False\n",
      "False\n",
      "False\n",
      "False\n",
      "False\n",
      "False\n",
      "False\n",
      "False\n",
      "False\n",
      "False\n",
      "False\n",
      "False\n",
      "\n",
      "\u001b[95mArgent total généré sans TC : 10319.211787535492\u001b[0m\n",
      "\u001b[92mCoûts totaux de transaction: 3594.3809069733547\u001b[0m\n",
      "\u001b[96mMoney :6724.83088056213\u001b[0m \n",
      "\n",
      "\u001b[90mTemps d'exécution: 211.41964173316956\u001b[0m\n"
     ]
    },
    {
     "data": {
      "image/png": "[encoded data removed]",
      "text/plain": [
       "<Figure size 432x288 with 1 Axes>"
      ]
     },
     "metadata": {
      "needs_background": "light"
     },
     "output_type": "display_data"
    }
   ],
   "source": [
    "# Paramètres modifiables\n",
    "\n",
    "lamb = 0.01 # Coûts de transaction ; faire attention car sinon il n'y a pas de mouvements de position\n",
    "alpha = 1 # importance accordée à l'expected return\n",
    "Money = 0 # argent alloué pour l'investissement initial\n",
    "Pos_max_par_actif = 10000 # quantité maximale d'argent investi par actif\n",
    "jours_returns = 10 # les n derniers jours qui servent pour calculer les expected returns\n",
    "periode_trades = 20 # le nombre de jours ouvrés qui séparent chaque décision\n",
    "memoisation = True\n",
    "dPmax = 10\n",
    "gain_cible = 0.015\n",
    "fact=10000\n",
    "\n",
    "start = time.time()\n",
    "compute_portfolio(lamb, alpha, Money, Pos_max_par_actif, jours_returns, periode_trades,60, gain_cible, False)\n",
    "end = time.time()\n",
    "print('\\033[90m'+\"Temps d'exécution: \"+format(end-start)+'\\033[0m')\n",
    "\n",
    "\n",
    "plt.plot(argent_fait)\n",
    "plt.title(\"Evolution de la valeur du portfolio\")\n",
    "plt.show()"
   ]
  },
  {
   "cell_type": "code",
   "execution_count": 175,
   "metadata": {},
   "outputs": [
    {
     "name": "stdout",
     "output_type": "stream",
     "text": [
      "Pente moyenne : -337.362 par période\n",
      "[0, -0.004016742926423715, -0.010689992396745906, -0.010514637980269604, -0.03296208836987825, -30.816747171025543, -30.159305211413027, -29.767120646100356, -27.533276515057995, -925.8298717664337, -1351.3667005419122, -1420.6677507559982, -1397.9291854483836, -1309.9157816190782, -1271.5988726845471, -4191.8794238814025, -4241.167622736338, -4385.391289316574, -4438.663149098163, -4465.4105079389665, -4492.348595241267, -4852.086334669726, -5118.830117761392, -5356.428531952706, -5517.964001494416, -5555.438557544556, -5538.74962550801, -5468.065679138099, -5489.7962681659155, -5478.82344100281, -5453.029588938646, -5451.47077977963, -5419.524318500411, -5316.190933554841, -5374.560066065929, -5389.841407237194, -5360.8764658410955, -5421.48509415904, -5412.396555575136, -5439.660089317739, -5458.797174033732, -7270.075526083507, -7316.824301832645, -7397.4255943453045, -7438.557720663324, -7394.322578232349, -7536.110051564036, -7524.854704163862, -7288.658624892685, -7946.920669959867, -7781.42277674312, -7987.618845877408, -8075.664425652897, -8239.624191702082, -8425.202545157856, -8294.092395968673, -8240.36761912068, -8340.641881921576, -8351.269025390564, -8455.163250407884, -8434.050091242654]\n",
      "42.31269656985473\n",
      "[1.661358367353542, -0.016403605350522144, 2.134876201323393, 933.9148884385256, -0.021333918079149337, -0.013003766584260015, -0.07504401106174861, 32.6258516584503, 0.4596274561368139, 0.051282194674691584, -0.016005547599369712, -0.06295984427929031, -0.029251429345458154, 2.2965422618153783, 0.011758019225013303, 0.034005651134152916, 0.01214757276308867, 0.006025994301062989, 0.00603261161642528, 0.08007787726213605, 0.05497506942234219, 0.04641654611019256, 0.03015730884452249]\n"
     ]
    }
   ],
   "source": [
    "print(\"Pente moyenne :\", int(10000*argent_fait[-1]/(25))/10000,\"par période\")\n",
    "L=[]\n",
    "print(argent_fait)\n",
    "for i in range(2,25):\n",
    "    L.append((argent_fait[i]-argent_fait[i-1])/argent_fait[i-1])\n",
    "test = np.array(L)\n",
    "print(np.mean(test))\n",
    "print(L)"
   ]
  },
  {
   "cell_type": "markdown",
   "metadata": {},
   "source": [
    "Test"
   ]
  },
  {
   "cell_type": "code",
   "execution_count": 170,
   "metadata": {},
   "outputs": [
    {
     "data": {
      "image/png": "[encoded data removed]",
      "text/plain": [
       "<Figure size 432x288 with 1 Axes>"
      ]
     },
     "metadata": {
      "needs_background": "light"
     },
     "output_type": "display_data"
    }
   ],
   "source": [
    "plt.plot(Test_money,'r', label=\"cas démultiplié\")\n",
    "plt.plot(argent_fait,'g', label=\"cas de base\")\n",
    "plt.legend()\n",
    "plt.title(\"Evolution de la valeur du portfolio\")\n",
    "plt.show()"
   ]
  },
  {
   "cell_type": "code",
   "execution_count": 171,
   "metadata": {},
   "outputs": [
    {
     "data": {
      "image/png": "[encoded data removed]",
      "text/plain": [
       "<Figure size 432x288 with 1 Axes>"
      ]
     },
     "metadata": {
      "needs_background": "light"
     },
     "output_type": "display_data"
    }
   ],
   "source": [
    "plt.plot(Test_TC,'r', label=\"cas démultiplié\")\n",
    "#plt.plot([TCs[i] for i in range(len(TCs))],'g', label=\"cas de base\")\n",
    "plt.legend()\n",
    "plt.title(\"Evolution de la valeur des TC\")\n",
    "plt.show()"
   ]
  },
  {
   "cell_type": "code",
   "execution_count": 172,
   "metadata": {},
   "outputs": [
    {
     "data": {
      "image/png": "[encoded data removed]",
      "text/plain": [
       "<Figure size 432x288 with 1 Axes>"
      ]
     },
     "metadata": {
      "needs_background": "light"
     },
     "output_type": "display_data"
    }
   ],
   "source": [
    "#plt.plot(Test_cash,'r', label=\"cas démultiplié\")\n",
    "plt.plot([Cashs[i] for i in range(len(Cashs))],'g', label=\"cas de base\")\n",
    "plt.legend()\n",
    "plt.title(\"Evolution du cash\")\n",
    "plt.show()"
   ]
  },
  {
   "cell_type": "markdown",
   "metadata": {},
   "source": [
    "Calcul du drawdown"
   ]
  },
  {
   "cell_type": "code",
   "execution_count": 173,
   "metadata": {},
   "outputs": [
    {
     "data": {
      "text/plain": [
       "0.43347429357980916"
      ]
     },
     "execution_count": 173,
     "metadata": {},
     "output_type": "execute_result"
    }
   ],
   "source": [
    "drawdown = -math.inf\n",
    "maxi = -math.inf\n",
    "mini = math.inf\n",
    "i = 0\n",
    "details = False # afficher plus de détails\n",
    "\n",
    "for x in argent_fait:\n",
    "    if x > maxi:\n",
    "        if details :\n",
    "            print(\"max atteint en{}:{}\".format(i, argent_fait[i]) )\n",
    "        maxi = x\n",
    "        mini = math.inf\n",
    "    elif x < mini:\n",
    "        if details:\n",
    "            print(\"min atteint en{}:{}\".format(i, argent_fait[i]) )\n",
    "        mini = x\n",
    "        if maxi != 0:\n",
    "            drawdown = max(drawdown, (maxi-mini)/maxi)\n",
    "    i+=1\n",
    "\n",
    "drawdown"
   ]
  },
  {
   "cell_type": "code",
   "execution_count": 165,
   "metadata": {},
   "outputs": [
    {
     "data": {
      "text/plain": [
       "array([ -29.764,  -62.054,  -32.592,  -40.113,  -15.196,   33.394,\n",
       "         15.404,   48.495,   23.292,  -43.575,  -67.74 ,  100.98 ,\n",
       "         21.778, -145.83 ,    7.401,   13.034,   22.928,  -61.923,\n",
       "         78.098,   19.52 ])"
      ]
     },
     "execution_count": 165,
     "metadata": {},
     "output_type": "execute_result"
    }
   ],
   "source": [
    "pos.round(3)"
   ]
  },
  {
   "cell_type": "code",
   "execution_count": 166,
   "metadata": {
    "scrolled": true
   },
   "outputs": [
    {
     "data": {
      "image/png": "[encoded data removed]",
      "text/plain": [
       "<Figure size 432x288 with 1 Axes>"
      ]
     },
     "metadata": {
      "needs_background": "light"
     },
     "output_type": "display_data"
    },
    {
     "name": "stdout",
     "output_type": "stream",
     "text": [
      "L'argent est le plus investi dans l'action: TLT\n"
     ]
    }
   ],
   "source": [
    "plt.plot([pos[i] for i in range(len(pos))])\n",
    "plt.title(\"Argent investi dans chaque stock\")\n",
    "plt.show()\n",
    "print(\"L'argent est le plus investi dans l'action: \"+assets[np.argmax(pos)])"
   ]
  },
  {
   "cell_type": "code",
   "execution_count": 148,
   "metadata": {
    "scrolled": true
   },
   "outputs": [
    {
     "name": "stdout",
     "output_type": "stream",
     "text": [
      "Nombre d'action acheté pour chaque symbols: \n",
      "SPY -42.694\n",
      "QQQ 11048.831\n",
      "VGK 55933.231\n",
      "SCZ 15320.967\n",
      "EWJ 1415.893\n",
      "EEM 13283.342\n",
      "REM -65288.404\n",
      "VNQ -2894.909\n",
      "RWX 26961.075\n",
      "TIP 10274.28\n",
      "IEF 1257.265\n",
      "TLT 52633.034\n",
      "BWX -31250.085\n",
      "DBC -66079.485\n",
      "GLD 47232.264\n",
      "twtr 2473.784\n",
      "intc -3111.764\n",
      "tsm -36655.931\n",
      "VWUSX 19739.853\n",
      "Amc -82187.555\n"
     ]
    }
   ],
   "source": [
    "print(\"Nombre d'action acheté pour chaque symbols: \")\n",
    "r = pd.DataFrame([assets,pos])\n",
    "for i in range(len(assets)):\n",
    "    print(assets[i],pos[i].round(3))"
   ]
  },
  {
   "cell_type": "code",
   "execution_count": null,
   "metadata": {},
   "outputs": [],
   "source": []
  },
  {
   "cell_type": "code",
   "execution_count": null,
   "metadata": {},
   "outputs": [],
   "source": []
  },
  {
   "cell_type": "code",
   "execution_count": null,
   "metadata": {},
   "outputs": [],
   "source": []
  }
 ],
 "metadata": {
  "kernelspec": {
   "display_name": "Python 3",
   "language": "python",
   "name": "python3"
  },
  "language_info": {
   "codemirror_mode": {
    "name": "ipython",
    "version": 3
   },
   "file_extension": ".py",
   "mimetype": "text/x-python",
   "name": "python",
   "nbconvert_exporter": "python",
   "pygments_lexer": "ipython3",
   "version": "3.8.3"
  }
 },
 "nbformat": 4,
 "nbformat_minor": 5
}
