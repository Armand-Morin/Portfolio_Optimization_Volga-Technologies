{
 "cells": [
  {
   "cell_type": "code",
   "execution_count": 1,
   "metadata": {
    "jupyter": {
     "outputs_hidden": true
    },
    "tags": []
   },
   "outputs": [
    {
     "name": "stderr",
     "output_type": "stream",
     "text": [
      "C:\\Users\\Amaury\\anaconda3\\lib\\site-packages\\pyfolio\\pos.py:26: UserWarning: Module \"zipline.assets\" not found; mutltipliers will not be applied to position notionals.\n",
      "  warnings.warn(\n"
     ]
    }
   ],
   "source": [
    "import pandas as pd\n",
    "import numpy as np\n",
    "import yfinance as yf\n",
    "from scipy.optimize import minimize, Bounds\n",
    "import matplotlib.pyplot as plt\n",
    "from datetime import date\n",
    "from tqdm.notebook import tqdm_notebook\n",
    "import math\n",
    "import time\n",
    "import pyfolio as pf\n",
    "%matplotlib inline"
   ]
  },
  {
   "cell_type": "code",
   "execution_count": 2,
   "metadata": {},
   "outputs": [],
   "source": [
    "def get_data(assets, start_date, end_date, time_interval):\n",
    "    return yf.download(assets, \n",
    "                          start = start_date, \n",
    "                          end = end_date,\n",
    "                          interval = time_interval,\n",
    "                          threads = True,\n",
    "                          progress = False)['Adj Close']"
   ]
  },
  {
   "cell_type": "code",
   "execution_count": 20,
   "metadata": {
    "jupyter": {
     "outputs_hidden": true
    },
    "scrolled": true,
    "tags": []
   },
   "outputs": [
    {
     "data": {
      "text/plain": [
       "'returns = np.log(all_stocks/all_stocks.shift(1))\\nreturns.fillna(0)\\nreturns_raw = returns.iloc[1: , :]\\n\\nint((returns_raw.shape[0]-253)/20)'"
      ]
     },
     "execution_count": 20,
     "metadata": {},
     "output_type": "execute_result"
    }
   ],
   "source": [
    "assets  = [ 'SPY', \"QQQ\", \"VGK\", \"SCZ\", \"EWJ\", \"EEM\", #eq\n",
    "           'REM', \"VNQ\", \"RWX\", # re\n",
    "           'TIP', \"IEF\", \"TLT\", \"BWX\", #fi\n",
    "           'DBC', \"GLD\", #como\n",
    "           'twtr', 'intc', 'tsm',\"VWUSX\", \"Amc\"]\n",
    "\n",
    "\n",
    "# ----------- DATES ------\n",
    "start_train_date = '2020-01-01'\n",
    "end_train_date = '2021-01-01'\n",
    "start_test_date = end_train_date\n",
    "end_test_date = date.today()\n",
    "interval = \"1d\"\n",
    "\n",
    "\n",
    "all_stocks = get_data(assets, '2014-01-01', '2022-01-01', \"1d\")\n",
    "\n",
    "\"\"\"returns = np.log(all_stocks/all_stocks.shift(1))\n",
    "returns.fillna(0)\n",
    "returns_raw = returns.iloc[1: , :]\n",
    "\n",
    "int((returns_raw.shape[0]-253)/20)\"\"\""
   ]
  },
  {
   "cell_type": "markdown",
   "metadata": {},
   "source": [
    "Initialisation des variables"
   ]
  },
  {
   "cell_type": "code",
   "execution_count": 4,
   "metadata": {},
   "outputs": [],
   "source": [
    "def init(Money, periode_trades):\n",
    "    \n",
    "    global memo, X, cash, argent_gagne, couts_transaction, s, argent_fait, pf_value, pos, pos2, bounds, nb_actifs, returns_raw\n",
    "    \n",
    "    # Variables utilisées dans l'algorithme\n",
    "\n",
    "    returns = np.log(all_stocks/all_stocks.shift(periode_trades))\n",
    "    returns.fillna(0)\n",
    "    returns_raw = returns.iloc[periode_trades: , :]\n",
    "    \n",
    "    cash = Money\n",
    "    win = 0\n",
    "    argent_gagne = 0\n",
    "    cout = 0\n",
    "    couts_transaction = 0\n",
    "    s = 0\n",
    "    nb_actifs = returns_raw.shape[1]\n",
    "    argent_fait = [Money]\n",
    "    pf_value = 0\n",
    "    X = []\n",
    "    memo = {}\n",
    "\n",
    "    # pos = portefeuille initialement vide\n",
    "    pos = np.array([0 for i in range(nb_actifs)])\n"
   ]
  },
  {
   "cell_type": "markdown",
   "metadata": {},
   "source": [
    "Fonctions objectif et coûts de transaction"
   ]
  },
  {
   "cell_type": "code",
   "execution_count": null,
   "metadata": {},
   "outputs": [],
   "source": []
  },
  {
   "cell_type": "code",
   "execution_count": 5,
   "metadata": {},
   "outputs": [],
   "source": [
    "def objective_cov(pos, returns, covar_matrix, alpha, memoisation, pospre,vp):\n",
    "    global s\n",
    "    if memoisation:\n",
    "        x = str(pos)\n",
    "        if x not in memo:\n",
    "            s = pos@covar_matrix@pos - alpha*returns@pos +TC(pospre,pos,vp)\n",
    "            memo[x] = s\n",
    "        else:\n",
    "            s = memo[x]\n",
    "            # print(\"la mémo a été utile\")\n",
    "    else:\n",
    "        s = pos@covar_matrix@pos - alpha*returns@pos +TC(pospre,pos,vp)\n",
    "    \n",
    "    # print(f\"Valeur de la fonction objectif : {s.round(3)}\")\n",
    "    return s\n",
    "\n",
    "def TC(pos,pos2, vp):\n",
    "    return lamb*(np.sum(np.array([np.abs((pos2[i]-pos[i])) for i in range(nb_actifs)])))\n"
   ]
  },
  {
   "cell_type": "markdown",
   "metadata": {},
   "source": [
    "Import des données roulantes à l'étape i"
   ]
  },
  {
   "cell_type": "code",
   "execution_count": 6,
   "metadata": {},
   "outputs": [],
   "source": [
    "def import_donnees(etape):\n",
    "    global X\n",
    "    \n",
    "    # import des données roulantes, on calcule à partir des données de l'année précédente\n",
    "    log_returns = returns_raw.iloc[etape:253+etape, :]\n",
    "    # calcul des expected returns (par Standard Moving Average, et on prend une période plus courte)\n",
    "    expected_returns_SMA = log_returns.iloc[-jours_returns:: ,:].mean()\n",
    "    # calcul des expected returns (par Exponential Moving Average)\n",
    "    expected_returns_EMA = log_returns.iloc[-jours_returns*3:: ,:].ewm(span=jours_returns, adjust=False).mean().iloc[-1,:]\n",
    "    \n",
    "    # calcul de la matrice de covariance\n",
    "    covar = log_returns.cov().copy()\n",
    "    covar_matrix = covar.to_numpy()\n",
    "    \n",
    "    correl = log_returns.corr().copy()\n",
    "    correl_matrix = correl.to_numpy()\n",
    "\n",
    "    # calcul du vecteur prix des actifs à t (le temps de la décision) et t + 1jour\n",
    "    vp = all_stocks[253+etape::].values[0]\n",
    "    vp2 = all_stocks[253+etape+periode_trades::].values[0]\n",
    "    \n",
    "    expected_returns = np.array([expected_returns_EMA[i]*vp[i] for i in range(nb_actifs)])\n",
    "\n",
    "    #X.append(str(returns_raw.iloc[253+etape].name).split()[0])\n",
    "    #print(str(log_returns.iloc[-1].name).split()[0])\n",
    "    memo = {}\n",
    "    \n",
    "    return expected_returns, covar_matrix, vp, vp2, memo"
   ]
  },
  {
   "cell_type": "markdown",
   "metadata": {},
   "source": [
    "Fonctions contraintes"
   ]
  },
  {
   "cell_type": "code",
   "execution_count": 7,
   "metadata": {},
   "outputs": [],
   "source": [
    "#def cons1(x,Money,vp):\n",
    "    # on ne peut pas investir plus que ce qu'on possède\n",
    "    #return Money - np.sum([x[i]*vp[i] for i in range(nb_actifs)])\n",
    "\n",
    "def cons2(x,cash,pos,vp):\n",
    "    # pour payer les coûts de transaction, il faut soit utiliser du cash soit vendre des positions (pour un prix -delta_P*vp)\n",
    "    return cash + np.sum([(pos[i]-x[i])*vp[i] for i in range(nb_actifs)]) - TC(pos,x,vp)\n",
    "\n",
    "def cons3(x,returns,vp, gain_cible):\n",
    "    # on veut au moins que le gain soit supérieur à gain_cible\n",
    "    return np.sum([returns[i]*vp[i]*x[i] for i in range(nb_actifs)]) - gain_cible\n",
    "def cons4(x,pos,dPmax):\n",
    "    return dPmax-max([abs(x[i]-pos[i]) for i in range (nb_actifs)])"
   ]
  },
  {
   "cell_type": "markdown",
   "metadata": {},
   "source": [
    "Calcul de l'optimisation roulante"
   ]
  },
  {
   "cell_type": "code",
   "execution_count": 22,
   "metadata": {
    "jupyter": {
     "outputs_hidden": true
    },
    "scrolled": true,
    "tags": []
   },
   "outputs": [],
   "source": [
    "D_lambd = []\n",
    "D = []\n",
    "def compute_portfolio(lamb, alpha, Money, Pos_max_par_actif, jours_returns, periode_trades, nb_etapes, gain_cible, debug=True):\n",
    "    \n",
    "\n",
    "    global pf_value, pos, pos2, argent_gagne, cout, win, cash, couts_transaction, pospre\n",
    "    global Test_pos, Test_TC, Test_money, Test_cash, TCs, Moneys, Cashs\n",
    "    \n",
    "    init(Money, periode_trades)\n",
    "    Test_pos = [[0 for i in range(nb_actifs)]]\n",
    "    Test_TC = [0]\n",
    "    Test_money = [0]\n",
    "    Test_cash = [0]\n",
    "    TCs = [0]\n",
    "    Moneys = [0]\n",
    "    Cashs = [0]\n",
    "    if debug:\n",
    "        print(\"Argent injecté au départ:\", Money)\n",
    "\n",
    "\n",
    "    for i in tqdm_notebook(range(min(nb_etapes,int((returns_raw.shape[0]-253)/periode_trades)))):\n",
    "\n",
    "        # calcul des returns, de la matrice de variance, des vecteurs prix\n",
    "        returns, covar_matrix, vp, vp2, memo = import_donnees(i*periode_trades)\n",
    "\n",
    "        cons = (#{\"type\":\"ineq\", \"fun\": lambda x: cons1(x,Money,vp)}, --> contrainte finalement inutile vis à vis de la seconde\n",
    "               #{\"type\": \"ineq\", \"fun\": lambda x: cons2(x,cash,pos,vp)},\n",
    "               {\"type\": \"ineq\", \"fun\": lambda x: cons3(x,returns,vp, gain_cible)},\n",
    "            {\"type\": \"ineq\", \"fun\": lambda x: cons4(x,pos,dPmax)}\n",
    "            \n",
    "               )\n",
    "        \n",
    "        bounds = Bounds(-Pos_max_par_actif, Pos_max_par_actif)\n",
    "        \n",
    "        # calcul du vecteur position\n",
    "        p = minimize(objective_cov, pos, \n",
    "                 method = \"SLSQP\",\n",
    "                 bounds = bounds,\n",
    "                 constraints = cons,\n",
    "                args=(returns, covar_matrix, alpha, memoisation, pos,vp),\n",
    "                options={'maxiter': 300, 'ftol':1e-10})\n",
    "        if not p.success:\n",
    "            print(\"False\",p.message)\n",
    "            #newpos=pos\n",
    "        newpos=p.x\n",
    "            \n",
    "        cout = TC(pos,newpos, vp)\n",
    "        \n",
    "        TCs.append(cout)\n",
    "        test_cout = TC(Test_pos[-1],[fact*newpos[i] for i in range(len(newpos))],vp)\n",
    "        Test_TC.append(test_cout)\n",
    "        \"\"\"\n",
    "        print(cons1(p.x,Money,vp))\n",
    "        print(cons2(p.x,cash,pos,vp))\n",
    "        print(\"gain espéré\",cons3(p.x,returns,vp,gain_cible)+gain_cible)\"\"\"\n",
    "        \n",
    "        couts_transaction += cout\n",
    "\n",
    "        pos = newpos # les positions prises en fin de journée\n",
    "        Test_pos.append([fact*pos[i] for i in range(len(pos))])\n",
    "        \n",
    "        pf2_value = np.sum([pos[i]*vp[i] for i in range(nb_actifs)])\n",
    "\n",
    "\n",
    "        cash_restant = Money - (pf2_value + cout) # = valeur totale à t-1 - argent ivesti à t\n",
    "        cash = cash_restant # l'argent que l'algo décide de ne pas investir\n",
    "        \n",
    "        test_cash = Test_money[-1] - np.sum([Test_pos[-1][i]*vp[i] for i in range(nb_actifs)]) - test_cout\n",
    "        Test_cash.append(test_cash)\n",
    "        Cashs.append(cash)\n",
    "\n",
    "        if debug:\n",
    "            print(\"\\n\",\"Etape {}:\".format(i))\n",
    "\n",
    "            # affichage des valeurs numériques\n",
    "            print('\\033[94m'+\"Somme des positions: \"+str(pf2_value)+'\\033[0m')\n",
    "            print('\\033[92m'+\"Coûts de transaction: \"+str(cout)+'\\033[0m')\n",
    "            print(\"cash :\", cash.round(6))\n",
    "            print(f\"La valeur de la fonction objectif:{s}\")\n",
    "\n",
    "        # mise à jour à chaque actualisation des prix\n",
    "        pf_value = np.sum([pos[i]*vp2[i] for i in range(nb_actifs)])\n",
    "        Money = pf_value + cash\n",
    "        Test_money.append(np.sum([Test_pos[-1][i]*vp2[i] for i in range(nb_actifs)]) + test_cash)\n",
    "        argent_fait.append(Money)\n",
    "        D.append(argent_fait)\n",
    "        D_lambd.append(argent_fait)\n",
    "        win = pf_value - pf2_value\n",
    "        argent_gagne += win\n",
    "        if debug:\n",
    "            print('\\033[94m'+\"Somme des positions: \"+str(pf_value)+'\\033[0m')\n",
    "            print('\\033[95m'+\"Argent généré sans TC : \"+str(win)+'\\033[0m')\n",
    "            print('\\033[96m'+\"Money :\"+str(Money)+'\\033[0m', \"\\n\")\n",
    "\n",
    "        \n",
    "        \"\"\"print('\\033[95m'+\"Gain réel sans TC : \"+str(win)+'\\033[0m')\n",
    "        print('\\033[92m'+\"Coûts de transaction: \"+str(cout)+'\\033[0m')\n",
    "        print('\\033[96m'+\"Money :\"+str(Money)+'\\033[0m', \"\\n\")\"\"\"\n",
    "        \n",
    "    if debug:\n",
    "        print(\"\\n\",\"fin du calcul\")\n",
    "\n",
    "    print('\\033[95m'+\"Argent total généré sans TC : \"+str(argent_gagne)+'\\033[0m')\n",
    "    print('\\033[92m'+\"Coûts totaux de transaction: \"+str(couts_transaction)+'\\033[0m')\n",
    "    print('\\033[96m'+\"Money :\"+str(Money)+'\\033[0m', \"\\n\")\n"
   ]
  },
  {
   "cell_type": "code",
   "execution_count": 31,
   "metadata": {
    "scrolled": true
   },
   "outputs": [
    {
     "data": {
      "application/vnd.jupyter.widget-view+json": {
       "model_id": "d17eb31f4baa4b7cb68789ca23266890",
       "version_major": 2,
       "version_minor": 0
      },
      "text/plain": [
       "HBox(children=(FloatProgress(value=0.0, max=60.0), HTML(value='')))"
      ]
     },
     "metadata": {},
     "output_type": "display_data"
    },
    {
     "name": "stdout",
     "output_type": "stream",
     "text": [
      "False Iteration limit reached\n",
      "False Iteration limit reached\n",
      "False Inequality constraints incompatible\n",
      "False Inequality constraints incompatible\n",
      "False Inequality constraints incompatible\n",
      "False Inequality constraints incompatible\n",
      "False Inequality constraints incompatible\n",
      "False Inequality constraints incompatible\n",
      "False Inequality constraints incompatible\n",
      "False Iteration limit reached\n",
      "False Inequality constraints incompatible\n",
      "False Inequality constraints incompatible\n",
      "False Inequality constraints incompatible\n",
      "False Iteration limit reached\n",
      "False Inequality constraints incompatible\n",
      "False Iteration limit reached\n",
      "False Iteration limit reached\n",
      "False Iteration limit reached\n",
      "False Iteration limit reached\n",
      "False Iteration limit reached\n",
      "False Iteration limit reached\n",
      "False Iteration limit reached\n",
      "False Iteration limit reached\n",
      "False Iteration limit reached\n",
      "False Inequality constraints incompatible\n",
      "False Inequality constraints incompatible\n",
      "False Inequality constraints incompatible\n",
      "False Inequality constraints incompatible\n",
      "False Inequality constraints incompatible\n",
      "False Inequality constraints incompatible\n",
      "False Inequality constraints incompatible\n",
      "False Inequality constraints incompatible\n",
      "False Inequality constraints incompatible\n",
      "False Inequality constraints incompatible\n",
      "False Inequality constraints incompatible\n",
      "False Iteration limit reached\n",
      "False Iteration limit reached\n",
      "False Iteration limit reached\n",
      "False Inequality constraints incompatible\n",
      "False Inequality constraints incompatible\n",
      "False Inequality constraints incompatible\n",
      "False Iteration limit reached\n",
      "False Inequality constraints incompatible\n",
      "False Inequality constraints incompatible\n",
      "False Inequality constraints incompatible\n",
      "False Inequality constraints incompatible\n",
      "False Inequality constraints incompatible\n",
      "False Inequality constraints incompatible\n",
      "False Inequality constraints incompatible\n",
      "False Inequality constraints incompatible\n",
      "False Inequality constraints incompatible\n",
      "\n",
      "\u001b[95mArgent total généré sans TC : 15074.359530294452\u001b[0m\n",
      "\u001b[92mCoûts totaux de transaction: 55.47695652407515\u001b[0m\n",
      "\u001b[96mMoney :15018.882573770374\u001b[0m \n",
      "\n",
      "\u001b[90mTemps d'exécution: 65.27588248252869\u001b[0m\n"
     ]
    },
    {
     "data": {
      "image/png": "[encoded data removed]",
      "text/plain": [
       "<Figure size 432x288 with 1 Axes>"
      ]
     },
     "metadata": {
      "needs_background": "light"
     },
     "output_type": "display_data"
    }
   ],
   "source": [
    "# Paramètres modifiables\n",
    "\n",
    "lamb = 0.01 # Coûts de transaction ; faire attention car sinon il n'y a pas de mouvements de position\n",
    "alpha = 1 # importance accordée à l'expected return\n",
    "Money = 0 # argent alloué pour l'investissement initial\n",
    "Pos_max_par_actif = 10000 # quantité maximale d'argent investi par actif\n",
    "jours_returns = 10 # les n derniers jours qui servent pour calculer les expected returns\n",
    "periode_trades = 20 # le nombre de jours ouvrés qui séparent chaque décision\n",
    "memoisation = True\n",
    "dPmax = 10\n",
    "gain_cible = 0.015\n",
    "fact=10000\n",
    "\n",
    "start = time.time()\n",
    "compute_portfolio(lamb, alpha, Money, Pos_max_par_actif, jours_returns, periode_trades,60, gain_cible, False)\n",
    "end = time.time()\n",
    "print('\\033[90m'+\"Temps d'exécution: \"+format(end-start)+'\\033[0m')\n",
    "\n",
    "\n",
    "plt.plot(argent_fait)\n",
    "plt.title(\"Evolution de la valeur du portfolio\")\n",
    "plt.show()"
   ]
  },
  {
   "cell_type": "code",
   "execution_count": 10,
   "metadata": {},
   "outputs": [
    {
     "name": "stdout",
     "output_type": "stream",
     "text": [
      "Pente moyenne : 510.4401 par période\n",
      "[0, 339.2998371672138, 826.4252152889535, 899.7641730596615, 995.0660564188729, 932.5371051235888, 1058.7336718776912, 1252.2775344627378, 1361.4647725014415, 1350.9401901821307, 1152.5448555705166, 1369.259069030827, 1387.192982549208, 1539.484053168821, 1604.6669200081997, 1333.6137731479048, 1270.774149754653, 1220.4155024081624, 1091.2448403008607, 1115.3527535603353, 1331.2769812811857, 1294.225679521839, 1225.9136333332804, 1191.2078865494254, 1104.8283916050423, 1398.0311053994592, 1637.3089952351975, 1926.266931326013, 1979.5703321679357, 2179.9264222684396, 2365.1804113335193, 2620.2956543186565, 2758.6820251576046, 2821.0961420593394, 2824.9174436624626, 3037.9943775991687, 3208.5575827408866, 3365.018974914162, 3766.853776967232, 3363.0144528763367, 3580.710834143888, 4156.0829593833005, 4385.624684983857, 4976.371191521328, 4798.815807702402, 5783.305911429612, 6904.094231551448, 6783.512625978721, 8775.467795380524, 8491.39820587022, 10195.646934327651, 9079.555185754545, 9337.55004305148, 9348.598253146602, 9366.67621318676, 9601.85495929131, 10693.041521064091, 10647.373422209645, 12400.57620908238, 12193.297239543817, 12761.002717596204]\n",
      "0.08018397467655003\n",
      "[1.4356781959835556, 0.088742400902017, 0.10591873538944756, -0.06283899535305072, 0.13532605411703977, 0.18280693976776197, 0.08719092615962974, -0.0077303375980664404, -0.14685723028557385, 0.18803104487680494, 0.013097531302878043, 0.10978362241982492, 0.04234072233824605, -0.16891551977584846, -0.04711980684251862, -0.03962832211861829, -0.10584154482831305, 0.0220921211896204, 0.1935927687734623, -0.02783139968640444, -0.05278217490924542, -0.02831010753138408, -0.07251420673061429]\n"
     ]
    }
   ],
   "source": [
    "print(\"Pente moyenne :\", int(10000*argent_fait[-1]/(25))/10000,\"par période\")\n",
    "L=[]\n",
    "print(argent_fait)\n",
    "for i in range(2,25):\n",
    "    L.append((argent_fait[i]-argent_fait[i-1])/argent_fait[i-1])\n",
    "test = np.array(L)\n",
    "print(np.mean(test))\n",
    "print(L)"
   ]
  },
  {
   "cell_type": "markdown",
   "metadata": {},
   "source": [
    "Test"
   ]
  },
  {
   "cell_type": "code",
   "execution_count": 11,
   "metadata": {},
   "outputs": [
    {
     "data": {
      "image/png": "[encoded data removed]",
      "text/plain": [
       "<Figure size 432x288 with 1 Axes>"
      ]
     },
     "metadata": {
      "needs_background": "light"
     },
     "output_type": "display_data"
    }
   ],
   "source": [
    "plt.plot(Test_money,'r', label=\"cas démultiplié\")\n",
    "plt.plot(argent_fait,'g', label=\"cas de base\")\n",
    "plt.legend()\n",
    "plt.title(\"Evolution de la valeur du portfolio\")\n",
    "plt.show()"
   ]
  },
  {
   "cell_type": "code",
   "execution_count": 12,
   "metadata": {},
   "outputs": [
    {
     "data": {
      "image/png": "[encoded data removed]",
      "text/plain": [
       "<Figure size 432x288 with 1 Axes>"
      ]
     },
     "metadata": {
      "needs_background": "light"
     },
     "output_type": "display_data"
    }
   ],
   "source": [
    "plt.plot(Test_TC,'r', label=\"cas démultiplié\")\n",
    "#plt.plot([TCs[i] for i in range(len(TCs))],'g', label=\"cas de base\")\n",
    "plt.legend()\n",
    "plt.title(\"Evolution de la valeur des TC\")\n",
    "plt.show()"
   ]
  },
  {
   "cell_type": "code",
   "execution_count": 13,
   "metadata": {},
   "outputs": [
    {
     "data": {
      "image/png": "[encoded data removed]",
      "text/plain": [
       "<Figure size 432x288 with 1 Axes>"
      ]
     },
     "metadata": {
      "needs_background": "light"
     },
     "output_type": "display_data"
    }
   ],
   "source": [
    "#plt.plot(Test_cash,'r', label=\"cas démultiplié\")\n",
    "plt.plot([Cashs[i] for i in range(len(Cashs))],'g', label=\"cas de base\")\n",
    "plt.legend()\n",
    "plt.title(\"Evolution du cash\")\n",
    "plt.show()"
   ]
  },
  {
   "cell_type": "markdown",
   "metadata": {},
   "source": [
    "Calcul du drawdown"
   ]
  },
  {
   "cell_type": "code",
   "execution_count": 14,
   "metadata": {},
   "outputs": [
    {
     "data": {
      "text/plain": [
       "0.31995554548149807"
      ]
     },
     "execution_count": 14,
     "metadata": {},
     "output_type": "execute_result"
    }
   ],
   "source": [
    "drawdown = -math.inf\n",
    "maxi = -math.inf\n",
    "mini = math.inf\n",
    "i = 0\n",
    "details = False # afficher plus de détails\n",
    "\n",
    "for x in argent_fait:\n",
    "    if x > maxi:\n",
    "        if details :\n",
    "            print(\"max atteint en{}:{}\".format(i, argent_fait[i]) )\n",
    "        maxi = x\n",
    "        mini = math.inf\n",
    "    elif x < mini:\n",
    "        if details:\n",
    "            print(\"min atteint en{}:{}\".format(i, argent_fait[i]) )\n",
    "        mini = x\n",
    "        if maxi != 0:\n",
    "            drawdown = max(drawdown, (maxi-mini)/maxi)\n",
    "    i+=1\n",
    "\n",
    "drawdown"
   ]
  },
  {
   "cell_type": "code",
   "execution_count": 15,
   "metadata": {},
   "outputs": [
    {
     "data": {
      "text/plain": [
       "array([ -7.263,  46.966,  45.505, -81.943, -31.875,  38.045,  89.731,\n",
       "        67.365, -36.2  ,  38.458,  12.913, -65.987,   9.286,  25.375,\n",
       "        16.741, -24.408, -22.593, -68.981, 123.931,  27.295])"
      ]
     },
     "execution_count": 15,
     "metadata": {},
     "output_type": "execute_result"
    }
   ],
   "source": [
    "pos.round(3)"
   ]
  },
  {
   "cell_type": "code",
   "execution_count": 16,
   "metadata": {
    "scrolled": true
   },
   "outputs": [
    {
     "data": {
      "image/png": "[encoded data removed]",
      "text/plain": [
       "<Figure size 432x288 with 1 Axes>"
      ]
     },
     "metadata": {
      "needs_background": "light"
     },
     "output_type": "display_data"
    },
    {
     "name": "stdout",
     "output_type": "stream",
     "text": [
      "L'argent est le plus investi dans l'action: VWUSX\n"
     ]
    }
   ],
   "source": [
    "plt.plot([pos[i] for i in range(len(pos))])\n",
    "plt.title(\"Argent investi dans chaque stock\")\n",
    "plt.show()\n",
    "print(\"L'argent est le plus investi dans l'action: \"+assets[np.argmax(pos)])"
   ]
  },
  {
   "cell_type": "code",
   "execution_count": 17,
   "metadata": {
    "scrolled": true
   },
   "outputs": [
    {
     "name": "stdout",
     "output_type": "stream",
     "text": [
      "Nombre d'action acheté pour chaque symbols: \n",
      "SPY -7.263\n",
      "QQQ 46.966\n",
      "VGK 45.505\n",
      "SCZ -81.943\n",
      "EWJ -31.875\n",
      "EEM 38.045\n",
      "REM 89.731\n",
      "VNQ 67.365\n",
      "RWX -36.2\n",
      "TIP 38.458\n",
      "IEF 12.913\n",
      "TLT -65.987\n",
      "BWX 9.286\n",
      "DBC 25.375\n",
      "GLD 16.741\n",
      "twtr -24.408\n",
      "intc -22.593\n",
      "tsm -68.981\n",
      "VWUSX 123.931\n",
      "Amc 27.295\n"
     ]
    }
   ],
   "source": [
    "print(\"Nombre d'action acheté pour chaque symbols: \")\n",
    "r = pd.DataFrame([assets,pos])\n",
    "for i in range(len(assets)):\n",
    "    print(assets[i],pos[i].round(3))"
   ]
  },
  {
   "cell_type": "markdown",
   "metadata": {},
   "source": [
    "# Influence de alpha"
   ]
  },
  {
   "cell_type": "code",
   "execution_count": 23,
   "metadata": {},
   "outputs": [
    {
     "data": {
      "application/vnd.jupyter.widget-view+json": {
       "model_id": "a26eeca83a814476b2839e19a3ebbc89",
       "version_major": 2,
       "version_minor": 0
      },
      "text/plain": [
       "HBox(children=(FloatProgress(value=0.0, max=87.0), HTML(value='')))"
      ]
     },
     "metadata": {},
     "output_type": "display_data"
    },
    {
     "name": "stdout",
     "output_type": "stream",
     "text": [
      "False Inequality constraints incompatible\n",
      "False Inequality constraints incompatible\n",
      "False Inequality constraints incompatible\n",
      "False Inequality constraints incompatible\n",
      "False Inequality constraints incompatible\n",
      "False Inequality constraints incompatible\n",
      "False Inequality constraints incompatible\n",
      "False Inequality constraints incompatible\n",
      "False Iteration limit reached\n",
      "False Iteration limit reached\n",
      "False Inequality constraints incompatible\n",
      "False Inequality constraints incompatible\n",
      "False Inequality constraints incompatible\n",
      "False Inequality constraints incompatible\n",
      "False Inequality constraints incompatible\n",
      "False Inequality constraints incompatible\n",
      "False Inequality constraints incompatible\n",
      "False Inequality constraints incompatible\n",
      "False Inequality constraints incompatible\n",
      "False Inequality constraints incompatible\n",
      "False Inequality constraints incompatible\n",
      "False Inequality constraints incompatible\n",
      "False Inequality constraints incompatible\n",
      "False Inequality constraints incompatible\n",
      "False Inequality constraints incompatible\n",
      "False Inequality constraints incompatible\n",
      "False Inequality constraints incompatible\n",
      "False Inequality constraints incompatible\n",
      "False Inequality constraints incompatible\n",
      "False Inequality constraints incompatible\n",
      "False Inequality constraints incompatible\n",
      "False Inequality constraints incompatible\n",
      "False Inequality constraints incompatible\n",
      "False Inequality constraints incompatible\n",
      "False Inequality constraints incompatible\n",
      "False Iteration limit reached\n",
      "False Iteration limit reached\n",
      "False Inequality constraints incompatible\n",
      "False Inequality constraints incompatible\n",
      "False Iteration limit reached\n",
      "False Iteration limit reached\n",
      "False Iteration limit reached\n",
      "False Iteration limit reached\n",
      "False Iteration limit reached\n",
      "False Inequality constraints incompatible\n",
      "False Inequality constraints incompatible\n",
      "False Inequality constraints incompatible\n",
      "False Inequality constraints incompatible\n",
      "False Inequality constraints incompatible\n",
      "False Inequality constraints incompatible\n",
      "False Inequality constraints incompatible\n",
      "False Inequality constraints incompatible\n",
      "False Inequality constraints incompatible\n",
      "False Inequality constraints incompatible\n",
      "False Inequality constraints incompatible\n",
      "False Inequality constraints incompatible\n",
      "False Inequality constraints incompatible\n",
      "False Inequality constraints incompatible\n",
      "False Inequality constraints incompatible\n",
      "False Inequality constraints incompatible\n",
      "False Inequality constraints incompatible\n",
      "False Inequality constraints incompatible\n",
      "False Inequality constraints incompatible\n",
      "False Iteration limit reached\n",
      "False Iteration limit reached\n",
      "False Iteration limit reached\n",
      "False Iteration limit reached\n",
      "\n",
      "\u001b[95mArgent total généré sans TC : 6948.406656023862\u001b[0m\n",
      "\u001b[92mCoûts totaux de transaction: 23.61410346121556\u001b[0m\n",
      "\u001b[96mMoney :6924.7925525626415\u001b[0m \n",
      "\n"
     ]
    },
    {
     "data": {
      "application/vnd.jupyter.widget-view+json": {
       "model_id": "734fc1752d04410d8674e6ad3e56ff84",
       "version_major": 2,
       "version_minor": 0
      },
      "text/plain": [
       "HBox(children=(FloatProgress(value=0.0, max=87.0), HTML(value='')))"
      ]
     },
     "metadata": {},
     "output_type": "display_data"
    },
    {
     "name": "stdout",
     "output_type": "stream",
     "text": [
      "False Iteration limit reached\n",
      "False Iteration limit reached\n",
      "False Iteration limit reached\n",
      "False Iteration limit reached\n",
      "False Iteration limit reached\n",
      "False Inequality constraints incompatible\n",
      "False Inequality constraints incompatible\n",
      "False Inequality constraints incompatible\n",
      "False Inequality constraints incompatible\n",
      "False Inequality constraints incompatible\n",
      "False Inequality constraints incompatible\n",
      "False Inequality constraints incompatible\n",
      "False Inequality constraints incompatible\n",
      "False Inequality constraints incompatible\n",
      "False Inequality constraints incompatible\n",
      "False Inequality constraints incompatible\n",
      "False Inequality constraints incompatible\n",
      "False Iteration limit reached\n",
      "False Iteration limit reached\n",
      "False Inequality constraints incompatible\n",
      "False Inequality constraints incompatible\n",
      "False Inequality constraints incompatible\n",
      "False Inequality constraints incompatible\n",
      "False Inequality constraints incompatible\n",
      "False Inequality constraints incompatible\n",
      "False Inequality constraints incompatible\n",
      "False Inequality constraints incompatible\n",
      "False Inequality constraints incompatible\n",
      "False Inequality constraints incompatible\n",
      "False Inequality constraints incompatible\n",
      "False Inequality constraints incompatible\n",
      "False Inequality constraints incompatible\n",
      "False Inequality constraints incompatible\n",
      "False Inequality constraints incompatible\n",
      "False Inequality constraints incompatible\n",
      "False Inequality constraints incompatible\n",
      "False Inequality constraints incompatible\n",
      "False Inequality constraints incompatible\n",
      "False Inequality constraints incompatible\n",
      "False Inequality constraints incompatible\n",
      "False Inequality constraints incompatible\n",
      "False Inequality constraints incompatible\n",
      "False Inequality constraints incompatible\n",
      "False Inequality constraints incompatible\n",
      "False Inequality constraints incompatible\n",
      "False Inequality constraints incompatible\n",
      "False Inequality constraints incompatible\n",
      "False Inequality constraints incompatible\n",
      "False Inequality constraints incompatible\n",
      "False Inequality constraints incompatible\n",
      "False Inequality constraints incompatible\n",
      "False Inequality constraints incompatible\n",
      "False Inequality constraints incompatible\n",
      "False Inequality constraints incompatible\n",
      "False Inequality constraints incompatible\n",
      "False Inequality constraints incompatible\n",
      "False Inequality constraints incompatible\n",
      "False Inequality constraints incompatible\n",
      "False Inequality constraints incompatible\n",
      "False Inequality constraints incompatible\n",
      "False Inequality constraints incompatible\n",
      "False Inequality constraints incompatible\n",
      "False Inequality constraints incompatible\n",
      "False Inequality constraints incompatible\n",
      "False Inequality constraints incompatible\n",
      "False Inequality constraints incompatible\n",
      "False Inequality constraints incompatible\n",
      "False Inequality constraints incompatible\n",
      "False Inequality constraints incompatible\n",
      "False Inequality constraints incompatible\n",
      "False Inequality constraints incompatible\n",
      "False Inequality constraints incompatible\n",
      "False Inequality constraints incompatible\n",
      "False Inequality constraints incompatible\n",
      "False Inequality constraints incompatible\n",
      "False Inequality constraints incompatible\n",
      "False Inequality constraints incompatible\n",
      "False Inequality constraints incompatible\n",
      "False Inequality constraints incompatible\n",
      "False Inequality constraints incompatible\n",
      "False Inequality constraints incompatible\n",
      "False Iteration limit reached\n",
      "False Inequality constraints incompatible\n",
      "False Inequality constraints incompatible\n",
      "\n",
      "\u001b[95mArgent total généré sans TC : 19399.12916979222\u001b[0m\n",
      "\u001b[92mCoûts totaux de transaction: 18.206848605387787\u001b[0m\n",
      "\u001b[96mMoney :19380.922321186834\u001b[0m \n",
      "\n"
     ]
    },
    {
     "data": {
      "application/vnd.jupyter.widget-view+json": {
       "model_id": "2a24468f5c9346d9a3f540a1c4713845",
       "version_major": 2,
       "version_minor": 0
      },
      "text/plain": [
       "HBox(children=(FloatProgress(value=0.0, max=87.0), HTML(value='')))"
      ]
     },
     "metadata": {},
     "output_type": "display_data"
    },
    {
     "name": "stdout",
     "output_type": "stream",
     "text": [
      "False Iteration limit reached\n",
      "False Iteration limit reached\n",
      "False Iteration limit reached\n",
      "False Iteration limit reached\n",
      "False Iteration limit reached\n",
      "False Iteration limit reached\n",
      "False Iteration limit reached\n",
      "False Iteration limit reached\n",
      "False Iteration limit reached\n",
      "False Iteration limit reached\n",
      "False Iteration limit reached\n",
      "False Iteration limit reached\n",
      "False Iteration limit reached\n",
      "False Iteration limit reached\n",
      "False Iteration limit reached\n",
      "False Iteration limit reached\n",
      "False Iteration limit reached\n",
      "False Iteration limit reached\n",
      "False Iteration limit reached\n",
      "False Iteration limit reached\n",
      "False Inequality constraints incompatible\n",
      "False Inequality constraints incompatible\n",
      "False Inequality constraints incompatible\n",
      "False Inequality constraints incompatible\n",
      "False Inequality constraints incompatible\n",
      "False Inequality constraints incompatible\n",
      "False Inequality constraints incompatible\n",
      "False Inequality constraints incompatible\n",
      "False Inequality constraints incompatible\n",
      "False Iteration limit reached\n",
      "False Inequality constraints incompatible\n",
      "False Inequality constraints incompatible\n",
      "False Inequality constraints incompatible\n",
      "False Inequality constraints incompatible\n",
      "False Inequality constraints incompatible\n",
      "False Inequality constraints incompatible\n",
      "False Inequality constraints incompatible\n",
      "False Inequality constraints incompatible\n",
      "False Inequality constraints incompatible\n",
      "False Inequality constraints incompatible\n",
      "False Inequality constraints incompatible\n",
      "False Inequality constraints incompatible\n",
      "False Inequality constraints incompatible\n",
      "False Iteration limit reached\n",
      "False Iteration limit reached\n",
      "False Iteration limit reached\n",
      "False Iteration limit reached\n",
      "False Iteration limit reached\n",
      "False Inequality constraints incompatible\n",
      "False Iteration limit reached\n",
      "False Iteration limit reached\n",
      "False Iteration limit reached\n",
      "False Iteration limit reached\n",
      "False Iteration limit reached\n",
      "False Iteration limit reached\n",
      "False Iteration limit reached\n",
      "False Iteration limit reached\n",
      "False Iteration limit reached\n",
      "False Inequality constraints incompatible\n",
      "False Inequality constraints incompatible\n",
      "False Inequality constraints incompatible\n",
      "False Iteration limit reached\n",
      "False Iteration limit reached\n",
      "False Iteration limit reached\n",
      "False Iteration limit reached\n",
      "False Iteration limit reached\n",
      "False Iteration limit reached\n",
      "False Iteration limit reached\n",
      "False Iteration limit reached\n",
      "False Iteration limit reached\n",
      "False Inequality constraints incompatible\n",
      "False Inequality constraints incompatible\n",
      "False Inequality constraints incompatible\n",
      "False Inequality constraints incompatible\n",
      "False Inequality constraints incompatible\n",
      "\n",
      "\u001b[95mArgent total généré sans TC : 49730.903815562466\u001b[0m\n",
      "\u001b[92mCoûts totaux de transaction: 112.66554166585051\u001b[0m\n",
      "\u001b[96mMoney :49618.238273896626\u001b[0m \n",
      "\n"
     ]
    }
   ],
   "source": [
    "alp = np.linspace(0.02,0.6,3)\n",
    "for a in alp:\n",
    "    compute_portfolio(lamb, a, Money, Pos_max_par_actif, jours_returns, periode_trades,999, gain_cible, False)"
   ]
  },
  {
   "cell_type": "code",
   "execution_count": 24,
   "metadata": {},
   "outputs": [
    {
     "data": {
      "image/png": "[encoded data removed]",
      "text/plain": [
       "<Figure size 1200x720 with 1 Axes>"
      ]
     },
     "metadata": {
      "needs_background": "light"
     },
     "output_type": "display_data"
    }
   ],
   "source": [
    "from matplotlib.pyplot import figure\n",
    "\n",
    "U=[]\n",
    "for x in D:\n",
    "    if x not in U:\n",
    "        U.append(x)\n",
    "\n",
    "\n",
    "figure(figsize=(15, 9), dpi=80)\n",
    "\n",
    "for i in range(len(U)):\n",
    "    plt.plot(U[i],label=alp[i])\n",
    "plt.legend()\n",
    "plt.title('influence de alpha')\n",
    "plt.show()"
   ]
  },
  {
   "cell_type": "markdown",
   "metadata": {},
   "source": [
    "# Influence de lambda"
   ]
  },
  {
   "cell_type": "code",
   "execution_count": null,
   "metadata": {},
   "outputs": [],
   "source": []
  },
  {
   "cell_type": "code",
   "execution_count": null,
   "metadata": {},
   "outputs": [],
   "source": [
    "l = np.array([0,0.1,1,10])\n",
    "for a in alp:\n",
    "    compute_portfolio(lamb, a, Money, Pos_max_par_actif, jours_returns, periode_trades,999, gain_cible, False)"
   ]
  },
  {
   "cell_type": "code",
   "execution_count": null,
   "metadata": {},
   "outputs": [],
   "source": [
    "from matplotlib.pyplot import figure\n",
    "\n",
    "U=[]\n",
    "for x in D:\n",
    "    if x not in U:\n",
    "        U.append(x)\n",
    "\n",
    "\n",
    "figure(figsize=(15, 9), dpi=80)\n",
    "\n",
    "for i in range(len(U)):\n",
    "    plt.plot(U[i],label=alp[i])\n",
    "plt.legend()\n",
    "plt.title('influence de alpha')\n",
    "plt.show()"
   ]
  },
  {
   "cell_type": "code",
   "execution_count": 39,
   "metadata": {},
   "outputs": [
    {
     "data": {
      "text/plain": [
       "20"
      ]
     },
     "execution_count": 39,
     "metadata": {},
     "output_type": "execute_result"
    }
   ],
   "source": [
    "\n"
   ]
  },
  {
   "cell_type": "code",
   "execution_count": 44,
   "metadata": {},
   "outputs": [
    {
     "data": {
      "text/plain": [
       "2015-01-01 00:00:00+00:00        0.000000\n",
       "2015-02-12 14:48:00+00:00      398.605190\n",
       "2015-03-27 05:36:00+00:00      914.010470\n",
       "2015-05-08 20:24:00+00:00      986.405936\n",
       "2015-06-20 11:12:00+00:00      884.793016\n",
       "                                 ...     \n",
       "2021-07-14 12:48:00+00:00    12347.432932\n",
       "2021-08-26 03:36:00+00:00    12221.878217\n",
       "2021-10-07 18:24:00+00:00    16722.824891\n",
       "2021-11-19 09:12:00+00:00    14818.287783\n",
       "2022-01-01 00:00:00+00:00    15018.882574\n",
       "Name: ret, Length: 61, dtype: float64"
      ]
     },
     "execution_count": 44,
     "metadata": {},
     "output_type": "execute_result"
    }
   ],
   "source": [
    "import pyfolio as pf\n",
    "import warnings\n",
    "from datetime import datetime\n",
    "\n",
    "\n",
    "warnings.filterwarnings('ignore')\n",
    "import matplotlib.pyplot as plt\n",
    "%matplotlib inline\n",
    "\n",
    "\n",
    "L=pd.date_range(datetime(2015,1,1),datetime(2022,1,1), periods=1+min(60,int((returns_raw.shape[0]-253)/periode_trades))).to_numpy()\n",
    "#for i in range(int((all_stocks.shape[0])/periode_trades)):\n",
    " #   etape = i*periode_trades\n",
    "  #  L.append(all_stocks.iloc[etape].name)\n",
    "\n",
    "returns = pd.DataFrame()\n",
    "returns['ret'] = argent_fait\n",
    "\n",
    "returns.index = L\n",
    "\n",
    "returns = returns['ret'].tz_localize('UTC')\n",
    "#returns =returns.reindex(index=returns.index[::-1])\n",
    "returns"
   ]
  },
  {
   "cell_type": "code",
   "execution_count": 45,
   "metadata": {},
   "outputs": [
    {
     "data": {
      "text/html": [
       "<table border=\"1\" class=\"dataframe\">\n",
       "  <thead>\n",
       "    <tr style=\"text-align: right;\"><th>Start date</th><td colspan=2>2015-01-01</td></tr>\n",
       "    <tr style=\"text-align: right;\"><th>End date</th><td colspan=2>2022-01-01</td></tr>\n",
       "    <tr style=\"text-align: right;\"><th>Total months</th><td colspan=2>2</td></tr>\n",
       "    <tr style=\"text-align: right;\">\n",
       "      <th></th>\n",
       "      <th>Backtest</th>\n",
       "    </tr>\n",
       "  </thead>\n",
       "  <tbody>\n",
       "    <tr>\n",
       "      <th>Annual return</th>\n",
       "      <td>nan%</td>\n",
       "    </tr>\n",
       "    <tr>\n",
       "      <th>Cumulative returns</th>\n",
       "      <td>-9.113480618419805e+209%</td>\n",
       "    </tr>\n",
       "    <tr>\n",
       "      <th>Annual volatility</th>\n",
       "      <td>7743407.2%</td>\n",
       "    </tr>\n",
       "    <tr>\n",
       "      <th>Sharpe ratio</th>\n",
       "      <td>18.30</td>\n",
       "    </tr>\n",
       "    <tr>\n",
       "      <th>Calmar ratio</th>\n",
       "      <td>NaN</td>\n",
       "    </tr>\n",
       "    <tr>\n",
       "      <th>Stability</th>\n",
       "      <td>NaN</td>\n",
       "    </tr>\n",
       "    <tr>\n",
       "      <th>Max drawdown</th>\n",
       "      <td>-1.7500517346775912e+176%</td>\n",
       "    </tr>\n",
       "    <tr>\n",
       "      <th>Omega ratio</th>\n",
       "      <td>871.70</td>\n",
       "    </tr>\n",
       "    <tr>\n",
       "      <th>Sortino ratio</th>\n",
       "      <td>1769.73</td>\n",
       "    </tr>\n",
       "    <tr>\n",
       "      <th>Skew</th>\n",
       "      <td>0.42</td>\n",
       "    </tr>\n",
       "    <tr>\n",
       "      <th>Kurtosis</th>\n",
       "      <td>-1.07</td>\n",
       "    </tr>\n",
       "    <tr>\n",
       "      <th>Tail ratio</th>\n",
       "      <td>124.28</td>\n",
       "    </tr>\n",
       "    <tr>\n",
       "      <th>Daily value at risk</th>\n",
       "      <td>-413174.5%</td>\n",
       "    </tr>\n",
       "  </tbody>\n",
       "</table>"
      ],
      "text/plain": [
       "<IPython.core.display.HTML object>"
      ]
     },
     "metadata": {},
     "output_type": "display_data"
    },
    {
     "ename": "IndexError",
     "evalue": "index -1 is out of bounds for axis 0 with size 0",
     "output_type": "error",
     "traceback": [
      "\u001b[1;31m---------------------------------------------------------------------------\u001b[0m",
      "\u001b[1;31mIndexError\u001b[0m                                Traceback (most recent call last)",
      "\u001b[1;32m<ipython-input-45-14ea3ae20a60>\u001b[0m in \u001b[0;36m<module>\u001b[1;34m\u001b[0m\n\u001b[1;32m----> 1\u001b[1;33m \u001b[0mpf\u001b[0m\u001b[1;33m.\u001b[0m\u001b[0mcreate_full_tear_sheet\u001b[0m\u001b[1;33m(\u001b[0m\u001b[0mreturns\u001b[0m\u001b[1;33m)\u001b[0m\u001b[1;33m\u001b[0m\u001b[1;33m\u001b[0m\u001b[0m\n\u001b[0m",
      "\u001b[1;32m~\\anaconda3\\lib\\site-packages\\pyfolio\\tears.py\u001b[0m in \u001b[0;36mcreate_full_tear_sheet\u001b[1;34m(returns, positions, transactions, market_data, benchmark_rets, slippage, live_start_date, sector_mappings, bayesian, round_trips, estimate_intraday, hide_positions, cone_std, bootstrap, unadjusted_returns, style_factor_panel, sectors, caps, shares_held, volumes, percentile, turnover_denom, set_context, factor_returns, factor_loadings, pos_in_dollars, header_rows, factor_partitions)\u001b[0m\n\u001b[0;32m    199\u001b[0m                                      positions, transactions)\n\u001b[0;32m    200\u001b[0m \u001b[1;33m\u001b[0m\u001b[0m\n\u001b[1;32m--> 201\u001b[1;33m     create_returns_tear_sheet(\n\u001b[0m\u001b[0;32m    202\u001b[0m         \u001b[0mreturns\u001b[0m\u001b[1;33m,\u001b[0m\u001b[1;33m\u001b[0m\u001b[1;33m\u001b[0m\u001b[0m\n\u001b[0;32m    203\u001b[0m         \u001b[0mpositions\u001b[0m\u001b[1;33m=\u001b[0m\u001b[0mpositions\u001b[0m\u001b[1;33m,\u001b[0m\u001b[1;33m\u001b[0m\u001b[1;33m\u001b[0m\u001b[0m\n",
      "\u001b[1;32m~\\anaconda3\\lib\\site-packages\\pyfolio\\plotting.py\u001b[0m in \u001b[0;36mcall_w_context\u001b[1;34m(*args, **kwargs)\u001b[0m\n\u001b[0;32m     50\u001b[0m         \u001b[1;32mif\u001b[0m \u001b[0mset_context\u001b[0m\u001b[1;33m:\u001b[0m\u001b[1;33m\u001b[0m\u001b[1;33m\u001b[0m\u001b[0m\n\u001b[0;32m     51\u001b[0m             \u001b[1;32mwith\u001b[0m \u001b[0mplotting_context\u001b[0m\u001b[1;33m(\u001b[0m\u001b[1;33m)\u001b[0m\u001b[1;33m,\u001b[0m \u001b[0maxes_style\u001b[0m\u001b[1;33m(\u001b[0m\u001b[1;33m)\u001b[0m\u001b[1;33m:\u001b[0m\u001b[1;33m\u001b[0m\u001b[1;33m\u001b[0m\u001b[0m\n\u001b[1;32m---> 52\u001b[1;33m                 \u001b[1;32mreturn\u001b[0m \u001b[0mfunc\u001b[0m\u001b[1;33m(\u001b[0m\u001b[1;33m*\u001b[0m\u001b[0margs\u001b[0m\u001b[1;33m,\u001b[0m \u001b[1;33m**\u001b[0m\u001b[0mkwargs\u001b[0m\u001b[1;33m)\u001b[0m\u001b[1;33m\u001b[0m\u001b[1;33m\u001b[0m\u001b[0m\n\u001b[0m\u001b[0;32m     53\u001b[0m         \u001b[1;32melse\u001b[0m\u001b[1;33m:\u001b[0m\u001b[1;33m\u001b[0m\u001b[1;33m\u001b[0m\u001b[0m\n\u001b[0;32m     54\u001b[0m             \u001b[1;32mreturn\u001b[0m \u001b[0mfunc\u001b[0m\u001b[1;33m(\u001b[0m\u001b[1;33m*\u001b[0m\u001b[0margs\u001b[0m\u001b[1;33m,\u001b[0m \u001b[1;33m**\u001b[0m\u001b[0mkwargs\u001b[0m\u001b[1;33m)\u001b[0m\u001b[1;33m\u001b[0m\u001b[1;33m\u001b[0m\u001b[0m\n",
      "\u001b[1;32m~\\anaconda3\\lib\\site-packages\\pyfolio\\tears.py\u001b[0m in \u001b[0;36mcreate_returns_tear_sheet\u001b[1;34m(returns, positions, transactions, live_start_date, cone_std, benchmark_rets, bootstrap, turnover_denom, header_rows, return_fig)\u001b[0m\n\u001b[0;32m    502\u001b[0m                              header_rows=header_rows)\n\u001b[0;32m    503\u001b[0m \u001b[1;33m\u001b[0m\u001b[0m\n\u001b[1;32m--> 504\u001b[1;33m     \u001b[0mplotting\u001b[0m\u001b[1;33m.\u001b[0m\u001b[0mshow_worst_drawdown_periods\u001b[0m\u001b[1;33m(\u001b[0m\u001b[0mreturns\u001b[0m\u001b[1;33m)\u001b[0m\u001b[1;33m\u001b[0m\u001b[1;33m\u001b[0m\u001b[0m\n\u001b[0m\u001b[0;32m    505\u001b[0m \u001b[1;33m\u001b[0m\u001b[0m\n\u001b[0;32m    506\u001b[0m     \u001b[0mvertical_sections\u001b[0m \u001b[1;33m=\u001b[0m \u001b[1;36m11\u001b[0m\u001b[1;33m\u001b[0m\u001b[1;33m\u001b[0m\u001b[0m\n",
      "\u001b[1;32m~\\anaconda3\\lib\\site-packages\\pyfolio\\plotting.py\u001b[0m in \u001b[0;36mshow_worst_drawdown_periods\u001b[1;34m(returns, top)\u001b[0m\n\u001b[0;32m   1662\u001b[0m     \"\"\"\n\u001b[0;32m   1663\u001b[0m \u001b[1;33m\u001b[0m\u001b[0m\n\u001b[1;32m-> 1664\u001b[1;33m     \u001b[0mdrawdown_df\u001b[0m \u001b[1;33m=\u001b[0m \u001b[0mtimeseries\u001b[0m\u001b[1;33m.\u001b[0m\u001b[0mgen_drawdown_table\u001b[0m\u001b[1;33m(\u001b[0m\u001b[0mreturns\u001b[0m\u001b[1;33m,\u001b[0m \u001b[0mtop\u001b[0m\u001b[1;33m=\u001b[0m\u001b[0mtop\u001b[0m\u001b[1;33m)\u001b[0m\u001b[1;33m\u001b[0m\u001b[1;33m\u001b[0m\u001b[0m\n\u001b[0m\u001b[0;32m   1665\u001b[0m     utils.print_table(\n\u001b[0;32m   1666\u001b[0m         \u001b[0mdrawdown_df\u001b[0m\u001b[1;33m.\u001b[0m\u001b[0msort_values\u001b[0m\u001b[1;33m(\u001b[0m\u001b[1;34m'Net drawdown in %'\u001b[0m\u001b[1;33m,\u001b[0m \u001b[0mascending\u001b[0m\u001b[1;33m=\u001b[0m\u001b[1;32mFalse\u001b[0m\u001b[1;33m)\u001b[0m\u001b[1;33m,\u001b[0m\u001b[1;33m\u001b[0m\u001b[1;33m\u001b[0m\u001b[0m\n",
      "\u001b[1;32m~\\anaconda3\\lib\\site-packages\\pyfolio\\timeseries.py\u001b[0m in \u001b[0;36mgen_drawdown_table\u001b[1;34m(returns, top)\u001b[0m\n\u001b[0;32m    989\u001b[0m \u001b[1;33m\u001b[0m\u001b[0m\n\u001b[0;32m    990\u001b[0m     \u001b[0mdf_cum\u001b[0m \u001b[1;33m=\u001b[0m \u001b[0mep\u001b[0m\u001b[1;33m.\u001b[0m\u001b[0mcum_returns\u001b[0m\u001b[1;33m(\u001b[0m\u001b[0mreturns\u001b[0m\u001b[1;33m,\u001b[0m \u001b[1;36m1.0\u001b[0m\u001b[1;33m)\u001b[0m\u001b[1;33m\u001b[0m\u001b[1;33m\u001b[0m\u001b[0m\n\u001b[1;32m--> 991\u001b[1;33m     \u001b[0mdrawdown_periods\u001b[0m \u001b[1;33m=\u001b[0m \u001b[0mget_top_drawdowns\u001b[0m\u001b[1;33m(\u001b[0m\u001b[0mreturns\u001b[0m\u001b[1;33m,\u001b[0m \u001b[0mtop\u001b[0m\u001b[1;33m=\u001b[0m\u001b[0mtop\u001b[0m\u001b[1;33m)\u001b[0m\u001b[1;33m\u001b[0m\u001b[1;33m\u001b[0m\u001b[0m\n\u001b[0m\u001b[0;32m    992\u001b[0m     df_drawdowns = pd.DataFrame(index=list(range(top)),\n\u001b[0;32m    993\u001b[0m                                 columns=['Net drawdown in %',\n",
      "\u001b[1;32m~\\anaconda3\\lib\\site-packages\\pyfolio\\timeseries.py\u001b[0m in \u001b[0;36mget_top_drawdowns\u001b[1;34m(returns, top)\u001b[0m\n\u001b[0;32m    954\u001b[0m     \u001b[0mdrawdowns\u001b[0m \u001b[1;33m=\u001b[0m \u001b[1;33m[\u001b[0m\u001b[1;33m]\u001b[0m\u001b[1;33m\u001b[0m\u001b[1;33m\u001b[0m\u001b[0m\n\u001b[0;32m    955\u001b[0m     \u001b[1;32mfor\u001b[0m \u001b[0mt\u001b[0m \u001b[1;32min\u001b[0m \u001b[0mrange\u001b[0m\u001b[1;33m(\u001b[0m\u001b[0mtop\u001b[0m\u001b[1;33m)\u001b[0m\u001b[1;33m:\u001b[0m\u001b[1;33m\u001b[0m\u001b[1;33m\u001b[0m\u001b[0m\n\u001b[1;32m--> 956\u001b[1;33m         \u001b[0mpeak\u001b[0m\u001b[1;33m,\u001b[0m \u001b[0mvalley\u001b[0m\u001b[1;33m,\u001b[0m \u001b[0mrecovery\u001b[0m \u001b[1;33m=\u001b[0m \u001b[0mget_max_drawdown_underwater\u001b[0m\u001b[1;33m(\u001b[0m\u001b[0munderwater\u001b[0m\u001b[1;33m)\u001b[0m\u001b[1;33m\u001b[0m\u001b[1;33m\u001b[0m\u001b[0m\n\u001b[0m\u001b[0;32m    957\u001b[0m         \u001b[1;31m# Slice out draw-down period\u001b[0m\u001b[1;33m\u001b[0m\u001b[1;33m\u001b[0m\u001b[1;33m\u001b[0m\u001b[0m\n\u001b[0;32m    958\u001b[0m         \u001b[1;32mif\u001b[0m \u001b[1;32mnot\u001b[0m \u001b[0mpd\u001b[0m\u001b[1;33m.\u001b[0m\u001b[0misnull\u001b[0m\u001b[1;33m(\u001b[0m\u001b[0mrecovery\u001b[0m\u001b[1;33m)\u001b[0m\u001b[1;33m:\u001b[0m\u001b[1;33m\u001b[0m\u001b[1;33m\u001b[0m\u001b[0m\n",
      "\u001b[1;32m~\\anaconda3\\lib\\site-packages\\pyfolio\\timeseries.py\u001b[0m in \u001b[0;36mget_max_drawdown_underwater\u001b[1;34m(underwater)\u001b[0m\n\u001b[0;32m    893\u001b[0m     \u001b[0mvalley\u001b[0m \u001b[1;33m=\u001b[0m \u001b[0mnp\u001b[0m\u001b[1;33m.\u001b[0m\u001b[0margmin\u001b[0m\u001b[1;33m(\u001b[0m\u001b[0munderwater\u001b[0m\u001b[1;33m)\u001b[0m  \u001b[1;31m# end of the period\u001b[0m\u001b[1;33m\u001b[0m\u001b[1;33m\u001b[0m\u001b[0m\n\u001b[0;32m    894\u001b[0m     \u001b[1;31m# Find first 0\u001b[0m\u001b[1;33m\u001b[0m\u001b[1;33m\u001b[0m\u001b[1;33m\u001b[0m\u001b[0m\n\u001b[1;32m--> 895\u001b[1;33m     \u001b[0mpeak\u001b[0m \u001b[1;33m=\u001b[0m \u001b[0munderwater\u001b[0m\u001b[1;33m[\u001b[0m\u001b[1;33m:\u001b[0m\u001b[0mvalley\u001b[0m\u001b[1;33m]\u001b[0m\u001b[1;33m[\u001b[0m\u001b[0munderwater\u001b[0m\u001b[1;33m[\u001b[0m\u001b[1;33m:\u001b[0m\u001b[0mvalley\u001b[0m\u001b[1;33m]\u001b[0m \u001b[1;33m==\u001b[0m \u001b[1;36m0\u001b[0m\u001b[1;33m]\u001b[0m\u001b[1;33m.\u001b[0m\u001b[0mindex\u001b[0m\u001b[1;33m[\u001b[0m\u001b[1;33m-\u001b[0m\u001b[1;36m1\u001b[0m\u001b[1;33m]\u001b[0m\u001b[1;33m\u001b[0m\u001b[1;33m\u001b[0m\u001b[0m\n\u001b[0m\u001b[0;32m    896\u001b[0m     \u001b[1;31m# Find last 0\u001b[0m\u001b[1;33m\u001b[0m\u001b[1;33m\u001b[0m\u001b[1;33m\u001b[0m\u001b[0m\n\u001b[0;32m    897\u001b[0m     \u001b[1;32mtry\u001b[0m\u001b[1;33m:\u001b[0m\u001b[1;33m\u001b[0m\u001b[1;33m\u001b[0m\u001b[0m\n",
      "\u001b[1;32m~\\anaconda3\\lib\\site-packages\\pandas\\core\\indexes\\extension.py\u001b[0m in \u001b[0;36m__getitem__\u001b[1;34m(self, key)\u001b[0m\n\u001b[0;32m    207\u001b[0m \u001b[1;33m\u001b[0m\u001b[0m\n\u001b[0;32m    208\u001b[0m     \u001b[1;32mdef\u001b[0m \u001b[0m__getitem__\u001b[0m\u001b[1;33m(\u001b[0m\u001b[0mself\u001b[0m\u001b[1;33m,\u001b[0m \u001b[0mkey\u001b[0m\u001b[1;33m)\u001b[0m\u001b[1;33m:\u001b[0m\u001b[1;33m\u001b[0m\u001b[1;33m\u001b[0m\u001b[0m\n\u001b[1;32m--> 209\u001b[1;33m         \u001b[0mresult\u001b[0m \u001b[1;33m=\u001b[0m \u001b[0mself\u001b[0m\u001b[1;33m.\u001b[0m\u001b[0m_data\u001b[0m\u001b[1;33m[\u001b[0m\u001b[0mkey\u001b[0m\u001b[1;33m]\u001b[0m\u001b[1;33m\u001b[0m\u001b[1;33m\u001b[0m\u001b[0m\n\u001b[0m\u001b[0;32m    210\u001b[0m         \u001b[1;32mif\u001b[0m \u001b[0misinstance\u001b[0m\u001b[1;33m(\u001b[0m\u001b[0mresult\u001b[0m\u001b[1;33m,\u001b[0m \u001b[0mtype\u001b[0m\u001b[1;33m(\u001b[0m\u001b[0mself\u001b[0m\u001b[1;33m.\u001b[0m\u001b[0m_data\u001b[0m\u001b[1;33m)\u001b[0m\u001b[1;33m)\u001b[0m\u001b[1;33m:\u001b[0m\u001b[1;33m\u001b[0m\u001b[1;33m\u001b[0m\u001b[0m\n\u001b[0;32m    211\u001b[0m             \u001b[1;32mreturn\u001b[0m \u001b[0mtype\u001b[0m\u001b[1;33m(\u001b[0m\u001b[0mself\u001b[0m\u001b[1;33m)\u001b[0m\u001b[1;33m(\u001b[0m\u001b[0mresult\u001b[0m\u001b[1;33m,\u001b[0m \u001b[0mname\u001b[0m\u001b[1;33m=\u001b[0m\u001b[0mself\u001b[0m\u001b[1;33m.\u001b[0m\u001b[0mname\u001b[0m\u001b[1;33m)\u001b[0m\u001b[1;33m\u001b[0m\u001b[1;33m\u001b[0m\u001b[0m\n",
      "\u001b[1;32m~\\anaconda3\\lib\\site-packages\\pandas\\core\\arrays\\datetimelike.py\u001b[0m in \u001b[0;36m__getitem__\u001b[1;34m(self, key)\u001b[0m\n\u001b[0;32m    512\u001b[0m         \u001b[0mgetitem\u001b[0m \u001b[1;33m=\u001b[0m \u001b[0mself\u001b[0m\u001b[1;33m.\u001b[0m\u001b[0m_data\u001b[0m\u001b[1;33m.\u001b[0m\u001b[0m__getitem__\u001b[0m\u001b[1;33m\u001b[0m\u001b[1;33m\u001b[0m\u001b[0m\n\u001b[0;32m    513\u001b[0m         \u001b[1;32mif\u001b[0m \u001b[0mis_int\u001b[0m\u001b[1;33m:\u001b[0m\u001b[1;33m\u001b[0m\u001b[1;33m\u001b[0m\u001b[0m\n\u001b[1;32m--> 514\u001b[1;33m             \u001b[0mval\u001b[0m \u001b[1;33m=\u001b[0m \u001b[0mgetitem\u001b[0m\u001b[1;33m(\u001b[0m\u001b[0mkey\u001b[0m\u001b[1;33m)\u001b[0m\u001b[1;33m\u001b[0m\u001b[1;33m\u001b[0m\u001b[0m\n\u001b[0m\u001b[0;32m    515\u001b[0m             \u001b[1;32mif\u001b[0m \u001b[0mlib\u001b[0m\u001b[1;33m.\u001b[0m\u001b[0mis_scalar\u001b[0m\u001b[1;33m(\u001b[0m\u001b[0mval\u001b[0m\u001b[1;33m)\u001b[0m\u001b[1;33m:\u001b[0m\u001b[1;33m\u001b[0m\u001b[1;33m\u001b[0m\u001b[0m\n\u001b[0;32m    516\u001b[0m                 \u001b[1;31m# i.e. self.ndim == 1\u001b[0m\u001b[1;33m\u001b[0m\u001b[1;33m\u001b[0m\u001b[1;33m\u001b[0m\u001b[0m\n",
      "\u001b[1;31mIndexError\u001b[0m: index -1 is out of bounds for axis 0 with size 0"
     ]
    }
   ],
   "source": [
    "pf.create_full_tear_sheet(returns)"
   ]
  },
  {
   "cell_type": "code",
   "execution_count": null,
   "metadata": {},
   "outputs": [],
   "source": []
  }
 ],
 "metadata": {
  "kernelspec": {
   "display_name": "Python 3",
   "language": "python",
   "name": "python3"
  },
  "language_info": {
   "codemirror_mode": {
    "name": "ipython",
    "version": 3
   },
   "file_extension": ".py",
   "mimetype": "text/x-python",
   "name": "python",
   "nbconvert_exporter": "python",
   "pygments_lexer": "ipython3",
   "version": "3.8.3"
  }
 },
 "nbformat": 4,
 "nbformat_minor": 5
}
