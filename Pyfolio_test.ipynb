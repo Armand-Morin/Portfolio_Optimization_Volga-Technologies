{
 "cells": [
  {
   "cell_type": "code",
   "execution_count": 1,
   "id": "e5557c88-58f7-44d8-a956-50b929aec2ff",
   "metadata": {
    "tags": []
   },
   "outputs": [
    {
     "name": "stderr",
     "output_type": "stream",
     "text": [
      "/Users/armand_morin/opt/anaconda3/lib/python3.9/site-packages/pyfolio/pos.py:26: UserWarning: Module \"zipline.assets\" not found; multipliers will not be applied to position notionals.\n",
      "  warnings.warn(\n"
     ]
    }
   ],
   "source": [
    "import pyfolio as pf\n",
    "%matplotlib inline"
   ]
  },
  {
   "cell_type": "code",
   "execution_count": null,
   "id": "93eb07cc-4d76-4397-a500-5290e2cd16a4",
   "metadata": {},
   "outputs": [],
   "source": [
    "# Rajouter \n",
    "# D_lambd = []\n",
    "# D = []\n",
    "# D.append(argent_fait)\n",
    "# D_lambd.append(argent_fait)\n",
    "# dans la fonction compute_portfolio apres la ligne\n",
    "# argent_fait.append(Money)"
   ]
  },
  {
   "cell_type": "markdown",
   "id": "c68cca5f-2b51-42ee-bbf1-adf0dd6bd1fa",
   "metadata": {},
   "source": [
    "### Influence de alpha"
   ]
  },
  {
   "cell_type": "code",
   "execution_count": 2,
   "id": "3afdbe60-80d8-405f-a68e-9b7ee82793f7",
   "metadata": {
    "collapsed": true,
    "jupyter": {
     "outputs_hidden": true
    },
    "tags": []
   },
   "outputs": [
    {
     "ename": "NameError",
     "evalue": "name 'np' is not defined",
     "output_type": "error",
     "traceback": [
      "\u001b[0;31m---------------------------------------------------------------------------\u001b[0m",
      "\u001b[0;31mNameError\u001b[0m                                 Traceback (most recent call last)",
      "\u001b[0;32m/var/folders/pg/6ps7_5w931b_cmf3yj_q2nrw0000gn/T/ipykernel_3242/2181495742.py\u001b[0m in \u001b[0;36m<module>\u001b[0;34m\u001b[0m\n\u001b[1;32m      1\u001b[0m \u001b[0mD\u001b[0m \u001b[0;34m=\u001b[0m \u001b[0;34m[\u001b[0m\u001b[0;34m]\u001b[0m\u001b[0;34m\u001b[0m\u001b[0;34m\u001b[0m\u001b[0m\n\u001b[0;32m----> 2\u001b[0;31m \u001b[0malp\u001b[0m \u001b[0;34m=\u001b[0m \u001b[0mnp\u001b[0m\u001b[0;34m.\u001b[0m\u001b[0mlinspace\u001b[0m\u001b[0;34m(\u001b[0m\u001b[0;36m0.02\u001b[0m\u001b[0;34m,\u001b[0m\u001b[0;36m0.6\u001b[0m\u001b[0;34m,\u001b[0m\u001b[0;36m20\u001b[0m\u001b[0;34m)\u001b[0m\u001b[0;34m\u001b[0m\u001b[0;34m\u001b[0m\u001b[0m\n\u001b[0m\u001b[1;32m      3\u001b[0m \u001b[0;32mfor\u001b[0m \u001b[0ma\u001b[0m \u001b[0;32min\u001b[0m \u001b[0malp\u001b[0m\u001b[0;34m:\u001b[0m\u001b[0;34m\u001b[0m\u001b[0;34m\u001b[0m\u001b[0m\n\u001b[1;32m      4\u001b[0m     \u001b[0mcompute_portfolio\u001b[0m\u001b[0;34m(\u001b[0m\u001b[0mlamb\u001b[0m\u001b[0;34m,\u001b[0m \u001b[0ma\u001b[0m\u001b[0;34m,\u001b[0m \u001b[0mMoney\u001b[0m\u001b[0;34m,\u001b[0m \u001b[0mPos_max_par_actif\u001b[0m\u001b[0;34m,\u001b[0m \u001b[0mjours_returns\u001b[0m\u001b[0;34m,\u001b[0m \u001b[0mperiode_trades\u001b[0m\u001b[0;34m,\u001b[0m\u001b[0;36m999\u001b[0m\u001b[0;34m,\u001b[0m \u001b[0mgain_cible\u001b[0m\u001b[0;34m,\u001b[0m \u001b[0;32mFalse\u001b[0m\u001b[0;34m)\u001b[0m\u001b[0;34m\u001b[0m\u001b[0;34m\u001b[0m\u001b[0m\n",
      "\u001b[0;31mNameError\u001b[0m: name 'np' is not defined"
     ]
    }
   ],
   "source": [
    "alp = np.linspace(0.02,0.6,20)\n",
    "for a in alp:\n",
    "    compute_portfolio(lamb, a, Money, Pos_max_par_actif, jours_returns, periode_trades,999, gain_cible, False)"
   ]
  },
  {
   "cell_type": "code",
   "execution_count": null,
   "id": "fec2b137-acdd-46e2-acdc-c6cacd12988e",
   "metadata": {},
   "outputs": [],
   "source": [
    "from matplotlib.pyplot import figure\n",
    "\n",
    "U=[]\n",
    "for x in D:\n",
    "    if x not in U:\n",
    "        U.append(x)\n",
    "\n",
    "\n",
    "figure(figsize=(15, 9), dpi=80)\n",
    "\n",
    "for i in range(len(U)):\n",
    "    plt.plot(U[i],label=alp[i])\n",
    "plt.legend()\n",
    "plt.title('influence de alpha')\n",
    "plt.show()"
   ]
  },
  {
   "cell_type": "markdown",
   "id": "cfed400f-d036-4ec3-9219-8f0a66fb9efa",
   "metadata": {},
   "source": [
    "### Influence de lambda "
   ]
  },
  {
   "cell_type": "code",
   "execution_count": null,
   "id": "c88ca95b-8e98-4b93-af6d-170fb58ba654",
   "metadata": {},
   "outputs": [],
   "source": [
    "lambd = np.linspace(0.0001,0.1,20)\n",
    "for l in lambd:\n",
    "    compute_portfolio(l, alpha, Money, Pos_max_par_actif, jours_returns, periode_trades,999, gain_cible, False)"
   ]
  },
  {
   "cell_type": "code",
   "execution_count": null,
   "id": "d02d11e2-3b20-456c-82ba-3b0d6d190b27",
   "metadata": {},
   "outputs": [],
   "source": [
    "U_lambd=[]\n",
    "for x in D_lambd:\n",
    "    if x not in U_lambd:\n",
    "        U_lambd.append(x)\n",
    "        \n",
    "from matplotlib.pyplot import figure\n",
    "        \n",
    "\n",
    "figure(figsize=(15, 9), dpi=80)\n",
    "for i in range(len(U_lambd)):\n",
    "    plt.plot(U_lambd[i],label=lambd[i])\n",
    "plt.legend()\n",
    "plt.title('influence de lambda')\n",
    "plt.show()"
   ]
  },
  {
   "cell_type": "markdown",
   "id": "18b452d6-9bdb-4e3b-8d04-30c2067c1940",
   "metadata": {},
   "source": [
    "### Analyse par pyfolio"
   ]
  },
  {
   "cell_type": "code",
   "execution_count": null,
   "id": "c3f06cd9-7786-4a50-a10f-dec6d62f7e6c",
   "metadata": {},
   "outputs": [],
   "source": [
    "import pyfolio as pf\n",
    "import warnings\n",
    "warnings.filterwarnings('ignore')\n",
    "import matplotlib.pyplot as plt\n",
    "%matplotlib inline\n",
    "\n",
    "L=[]\n",
    "for i in range(int((all_stocks.shape[0]-253)/periode_trades)):\n",
    "    etape = i*periode_trades\n",
    "    L.append(all_stocks.iloc[253+etape].name)\n",
    "    \n",
    "returns = pd.DataFrame()\n",
    "returns.index = L\n",
    "returns['ret'] = argent_fait\n",
    "returns = returns['ret'].tz_localize('UTC')\n",
    "#returns =returns.reindex(index=returns.index[::-1])\n",
    "returns"
   ]
  },
  {
   "cell_type": "code",
   "execution_count": null,
   "id": "e5341521-a12d-47eb-8495-f504a2729fae",
   "metadata": {},
   "outputs": [],
   "source": [
    "pf.create_full_tear_sheet(returns)"
   ]
  },
  {
   "cell_type": "code",
   "execution_count": null,
   "id": "053f870e-5cbd-4550-a95c-c05ee91ec0c9",
   "metadata": {},
   "outputs": [],
   "source": []
  }
 ],
 "metadata": {
  "kernelspec": {
   "display_name": "Python 3 (ipykernel)",
   "language": "python",
   "name": "python3"
  },
  "language_info": {
   "codemirror_mode": {
    "name": "ipython",
    "version": 3
   },
   "file_extension": ".py",
   "mimetype": "text/x-python",
   "name": "python",
   "nbconvert_exporter": "python",
   "pygments_lexer": "ipython3",
   "version": "3.8.12"
  }
 },
 "nbformat": 4,
 "nbformat_minor": 5
}
