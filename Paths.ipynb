{
 "cells": [
  {
   "cell_type": "code",
   "execution_count": 197,
   "id": "3b0cb570-ede4-4b8b-a2e6-3cf791e50e12",
   "metadata": {},
   "outputs": [],
   "source": [
    "import pandas as pd\n",
    "import numpy as np\n",
    "import yfinance as yf\n",
    "from scipy.optimize import minimize\n",
    "import matplotlib.pyplot as plt\n",
    "from datetime import date\n",
    "import datetime\n",
    "from scipy.optimize import minimize, Bounds"
   ]
  },
  {
   "cell_type": "code",
   "execution_count": 198,
   "id": "2ad68858-2938-4323-8977-b058168b7dda",
   "metadata": {},
   "outputs": [],
   "source": [
    "balance_frame = 'MS'  # 1 month\n",
    "Money = 1000\n",
    "lamb = 0.2 \n",
    "alpha = 2000\n",
    "interval = \"1d\"\n",
    "\n",
    "symbols  = [ 'SPY', \"QQQ\", \"VGK\", \"SCZ\", \"EWJ\", \"EEM\", #eq\n",
    "             'REM', \"VNQ\", \"RWX\", # re\n",
    "             'TIP', \"IEF\", \"TLT\", \"BWX\", #fi\n",
    "             'DBC', \"GLD\", #como\n",
    "             'TWTR', 'INTC', 'TSM',\"VWUSX\", \"AMC\"]\n",
    "\n",
    "# ----------- DATES ------\n",
    "start_train_date = '2020-01-01'\n",
    "end_train_date = '2021-01-01'\n",
    "start_test_date = end_train_date\n",
    "end_test_date = date.today()\n",
    "\n",
    "balancing_dates = pd.date_range(start_test_date, end_test_date, \n",
    "                                freq = balance_frame).strftime(\"%Y-%m-%d\").tolist()\n",
    "\n",
    "\n",
    "today_price = get_data(symbols, date.today() - datetime.timedelta(days = 2),\n",
    "                       date.today(), interval).tail(1)\n",
    "\n"
   ]
  },
  {
   "cell_type": "code",
   "execution_count": 199,
   "id": "a4db7e7b-4f3b-4d22-bebe-e80e0742369c",
   "metadata": {},
   "outputs": [],
   "source": [
    "def portfolio_compute(symbols, lamb, alpha, Money,\n",
    "                      start_date, end_date, time_interval):\n",
    "    \n",
    "    # Pour le portfolio on a besoin de 1 mois de data sur lequelle \n",
    "    # on veut faire tourner le portefeuille ou bien il faut prendre plus de mois \n",
    "    # pour avoir une meilleur estimation\n",
    "    \n",
    "    all_stocks = get_data(symbols, start_date, end_date, time_interval)\n",
    "    \n",
    "    ret = (all_stocks/all_stocks.shift(1)).fillna(0)\n",
    "    ret = ret.iloc[1: , :]\n",
    "    \n",
    "    log_ret = np.log(all_stocks/all_stocks.shift(1)).fillna(0)\n",
    "    log_ret = log_ret.iloc[1: , :]\n",
    "    \n",
    "    cons = ({\"type\":\"eq\", \"fun\": lambda x: all_stocks[-1::].values[0]@np.array(x).T - Money}, \n",
    "            {\"type\": \"ineq\", \"fun\": lambda x: -np.sum(log_ret.mean()*x)+1}) \n",
    " \n",
    "    bounds = Bounds(0, Money)\n",
    "    \n",
    "    \n",
    "    p = minimize(objective_corr, p0, \n",
    "                 method = \"SLSQP\", \n",
    "                 bounds=bounds,\n",
    "                 args=(log_ret,lamb,alpha),\n",
    "                 constraints= cons)\n",
    "    Pos.append(p.x)\n",
    "    \n",
    "    return p.x"
   ]
  },
  {
   "cell_type": "code",
   "execution_count": 200,
   "id": "47c736c9-7f45-45f5-b4b5-7c0f905a08bd",
   "metadata": {},
   "outputs": [],
   "source": [
    "def get_data(symbo, start_date, end_date, time_interval):\n",
    "    data = pd.DataFrame()\n",
    "    for symbol in symbo:\n",
    "        tmp_close = yf.download(symbol, \n",
    "                          start = start_date, \n",
    "                          end = end_date,\n",
    "                          interval = time_interval,\n",
    "                          threads = True,\n",
    "                          progress = False)['Adj Close']\n",
    "        data = pd.concat([data, tmp_close], axis=1)\n",
    "\n",
    "    data.columns = symbo\n",
    "    return data\n",
    "\n",
    "def objective_corr(pos,log_ret,lamb,alpha):\n",
    "    pos = np.array(pos)\n",
    "    s = pos@np.corrcoef(log_ret.iloc[1: , :].fillna(0).T)@pos + lamb*TC(Pos,pos) - alpha*log_ret.mean()@pos\n",
    "    return s\n",
    "\n",
    "def TC(Pos,pos):\n",
    "    if len(Pos)>1:\n",
    "        return np.sum(np.abs(np.array(pos)-np.array(Pos[-1])))\n",
    "    else: \n",
    "        return np.sum(np.abs(np.array(pos)))"
   ]
  },
  {
   "cell_type": "code",
   "execution_count": 201,
   "id": "5822d38a-c245-4a1e-8ffe-2f44468273c4",
   "metadata": {},
   "outputs": [
    {
     "data": {
      "text/plain": [
       "[<matplotlib.lines.Line2D at 0x7f7c61ac1520>]"
      ]
     },
     "execution_count": 201,
     "metadata": {},
     "output_type": "execute_result"
    },
    {
     "data": {
      "image/png": "[encoded data removed]",
      "text/plain": [
       "<Figure size 432x288 with 1 Axes>"
      ]
     },
     "metadata": {
      "needs_background": "light"
     },
     "output_type": "display_data"
    }
   ],
   "source": [
    "plt.plot(portfolio_compute(symbols, lamb, alpha, Money,\n",
    "                        start_date = start_train_date, \n",
    "                        end_date = end_train_date, \n",
    "                        time_interval = interval).round(3))"
   ]
  },
  {
   "cell_type": "code",
   "execution_count": 202,
   "id": "23f596f6-0c09-4bc5-8441-b96cd340ff3c",
   "metadata": {
    "tags": []
   },
   "outputs": [],
   "source": [
    "from tqdm.notebook import tqdm_notebook\n",
    "def backtesting(lamb, alpha):\n",
    "    R = [] # argent gagné chaque mois en moyenne\n",
    "    Pos_money = [] # Quantité d'argent placé par action chaque mois\n",
    "    \n",
    "    Pos = []\n",
    "    p0 = [Money/(today_price.shape[1]*today_price[-1::].values[0][i]) for i in range(today_price.shape[1])]\n",
    "    Pos.append(np.array(p0))\n",
    "\n",
    "    for i in tqdm_notebook(range(len(balancing_dates)-1)):\n",
    "        if i < 2:\n",
    "            s_date = balancing_dates[i]\n",
    "        else : \n",
    "            s_date = balancing_dates[i-2]\n",
    "\n",
    "        portfolio_compute(symbols, lamb, alpha, Money,\n",
    "                          start_date = s_date, \n",
    "                          end_date = balancing_dates[i], \n",
    "                          time_interval = interval)\n",
    "\n",
    "        # Data for back testing  \n",
    "        data_interval = get_data(symbols, balancing_dates[i], balancing_dates[i+1], interval)\n",
    "\n",
    "        month_ret = (data_interval/data_interval.shift(1)).fillna(0).iloc[1: , :] #month return\n",
    "\n",
    "        monthly_earning = month_ret.mean()@Pos[-1]\n",
    "\n",
    "        Pos_money.append(data_interval.tail(1)*Pos[-1])\n",
    "        R.append(monthly_earning)\n",
    "        \n",
    "    return Pos, R, Pos_money\n",
    "    "
   ]
  },
  {
   "cell_type": "code",
   "execution_count": 203,
   "id": "f90a72b6-db0b-42f7-a465-6c3b3f18f6d0",
   "metadata": {
    "collapsed": true,
    "jupyter": {
     "outputs_hidden": true
    },
    "tags": []
   },
   "outputs": [
    {
     "data": {
      "application/vnd.jupyter.widget-view+json": {
       "model_id": "315154cd27324ea49788f48125d33bb6",
       "version_major": 2,
       "version_minor": 0
      },
      "text/plain": [
       "  0%|          | 0/14 [00:00<?, ?it/s]"
      ]
     },
     "metadata": {},
     "output_type": "display_data"
    },
    {
     "name": "stderr",
     "output_type": "stream",
     "text": [
      "/Users/armand_morin/opt/anaconda3/lib/python3.9/site-packages/numpy/lib/function_base.py:380: RuntimeWarning: Mean of empty slice.\n",
      "  avg = a.mean(axis)\n",
      "/Users/armand_morin/opt/anaconda3/lib/python3.9/site-packages/numpy/core/_methods.py:181: RuntimeWarning: invalid value encountered in true_divide\n",
      "  ret = um.true_divide(\n",
      "/Users/armand_morin/opt/anaconda3/lib/python3.9/site-packages/numpy/lib/function_base.py:2683: RuntimeWarning: Degrees of freedom <= 0 for slice\n",
      "  c = cov(x, y, rowvar, dtype=dtype)\n",
      "/Users/armand_morin/opt/anaconda3/lib/python3.9/site-packages/numpy/lib/function_base.py:2542: RuntimeWarning: divide by zero encountered in true_divide\n",
      "  c *= np.true_divide(1, fact)\n",
      "/Users/armand_morin/opt/anaconda3/lib/python3.9/site-packages/numpy/lib/function_base.py:2542: RuntimeWarning: invalid value encountered in multiply\n",
      "  c *= np.true_divide(1, fact)\n"
     ]
    },
    {
     "name": "stdout",
     "output_type": "stream",
     "text": [
      "\n",
      "1 Failed download:\n",
      "- SPY: No data found for this date range, symbol may be delisted\n",
      "\n",
      "1 Failed download:\n",
      "- QQQ: No data found for this date range, symbol may be delisted\n",
      "\n",
      "1 Failed download:\n",
      "- VGK: No data found for this date range, symbol may be delisted\n",
      "\n",
      "1 Failed download:\n",
      "- SCZ: No data found for this date range, symbol may be delisted\n",
      "\n",
      "1 Failed download:\n",
      "- EWJ: No data found for this date range, symbol may be delisted\n",
      "\n",
      "1 Failed download:\n",
      "- EEM: No data found for this date range, symbol may be delisted\n",
      "\n",
      "1 Failed download:\n",
      "- REM: No data found for this date range, symbol may be delisted\n",
      "\n",
      "1 Failed download:\n",
      "- VNQ: No data found for this date range, symbol may be delisted\n",
      "\n",
      "1 Failed download:\n",
      "- RWX: No data found for this date range, symbol may be delisted\n",
      "\n",
      "1 Failed download:\n",
      "- TIP: No data found for this date range, symbol may be delisted\n",
      "\n",
      "1 Failed download:\n",
      "- IEF: No data found for this date range, symbol may be delisted\n",
      "\n",
      "1 Failed download:\n",
      "- TLT: No data found for this date range, symbol may be delisted\n",
      "\n",
      "1 Failed download:\n",
      "- BWX: No data found for this date range, symbol may be delisted\n",
      "\n",
      "1 Failed download:\n",
      "- DBC: No data found for this date range, symbol may be delisted\n",
      "\n",
      "1 Failed download:\n",
      "- GLD: No data found for this date range, symbol may be delisted\n",
      "\n",
      "1 Failed download:\n",
      "- TWTR: No data found for this date range, symbol may be delisted\n",
      "\n",
      "1 Failed download:\n",
      "- INTC: No data found for this date range, symbol may be delisted\n",
      "\n",
      "1 Failed download:\n",
      "- TSM: No data found for this date range, symbol may be delisted\n",
      "\n",
      "1 Failed download:\n",
      "- VWUSX: No data found for this date range, symbol may be delisted\n",
      "\n",
      "1 Failed download:\n",
      "- AMC: No data found for this date range, symbol may be delisted\n"
     ]
    },
    {
     "ename": "IndexError",
     "evalue": "index 0 is out of bounds for axis 0 with size 0",
     "output_type": "error",
     "traceback": [
      "\u001b[0;31m---------------------------------------------------------------------------\u001b[0m",
      "\u001b[0;31mIndexError\u001b[0m                                Traceback (most recent call last)",
      "\u001b[0;32m/var/folders/pg/6ps7_5w931b_cmf3yj_q2nrw0000gn/T/ipykernel_72985/657163124.py\u001b[0m in \u001b[0;36m<module>\u001b[0;34m\u001b[0m\n\u001b[0;32m----> 1\u001b[0;31m \u001b[0mbacktesting\u001b[0m\u001b[0;34m(\u001b[0m\u001b[0mlamb\u001b[0m\u001b[0;34m,\u001b[0m \u001b[0malpha\u001b[0m\u001b[0;34m)\u001b[0m\u001b[0;34m\u001b[0m\u001b[0;34m\u001b[0m\u001b[0m\n\u001b[0m",
      "\u001b[0;32m/var/folders/pg/6ps7_5w931b_cmf3yj_q2nrw0000gn/T/ipykernel_72985/4014517603.py\u001b[0m in \u001b[0;36mbacktesting\u001b[0;34m(lamb, alpha)\u001b[0m\n\u001b[1;32m     14\u001b[0m             \u001b[0ms_date\u001b[0m \u001b[0;34m=\u001b[0m \u001b[0mbalancing_dates\u001b[0m\u001b[0;34m[\u001b[0m\u001b[0mi\u001b[0m\u001b[0;34m-\u001b[0m\u001b[0;36m2\u001b[0m\u001b[0;34m]\u001b[0m\u001b[0;34m\u001b[0m\u001b[0;34m\u001b[0m\u001b[0m\n\u001b[1;32m     15\u001b[0m \u001b[0;34m\u001b[0m\u001b[0m\n\u001b[0;32m---> 16\u001b[0;31m         portfolio_compute(symbols, lamb, alpha, Money,\n\u001b[0m\u001b[1;32m     17\u001b[0m                           \u001b[0mstart_date\u001b[0m \u001b[0;34m=\u001b[0m \u001b[0ms_date\u001b[0m\u001b[0;34m,\u001b[0m\u001b[0;34m\u001b[0m\u001b[0;34m\u001b[0m\u001b[0m\n\u001b[1;32m     18\u001b[0m                           \u001b[0mend_date\u001b[0m \u001b[0;34m=\u001b[0m \u001b[0mbalancing_dates\u001b[0m\u001b[0;34m[\u001b[0m\u001b[0mi\u001b[0m\u001b[0;34m]\u001b[0m\u001b[0;34m,\u001b[0m\u001b[0;34m\u001b[0m\u001b[0;34m\u001b[0m\u001b[0m\n",
      "\u001b[0;32m/var/folders/pg/6ps7_5w931b_cmf3yj_q2nrw0000gn/T/ipykernel_72985/486230997.py\u001b[0m in \u001b[0;36mportfolio_compute\u001b[0;34m(symbols, lamb, alpha, Money, start_date, end_date, time_interval)\u001b[0m\n\u001b[1;32m     20\u001b[0m \u001b[0;34m\u001b[0m\u001b[0m\n\u001b[1;32m     21\u001b[0m \u001b[0;34m\u001b[0m\u001b[0m\n\u001b[0;32m---> 22\u001b[0;31m     p = minimize(objective_corr, p0, \n\u001b[0m\u001b[1;32m     23\u001b[0m                  \u001b[0mmethod\u001b[0m \u001b[0;34m=\u001b[0m \u001b[0;34m\"SLSQP\"\u001b[0m\u001b[0;34m,\u001b[0m\u001b[0;34m\u001b[0m\u001b[0;34m\u001b[0m\u001b[0m\n\u001b[1;32m     24\u001b[0m                  \u001b[0mbounds\u001b[0m\u001b[0;34m=\u001b[0m\u001b[0mbounds\u001b[0m\u001b[0;34m,\u001b[0m\u001b[0;34m\u001b[0m\u001b[0;34m\u001b[0m\u001b[0m\n",
      "\u001b[0;32m~/opt/anaconda3/lib/python3.9/site-packages/scipy/optimize/_minimize.py\u001b[0m in \u001b[0;36mminimize\u001b[0;34m(fun, x0, args, method, jac, hess, hessp, bounds, constraints, tol, callback, options)\u001b[0m\n\u001b[1;32m    629\u001b[0m         \u001b[0;32mreturn\u001b[0m \u001b[0m_minimize_cobyla\u001b[0m\u001b[0;34m(\u001b[0m\u001b[0mfun\u001b[0m\u001b[0;34m,\u001b[0m \u001b[0mx0\u001b[0m\u001b[0;34m,\u001b[0m \u001b[0margs\u001b[0m\u001b[0;34m,\u001b[0m \u001b[0mconstraints\u001b[0m\u001b[0;34m,\u001b[0m \u001b[0;34m**\u001b[0m\u001b[0moptions\u001b[0m\u001b[0;34m)\u001b[0m\u001b[0;34m\u001b[0m\u001b[0;34m\u001b[0m\u001b[0m\n\u001b[1;32m    630\u001b[0m     \u001b[0;32melif\u001b[0m \u001b[0mmeth\u001b[0m \u001b[0;34m==\u001b[0m \u001b[0;34m'slsqp'\u001b[0m\u001b[0;34m:\u001b[0m\u001b[0;34m\u001b[0m\u001b[0;34m\u001b[0m\u001b[0m\n\u001b[0;32m--> 631\u001b[0;31m         return _minimize_slsqp(fun, x0, args, jac, bounds,\n\u001b[0m\u001b[1;32m    632\u001b[0m                                constraints, callback=callback, **options)\n\u001b[1;32m    633\u001b[0m     \u001b[0;32melif\u001b[0m \u001b[0mmeth\u001b[0m \u001b[0;34m==\u001b[0m \u001b[0;34m'trust-constr'\u001b[0m\u001b[0;34m:\u001b[0m\u001b[0;34m\u001b[0m\u001b[0;34m\u001b[0m\u001b[0m\n",
      "\u001b[0;32m~/opt/anaconda3/lib/python3.9/site-packages/scipy/optimize/slsqp.py\u001b[0m in \u001b[0;36m_minimize_slsqp\u001b[0;34m(func, x0, args, jac, bounds, constraints, maxiter, ftol, iprint, disp, eps, callback, finite_diff_rel_step, **unknown_options)\u001b[0m\n\u001b[1;32m    326\u001b[0m     \u001b[0;31m# Set the parameters that SLSQP will need\u001b[0m\u001b[0;34m\u001b[0m\u001b[0;34m\u001b[0m\u001b[0m\n\u001b[1;32m    327\u001b[0m     \u001b[0;31m# meq, mieq: number of equality and inequality constraints\u001b[0m\u001b[0;34m\u001b[0m\u001b[0;34m\u001b[0m\u001b[0m\n\u001b[0;32m--> 328\u001b[0;31m     meq = sum(map(len, [atleast_1d(c['fun'](x, *c['args']))\n\u001b[0m\u001b[1;32m    329\u001b[0m               for c in cons['eq']]))\n\u001b[1;32m    330\u001b[0m     mieq = sum(map(len, [atleast_1d(c['fun'](x, *c['args']))\n",
      "\u001b[0;32m~/opt/anaconda3/lib/python3.9/site-packages/scipy/optimize/slsqp.py\u001b[0m in \u001b[0;36m<listcomp>\u001b[0;34m(.0)\u001b[0m\n\u001b[1;32m    326\u001b[0m     \u001b[0;31m# Set the parameters that SLSQP will need\u001b[0m\u001b[0;34m\u001b[0m\u001b[0;34m\u001b[0m\u001b[0m\n\u001b[1;32m    327\u001b[0m     \u001b[0;31m# meq, mieq: number of equality and inequality constraints\u001b[0m\u001b[0;34m\u001b[0m\u001b[0;34m\u001b[0m\u001b[0m\n\u001b[0;32m--> 328\u001b[0;31m     meq = sum(map(len, [atleast_1d(c['fun'](x, *c['args']))\n\u001b[0m\u001b[1;32m    329\u001b[0m               for c in cons['eq']]))\n\u001b[1;32m    330\u001b[0m     mieq = sum(map(len, [atleast_1d(c['fun'](x, *c['args']))\n",
      "\u001b[0;32m/var/folders/pg/6ps7_5w931b_cmf3yj_q2nrw0000gn/T/ipykernel_72985/486230997.py\u001b[0m in \u001b[0;36m<lambda>\u001b[0;34m(x)\u001b[0m\n\u001b[1;32m     14\u001b[0m     \u001b[0mlog_ret\u001b[0m \u001b[0;34m=\u001b[0m \u001b[0mlog_ret\u001b[0m\u001b[0;34m.\u001b[0m\u001b[0miloc\u001b[0m\u001b[0;34m[\u001b[0m\u001b[0;36m1\u001b[0m\u001b[0;34m:\u001b[0m \u001b[0;34m,\u001b[0m \u001b[0;34m:\u001b[0m\u001b[0;34m]\u001b[0m\u001b[0;34m\u001b[0m\u001b[0;34m\u001b[0m\u001b[0m\n\u001b[1;32m     15\u001b[0m \u001b[0;34m\u001b[0m\u001b[0m\n\u001b[0;32m---> 16\u001b[0;31m     cons = ({\"type\":\"eq\", \"fun\": lambda x: all_stocks[-1::].values[0]@np.array(x).T - Money}, \n\u001b[0m\u001b[1;32m     17\u001b[0m             {\"type\": \"ineq\", \"fun\": lambda x: -np.sum(log_ret.mean()*x)+1}) \n\u001b[1;32m     18\u001b[0m \u001b[0;34m\u001b[0m\u001b[0m\n",
      "\u001b[0;31mIndexError\u001b[0m: index 0 is out of bounds for axis 0 with size 0"
     ]
    }
   ],
   "source": [
    "backtesting(lamb, alpha)"
   ]
  },
  {
   "cell_type": "code",
   "execution_count": 184,
   "id": "1bf4ca6e-8006-4790-9d21-507157edc7e4",
   "metadata": {},
   "outputs": [
    {
     "data": {
      "image/png": "[encoded data removed]",
      "text/plain": [
       "<Figure size 432x288 with 1 Axes>"
      ]
     },
     "metadata": {
      "needs_background": "light"
     },
     "output_type": "display_data"
    }
   ],
   "source": [
    "plt.plot(R,color = 'blue', label = 'money')\n",
    "plt.plot([x/10 for x in R], color = 'red',label = 'percentage')\n",
    "plt.xlabel('months')\n",
    "plt.ylabel('money')\n",
    "plt.legend()\n",
    "plt.title('Argent gagné chaque mois avec un capital initial de ' + str(Money))\n",
    "plt.show()"
   ]
  },
  {
   "cell_type": "code",
   "execution_count": 185,
   "id": "ea98405d-3686-42ed-b33c-659756c16bfb",
   "metadata": {},
   "outputs": [
    {
     "data": {
      "image/png": "[encoded data removed]",
      "text/plain": [
       "<Figure size 432x288 with 1 Axes>"
      ]
     },
     "metadata": {
      "needs_background": "light"
     },
     "output_type": "display_data"
    }
   ],
   "source": [
    "for x in Pos_money:\n",
    "    plt.plot(x.round(3))\n",
    "    \n",
    "plt.plot(np.array(Pos_money).mean(axis = 0),color = 'green')\n",
    "plt.xlabel('symbols')\n",
    "plt.ylabel('number of stocks')\n",
    "plt.title('Répartition des portefeuilles pendant la phase de test')\n",
    "plt.show()"
   ]
  },
  {
   "cell_type": "code",
   "execution_count": null,
   "id": "3704d8f1-1f85-4224-bd54-59f001706e0b",
   "metadata": {},
   "outputs": [],
   "source": [
    "Pos_money"
   ]
  },
  {
   "cell_type": "code",
   "execution_count": null,
   "id": "8e873f9c-055e-4233-bd1c-e20429ef5c25",
   "metadata": {},
   "outputs": [],
   "source": []
  },
  {
   "cell_type": "code",
   "execution_count": 204,
   "id": "65b30741-f0f3-4200-9a69-f05b2d8a792d",
   "metadata": {
    "collapsed": true,
    "jupyter": {
     "outputs_hidden": true
    },
    "tags": []
   },
   "outputs": [
    {
     "data": {
      "application/vnd.jupyter.widget-view+json": {
       "model_id": "bc8778ad194b4af0b14d8c877b407526",
       "version_major": 2,
       "version_minor": 0
      },
      "text/plain": [
       "  0%|          | 0/14 [00:00<?, ?it/s]"
      ]
     },
     "metadata": {},
     "output_type": "display_data"
    },
    {
     "name": "stdout",
     "output_type": "stream",
     "text": [
      "\n",
      "1 Failed download:\n",
      "- SPY: No data found for this date range, symbol may be delisted\n",
      "\n",
      "1 Failed download:\n",
      "- QQQ: No data found for this date range, symbol may be delisted\n",
      "\n",
      "1 Failed download:\n",
      "- VGK: No data found for this date range, symbol may be delisted\n",
      "\n",
      "1 Failed download:\n",
      "- SCZ: No data found for this date range, symbol may be delisted\n",
      "\n",
      "1 Failed download:\n",
      "- EWJ: No data found for this date range, symbol may be delisted\n",
      "\n",
      "1 Failed download:\n",
      "- EEM: No data found for this date range, symbol may be delisted\n",
      "\n",
      "1 Failed download:\n",
      "- REM: No data found for this date range, symbol may be delisted\n",
      "\n",
      "1 Failed download:\n",
      "- VNQ: No data found for this date range, symbol may be delisted\n",
      "\n",
      "1 Failed download:\n",
      "- RWX: No data found for this date range, symbol may be delisted\n",
      "\n",
      "1 Failed download:\n",
      "- TIP: No data found for this date range, symbol may be delisted\n",
      "\n",
      "1 Failed download:\n",
      "- IEF: No data found for this date range, symbol may be delisted\n",
      "\n",
      "1 Failed download:\n",
      "- TLT: No data found for this date range, symbol may be delisted\n",
      "\n",
      "1 Failed download:\n",
      "- BWX: No data found for this date range, symbol may be delisted\n",
      "\n",
      "1 Failed download:\n",
      "- DBC: No data found for this date range, symbol may be delisted\n",
      "\n",
      "1 Failed download:\n",
      "- GLD: No data found for this date range, symbol may be delisted\n",
      "\n",
      "1 Failed download:\n",
      "- TWTR: No data found for this date range, symbol may be delisted\n",
      "\n",
      "1 Failed download:\n",
      "- INTC: No data found for this date range, symbol may be delisted\n",
      "\n",
      "1 Failed download:\n",
      "- TSM: No data found for this date range, symbol may be delisted\n",
      "\n",
      "1 Failed download:\n",
      "- VWUSX: No data found for this date range, symbol may be delisted\n",
      "\n",
      "1 Failed download:\n",
      "- AMC: No data found for this date range, symbol may be delisted\n"
     ]
    },
    {
     "ename": "IndexError",
     "evalue": "index 0 is out of bounds for axis 0 with size 0",
     "output_type": "error",
     "traceback": [
      "\u001b[0;31m---------------------------------------------------------------------------\u001b[0m",
      "\u001b[0;31mIndexError\u001b[0m                                Traceback (most recent call last)",
      "\u001b[0;32m/var/folders/pg/6ps7_5w931b_cmf3yj_q2nrw0000gn/T/ipykernel_72985/276297233.py\u001b[0m in \u001b[0;36m<module>\u001b[0;34m\u001b[0m\n\u001b[1;32m     12\u001b[0m             \u001b[0ms_date\u001b[0m \u001b[0;34m=\u001b[0m \u001b[0mbalancing_dates\u001b[0m\u001b[0;34m[\u001b[0m\u001b[0mi\u001b[0m\u001b[0;34m-\u001b[0m\u001b[0;36m2\u001b[0m\u001b[0;34m]\u001b[0m\u001b[0;34m\u001b[0m\u001b[0;34m\u001b[0m\u001b[0m\n\u001b[1;32m     13\u001b[0m \u001b[0;34m\u001b[0m\u001b[0m\n\u001b[0;32m---> 14\u001b[0;31m         portfolio_compute(symbols, lamb, a, Money,\n\u001b[0m\u001b[1;32m     15\u001b[0m                           \u001b[0mstart_date\u001b[0m \u001b[0;34m=\u001b[0m \u001b[0ms_date\u001b[0m\u001b[0;34m,\u001b[0m\u001b[0;34m\u001b[0m\u001b[0;34m\u001b[0m\u001b[0m\n\u001b[1;32m     16\u001b[0m                           \u001b[0mend_date\u001b[0m \u001b[0;34m=\u001b[0m \u001b[0mbalancing_dates\u001b[0m\u001b[0;34m[\u001b[0m\u001b[0mi\u001b[0m\u001b[0;34m]\u001b[0m\u001b[0;34m,\u001b[0m\u001b[0;34m\u001b[0m\u001b[0;34m\u001b[0m\u001b[0m\n",
      "\u001b[0;32m/var/folders/pg/6ps7_5w931b_cmf3yj_q2nrw0000gn/T/ipykernel_72985/486230997.py\u001b[0m in \u001b[0;36mportfolio_compute\u001b[0;34m(symbols, lamb, alpha, Money, start_date, end_date, time_interval)\u001b[0m\n\u001b[1;32m     20\u001b[0m \u001b[0;34m\u001b[0m\u001b[0m\n\u001b[1;32m     21\u001b[0m \u001b[0;34m\u001b[0m\u001b[0m\n\u001b[0;32m---> 22\u001b[0;31m     p = minimize(objective_corr, p0, \n\u001b[0m\u001b[1;32m     23\u001b[0m                  \u001b[0mmethod\u001b[0m \u001b[0;34m=\u001b[0m \u001b[0;34m\"SLSQP\"\u001b[0m\u001b[0;34m,\u001b[0m\u001b[0;34m\u001b[0m\u001b[0;34m\u001b[0m\u001b[0m\n\u001b[1;32m     24\u001b[0m                  \u001b[0mbounds\u001b[0m\u001b[0;34m=\u001b[0m\u001b[0mbounds\u001b[0m\u001b[0;34m,\u001b[0m\u001b[0;34m\u001b[0m\u001b[0;34m\u001b[0m\u001b[0m\n",
      "\u001b[0;32m~/opt/anaconda3/lib/python3.9/site-packages/scipy/optimize/_minimize.py\u001b[0m in \u001b[0;36mminimize\u001b[0;34m(fun, x0, args, method, jac, hess, hessp, bounds, constraints, tol, callback, options)\u001b[0m\n\u001b[1;32m    629\u001b[0m         \u001b[0;32mreturn\u001b[0m \u001b[0m_minimize_cobyla\u001b[0m\u001b[0;34m(\u001b[0m\u001b[0mfun\u001b[0m\u001b[0;34m,\u001b[0m \u001b[0mx0\u001b[0m\u001b[0;34m,\u001b[0m \u001b[0margs\u001b[0m\u001b[0;34m,\u001b[0m \u001b[0mconstraints\u001b[0m\u001b[0;34m,\u001b[0m \u001b[0;34m**\u001b[0m\u001b[0moptions\u001b[0m\u001b[0;34m)\u001b[0m\u001b[0;34m\u001b[0m\u001b[0;34m\u001b[0m\u001b[0m\n\u001b[1;32m    630\u001b[0m     \u001b[0;32melif\u001b[0m \u001b[0mmeth\u001b[0m \u001b[0;34m==\u001b[0m \u001b[0;34m'slsqp'\u001b[0m\u001b[0;34m:\u001b[0m\u001b[0;34m\u001b[0m\u001b[0;34m\u001b[0m\u001b[0m\n\u001b[0;32m--> 631\u001b[0;31m         return _minimize_slsqp(fun, x0, args, jac, bounds,\n\u001b[0m\u001b[1;32m    632\u001b[0m                                constraints, callback=callback, **options)\n\u001b[1;32m    633\u001b[0m     \u001b[0;32melif\u001b[0m \u001b[0mmeth\u001b[0m \u001b[0;34m==\u001b[0m \u001b[0;34m'trust-constr'\u001b[0m\u001b[0;34m:\u001b[0m\u001b[0;34m\u001b[0m\u001b[0;34m\u001b[0m\u001b[0m\n",
      "\u001b[0;32m~/opt/anaconda3/lib/python3.9/site-packages/scipy/optimize/slsqp.py\u001b[0m in \u001b[0;36m_minimize_slsqp\u001b[0;34m(func, x0, args, jac, bounds, constraints, maxiter, ftol, iprint, disp, eps, callback, finite_diff_rel_step, **unknown_options)\u001b[0m\n\u001b[1;32m    326\u001b[0m     \u001b[0;31m# Set the parameters that SLSQP will need\u001b[0m\u001b[0;34m\u001b[0m\u001b[0;34m\u001b[0m\u001b[0m\n\u001b[1;32m    327\u001b[0m     \u001b[0;31m# meq, mieq: number of equality and inequality constraints\u001b[0m\u001b[0;34m\u001b[0m\u001b[0;34m\u001b[0m\u001b[0m\n\u001b[0;32m--> 328\u001b[0;31m     meq = sum(map(len, [atleast_1d(c['fun'](x, *c['args']))\n\u001b[0m\u001b[1;32m    329\u001b[0m               for c in cons['eq']]))\n\u001b[1;32m    330\u001b[0m     mieq = sum(map(len, [atleast_1d(c['fun'](x, *c['args']))\n",
      "\u001b[0;32m~/opt/anaconda3/lib/python3.9/site-packages/scipy/optimize/slsqp.py\u001b[0m in \u001b[0;36m<listcomp>\u001b[0;34m(.0)\u001b[0m\n\u001b[1;32m    326\u001b[0m     \u001b[0;31m# Set the parameters that SLSQP will need\u001b[0m\u001b[0;34m\u001b[0m\u001b[0;34m\u001b[0m\u001b[0m\n\u001b[1;32m    327\u001b[0m     \u001b[0;31m# meq, mieq: number of equality and inequality constraints\u001b[0m\u001b[0;34m\u001b[0m\u001b[0;34m\u001b[0m\u001b[0m\n\u001b[0;32m--> 328\u001b[0;31m     meq = sum(map(len, [atleast_1d(c['fun'](x, *c['args']))\n\u001b[0m\u001b[1;32m    329\u001b[0m               for c in cons['eq']]))\n\u001b[1;32m    330\u001b[0m     mieq = sum(map(len, [atleast_1d(c['fun'](x, *c['args']))\n",
      "\u001b[0;32m/var/folders/pg/6ps7_5w931b_cmf3yj_q2nrw0000gn/T/ipykernel_72985/486230997.py\u001b[0m in \u001b[0;36m<lambda>\u001b[0;34m(x)\u001b[0m\n\u001b[1;32m     14\u001b[0m     \u001b[0mlog_ret\u001b[0m \u001b[0;34m=\u001b[0m \u001b[0mlog_ret\u001b[0m\u001b[0;34m.\u001b[0m\u001b[0miloc\u001b[0m\u001b[0;34m[\u001b[0m\u001b[0;36m1\u001b[0m\u001b[0;34m:\u001b[0m \u001b[0;34m,\u001b[0m \u001b[0;34m:\u001b[0m\u001b[0;34m]\u001b[0m\u001b[0;34m\u001b[0m\u001b[0;34m\u001b[0m\u001b[0m\n\u001b[1;32m     15\u001b[0m \u001b[0;34m\u001b[0m\u001b[0m\n\u001b[0;32m---> 16\u001b[0;31m     cons = ({\"type\":\"eq\", \"fun\": lambda x: all_stocks[-1::].values[0]@np.array(x).T - Money}, \n\u001b[0m\u001b[1;32m     17\u001b[0m             {\"type\": \"ineq\", \"fun\": lambda x: -np.sum(log_ret.mean()*x)+1}) \n\u001b[1;32m     18\u001b[0m \u001b[0;34m\u001b[0m\u001b[0m\n",
      "\u001b[0;31mIndexError\u001b[0m: index 0 is out of bounds for axis 0 with size 0"
     ]
    }
   ],
   "source": [
    "Calib_a = []\n",
    "A = [200,500,700,1000,1200,1500,1700,2000,2200,2500,2700,3000,3200,3500,3700,4000,4500,5000,5500]\n",
    "\n",
    "for a in A:\n",
    "    lamb = 0.2\n",
    "    alpha = a \n",
    "    \n",
    "    for i in tqdm_notebook(range(len(balancing_dates)-1)):\n",
    "        if i < 2:\n",
    "            s_date = balancing_dates[i]\n",
    "        else : \n",
    "            s_date = balancing_dates[i-2]\n",
    "\n",
    "        portfolio_compute(symbols, lamb, a, Money,\n",
    "                          start_date = s_date, \n",
    "                          end_date = balancing_dates[i], \n",
    "                          time_interval = interval)\n",
    "  \n",
    "        data_interval = get_data(symbols, balancing_dates[i], balancing_dates[i+1], interval)\n",
    "\n",
    "        month_ret = (data_interval/data_interval.shift(1)).fillna(0).iloc[1: , :]\n",
    "\n",
    "        monthly_earning = month_ret.mean()@Pos[-1]\n",
    "        Calib_a.append(monthly_earning)\n",
    "    \n",
    "plt.append(Calib_a)"
   ]
  },
  {
   "cell_type": "code",
   "execution_count": null,
   "id": "1362f7c8-5981-4bfe-abfd-26f03c0960f9",
   "metadata": {},
   "outputs": [],
   "source": []
  }
 ],
 "metadata": {
  "kernelspec": {
   "display_name": "Python 3 (ipykernel)",
   "language": "python",
   "name": "python3"
  },
  "language_info": {
   "codemirror_mode": {
    "name": "ipython",
    "version": 3
   },
   "file_extension": ".py",
   "mimetype": "text/x-python",
   "name": "python",
   "nbconvert_exporter": "python",
   "pygments_lexer": "ipython3",
   "version": "3.9.7"
  }
 },
 "nbformat": 4,
 "nbformat_minor": 5
}
